{
 "cells": [
  {
   "cell_type": "markdown",
   "metadata": {},
   "source": [
    "# 📊Research: <br> Determination of the prospective tariff for the Megaline telecom company\n",
    "***\n",
    "\n",
    "### Project Description\n",
    "Megaline Company is a federal mobile operator. Customers are offered two tariff plans: Smart and Ultra. In order to adjust the advertising budget, the commercial department wants to understand which tariff brings more money.\n",
    "\n",
    "It is necessary to make a preliminary analysis of tariffs on a small sample of customers. At your disposal are the data of 500 Megaline users: who they are, where they come from, what tariff they use, how many calls and messages each one sent in 2018. It is necessary to analyze customer behavior and conclude which tariff is better."
   ]
  },
  {
   "cell_type": "markdown",
   "metadata": {},
   "source": [
    "### Description of the sequence of actions <a class=\"anchor\" id=\"contents\"></a>\n",
    "- [Step 1. Learning General Information](#first-bullet)<br>\n",
    "<br>\n",
    "- [Step 2. Data preprocessing](#second-bullet)<br>\n",
    "    - [2.1. Data Type Changes](#second2-1-bullet)<br>\n",
    "    - [2.2. Search and Correction of Data Errors](#second2-2-bullet)<br>\n",
    "    - [2.3. Counting for each user:](#second2-3-bullet)<br>\n",
    "        - [2.3.1. The number of calls made and minutes spent talking per month;](#second2-3-1-bullet)<br>\n",
    "        - [2.3.2. The number of messages sent by month;](#second2-3-2-bullet)<br>\n",
    "        - [2.3.3. Monthly Internet traffic spent;](#second2-3-3-bullet)<br>\n",
    "        - [2.3.4. Monthly revenue from each user](#second2-3-4-bullet)<br>\n",
    "<br>\n",
    "- [Step 3. Data Analysis](#third-bullet)<br>\n",
    "    - [3.1. Description of operator customer behavior based on the sample](#second3-1-bullet)<br>\n",
    "    - [3.2. Calculation of average quantity, variance and standard deviation](#second3-2-bullet)<br>\n",
    "    - [3.3. Distribution histograms](#second3-3-bullet)<br>\n",
    "    - [3.4. Description of the resulting distributions](#second3-4-bullet)<br>\n",
    "<br>\n",
    "- [Step 4. Hypothesis Testing](#fourth-bullet)<br>\n",
    "    - [4.1. Hypothesis 1. The average revenue of users of the tariffs \"Ultra\" and \"Smart\" is different](#fourth4-1-bullet)<br>\n",
    "    - [4.2. Hypothesis 2. The average revenue of users from Moscow differs from the revenue of users from other regions](#fourth4-2-bullet)<br>\n",
    "<br>\n",
    "- [Step 5. General conclusion](#fifth-bullet)<br>"
   ]
  },
  {
   "cell_type": "markdown",
   "metadata": {},
   "source": [
    "### Data Description\n",
    "Five tables are provided for analysis. The data are described in more detail in the ToR of the design assignment.\n",
    "\n",
    "| Table `users` <br> (user information) | Calls table <br> (information about calls) | Table `messages` <br> (information about messages) | Table `internet` <br> (information about Internet sessions) | Table `tariffs` <br> (tariff information) |\n",
    "|-----------------------------------------------\t|-----------------------------------------\t|-----------------------------------------------\t|------------------------------------------------------\t|-------------------------------------------\t|\n",
    "| `user_id`                                     \t| `id`                                    \t| `id`                                          \t| `id`                                                 \t| `tariff_name`                             \t|\n",
    "| `first_name`                                  \t| `call_date`                             \t| `message_date`                                \t| `mb_used`                                            \t| `rub_monthly_fee`                         \t|\n",
    "| `last_name`                                   \t| `duration`                              \t| `user_id`                                     \t| `session_date`                                       \t| `minutes_included`                        \t|\n",
    "| `age`                                         \t| `user_id`                               \t|                                               \t| `user_id`                                            \t| `messages_included`                       \t|\n",
    "| `reg_date`                                    \t|                                         \t|                                               \t|                                                      \t| `mb_per_month_included`                   \t|\n",
    "| `churn_date`                                  \t|                                         \t|                                               \t|                                                      \t| `rub_per_minute`                          \t|\n",
    "| `city`                                        \t|                                         \t|                                               \t|                                                      \t| `rub_per_message`                         \t|\n",
    "| `tariff`                                      \t|                                         \t|                                               \t|                                                      \t| `rub_per_gb`                              \t|\n"
   ]
  },
  {
   "attachments": {
    "ER_diagram.jpg": {
     "image/jpeg": "[encoded data removed]"
    }
   },
   "cell_type": "markdown",
   "metadata": {},
   "source": [
    "![ER_diagram.jpg](attachment:ER_diagram.jpg)"
   ]
  },
  {
   "cell_type": "markdown",
   "metadata": {},
   "source": [
    "From the tables provided for analysis, several conclusions can already be drawn:\n",
    "- In tables **calls**, **messrges** and **interner** you definitely need to rename the column `id`. Since when joining tables, we get lost in three absolutely identical named columns.\n",
    "     - In the table **calls** `id` =>` id_calls`\n",
    "     - In the table **messages** `id` =>` id_messages`\n",
    "     - In the table **internet** `id` =>` id_internet`\n",
    "- In the tables **tariff** and **users** there is a tariff name, you need to rename the column `tariff_name` in the table **tariff**. So we will have equally named columns in other tables.\n",
    "     - In the table ** tariff ** `tariff_name` =>` tariff`"
   ]
  },
  {
   "cell_type": "markdown",
   "metadata": {},
   "source": [
    "# Step 1. Learning General Information <a class=\"anchor\" id=\"first-bullet\"></a>\n",
    "[back to table of contents](#contents)"
   ]
  },
  {
   "cell_type": "code",
   "execution_count": 52,
   "metadata": {},
   "outputs": [],
   "source": [
    "import pandas as pd\n",
    "import numpy as np\n",
    "import matplotlib.pyplot as plt\n",
    "from scipy import stats as st"
   ]
  },
  {
   "cell_type": "code",
   "execution_count": 53,
   "metadata": {},
   "outputs": [],
   "source": [
    "data_users = pd.read_csv(\"./users.csv\")\n",
    "data_calls = pd.read_csv(\"./tariffs.csv\")\n",
    "data_messages = pd.read_csv(\"./calls.csv\")\n",
    "data_internet = pd.read_csv(\"./internet.csv\")\n",
    "data_tariffs = pd.read_csv(\"./messages.csv\")"
   ]
  },
  {
   "cell_type": "markdown",
   "metadata": {},
   "source": [
    "**1. Table users**"
   ]
  },
  {
   "cell_type": "code",
   "execution_count": 54,
   "metadata": {},
   "outputs": [
    {
     "data": {
      "text/html": [
       "<div>\n",
       "<style scoped>\n",
       "    .dataframe tbody tr th:only-of-type {\n",
       "        vertical-align: middle;\n",
       "    }\n",
       "\n",
       "    .dataframe tbody tr th {\n",
       "        vertical-align: top;\n",
       "    }\n",
       "\n",
       "    .dataframe thead th {\n",
       "        text-align: right;\n",
       "    }\n",
       "</style>\n",
       "<table border=\"1\" class=\"dataframe\">\n",
       "  <thead>\n",
       "    <tr style=\"text-align: right;\">\n",
       "      <th></th>\n",
       "      <th>user_id</th>\n",
       "      <th>age</th>\n",
       "      <th>churn_date</th>\n",
       "      <th>city</th>\n",
       "      <th>first_name</th>\n",
       "      <th>last_name</th>\n",
       "      <th>reg_date</th>\n",
       "      <th>tariff</th>\n",
       "    </tr>\n",
       "  </thead>\n",
       "  <tbody>\n",
       "    <tr>\n",
       "      <td>0</td>\n",
       "      <td>1000</td>\n",
       "      <td>52</td>\n",
       "      <td>NaN</td>\n",
       "      <td>Краснодар</td>\n",
       "      <td>Рафаил</td>\n",
       "      <td>Верещагин</td>\n",
       "      <td>2018-05-25</td>\n",
       "      <td>ultra</td>\n",
       "    </tr>\n",
       "    <tr>\n",
       "      <td>1</td>\n",
       "      <td>1001</td>\n",
       "      <td>41</td>\n",
       "      <td>NaN</td>\n",
       "      <td>Москва</td>\n",
       "      <td>Иван</td>\n",
       "      <td>Ежов</td>\n",
       "      <td>2018-11-01</td>\n",
       "      <td>smart</td>\n",
       "    </tr>\n",
       "    <tr>\n",
       "      <td>2</td>\n",
       "      <td>1002</td>\n",
       "      <td>59</td>\n",
       "      <td>NaN</td>\n",
       "      <td>Стерлитамак</td>\n",
       "      <td>Евгений</td>\n",
       "      <td>Абрамович</td>\n",
       "      <td>2018-06-17</td>\n",
       "      <td>smart</td>\n",
       "    </tr>\n",
       "    <tr>\n",
       "      <td>3</td>\n",
       "      <td>1003</td>\n",
       "      <td>23</td>\n",
       "      <td>NaN</td>\n",
       "      <td>Москва</td>\n",
       "      <td>Белла</td>\n",
       "      <td>Белякова</td>\n",
       "      <td>2018-08-17</td>\n",
       "      <td>ultra</td>\n",
       "    </tr>\n",
       "    <tr>\n",
       "      <td>4</td>\n",
       "      <td>1004</td>\n",
       "      <td>68</td>\n",
       "      <td>NaN</td>\n",
       "      <td>Новокузнецк</td>\n",
       "      <td>Татьяна</td>\n",
       "      <td>Авдеенко</td>\n",
       "      <td>2018-05-14</td>\n",
       "      <td>ultra</td>\n",
       "    </tr>\n",
       "  </tbody>\n",
       "</table>\n",
       "</div>"
      ],
      "text/plain": [
       "   user_id  age churn_date         city first_name  last_name    reg_date  \\\n",
       "0     1000   52        NaN    Краснодар     Рафаил  Верещагин  2018-05-25   \n",
       "1     1001   41        NaN       Москва       Иван       Ежов  2018-11-01   \n",
       "2     1002   59        NaN  Стерлитамак    Евгений  Абрамович  2018-06-17   \n",
       "3     1003   23        NaN       Москва      Белла   Белякова  2018-08-17   \n",
       "4     1004   68        NaN  Новокузнецк    Татьяна   Авдеенко  2018-05-14   \n",
       "\n",
       "  tariff  \n",
       "0  ultra  \n",
       "1  smart  \n",
       "2  smart  \n",
       "3  ultra  \n",
       "4  ultra  "
      ]
     },
     "execution_count": 54,
     "metadata": {},
     "output_type": "execute_result"
    }
   ],
   "source": [
    "data_users.head()"
   ]
  },
  {
   "cell_type": "code",
   "execution_count": 55,
   "metadata": {},
   "outputs": [
    {
     "name": "stdout",
     "output_type": "stream",
     "text": [
      "<class 'pandas.core.frame.DataFrame'>\n",
      "RangeIndex: 500 entries, 0 to 499\n",
      "Data columns (total 8 columns):\n",
      "user_id       500 non-null int64\n",
      "age           500 non-null int64\n",
      "churn_date    38 non-null object\n",
      "city          500 non-null object\n",
      "first_name    500 non-null object\n",
      "last_name     500 non-null object\n",
      "reg_date      500 non-null object\n",
      "tariff        500 non-null object\n",
      "dtypes: int64(2), object(6)\n",
      "memory usage: 31.4+ KB\n"
     ]
    }
   ],
   "source": [
    "data_users.info()"
   ]
  },
  {
   "cell_type": "code",
   "execution_count": 56,
   "metadata": {},
   "outputs": [
    {
     "data": {
      "text/plain": [
       "user_id         0\n",
       "age             0\n",
       "churn_date    462\n",
       "city            0\n",
       "first_name      0\n",
       "last_name       0\n",
       "reg_date        0\n",
       "tariff          0\n",
       "dtype: int64"
      ]
     },
     "execution_count": 56,
     "metadata": {},
     "output_type": "execute_result"
    }
   ],
   "source": [
    "data_users.isna().sum()"
   ]
  },
  {
   "cell_type": "code",
   "execution_count": 57,
   "metadata": {},
   "outputs": [
    {
     "data": {
      "text/plain": [
       "0"
      ]
     },
     "execution_count": 57,
     "metadata": {},
     "output_type": "execute_result"
    }
   ],
   "source": [
    "data_users.duplicated().sum()"
   ]
  },
  {
   "cell_type": "code",
   "execution_count": 58,
   "metadata": {},
   "outputs": [
    {
     "data": {
      "text/plain": [
       "smart    351\n",
       "ultra    149\n",
       "Name: tariff, dtype: int64"
      ]
     },
     "execution_count": 58,
     "metadata": {},
     "output_type": "execute_result"
    }
   ],
   "source": [
    "data_users['tariff'].value_counts()"
   ]
  },
  {
   "cell_type": "markdown",
   "metadata": {},
   "source": [
    "The table **users** 8 columns, 500 rows. <br>\n",
    "In two columns of the table, you need to change the data type:\n",
    "- `churn_date` object => datetime\n",
    "- `reg_date` object => datetime <br>\n",
    "\n",
    "All presented table columns have missing values, they must be processed. <br>\n",
    "Out of 500 users, 351 users use the tariff **smart**, 149 users use the tariff **ultra**."
   ]
  },
  {
   "cell_type": "markdown",
   "metadata": {},
   "source": [
    "**2. Table calls**"
   ]
  },
  {
   "cell_type": "code",
   "execution_count": 59,
   "metadata": {},
   "outputs": [
    {
     "data": {
      "text/html": [
       "<div>\n",
       "<style scoped>\n",
       "    .dataframe tbody tr th:only-of-type {\n",
       "        vertical-align: middle;\n",
       "    }\n",
       "\n",
       "    .dataframe tbody tr th {\n",
       "        vertical-align: top;\n",
       "    }\n",
       "\n",
       "    .dataframe thead th {\n",
       "        text-align: right;\n",
       "    }\n",
       "</style>\n",
       "<table border=\"1\" class=\"dataframe\">\n",
       "  <thead>\n",
       "    <tr style=\"text-align: right;\">\n",
       "      <th></th>\n",
       "      <th>messages_included</th>\n",
       "      <th>mg_per_month_included</th>\n",
       "      <th>minutes_included</th>\n",
       "      <th>rub_monthly_fee</th>\n",
       "      <th>rub_per_gb</th>\n",
       "      <th>rub_per_message</th>\n",
       "      <th>rub_per_minute</th>\n",
       "      <th>tariff_name</th>\n",
       "    </tr>\n",
       "  </thead>\n",
       "  <tbody>\n",
       "    <tr>\n",
       "      <td>0</td>\n",
       "      <td>50</td>\n",
       "      <td>15360</td>\n",
       "      <td>500</td>\n",
       "      <td>550</td>\n",
       "      <td>200</td>\n",
       "      <td>3</td>\n",
       "      <td>3</td>\n",
       "      <td>smart</td>\n",
       "    </tr>\n",
       "    <tr>\n",
       "      <td>1</td>\n",
       "      <td>1000</td>\n",
       "      <td>30720</td>\n",
       "      <td>3000</td>\n",
       "      <td>1950</td>\n",
       "      <td>150</td>\n",
       "      <td>1</td>\n",
       "      <td>1</td>\n",
       "      <td>ultra</td>\n",
       "    </tr>\n",
       "  </tbody>\n",
       "</table>\n",
       "</div>"
      ],
      "text/plain": [
       "   messages_included  mg_per_month_included  minutes_included  \\\n",
       "0                 50                  15360               500   \n",
       "1               1000                  30720              3000   \n",
       "\n",
       "   rub_monthly_fee  rub_per_gb  rub_per_message  rub_per_minute tariff_name  \n",
       "0              550         200                3               3       smart  \n",
       "1             1950         150                1               1       ultra  "
      ]
     },
     "execution_count": 59,
     "metadata": {},
     "output_type": "execute_result"
    }
   ],
   "source": [
    "data_calls.head()"
   ]
  },
  {
   "cell_type": "code",
   "execution_count": 60,
   "metadata": {},
   "outputs": [
    {
     "name": "stdout",
     "output_type": "stream",
     "text": [
      "<class 'pandas.core.frame.DataFrame'>\n",
      "RangeIndex: 2 entries, 0 to 1\n",
      "Data columns (total 8 columns):\n",
      "messages_included        2 non-null int64\n",
      "mg_per_month_included    2 non-null int64\n",
      "minutes_included         2 non-null int64\n",
      "rub_monthly_fee          2 non-null int64\n",
      "rub_per_gb               2 non-null int64\n",
      "rub_per_message          2 non-null int64\n",
      "rub_per_minute           2 non-null int64\n",
      "tariff_name              2 non-null object\n",
      "dtypes: int64(7), object(1)\n",
      "memory usage: 256.0+ bytes\n"
     ]
    }
   ],
   "source": [
    "data_calls.info()"
   ]
  },
  {
   "cell_type": "markdown",
   "metadata": {},
   "source": [
    "The operator \"Megaline\" rounds up the values of the minutes spent. <br>\n",
    "If the user speaks only 1 second, the minute counts in the tariff. <br>\n",
    "Check how many calls were less than a minute"
   ]
  },
  {
   "cell_type": "code",
   "execution_count": 62,
   "metadata": {},
   "outputs": [
    {
     "data": {
      "text/html": [
       "<div>\n",
       "<style scoped>\n",
       "    .dataframe tbody tr th:only-of-type {\n",
       "        vertical-align: middle;\n",
       "    }\n",
       "\n",
       "    .dataframe tbody tr th {\n",
       "        vertical-align: top;\n",
       "    }\n",
       "\n",
       "    .dataframe thead th {\n",
       "        text-align: right;\n",
       "    }\n",
       "</style>\n",
       "<table border=\"1\" class=\"dataframe\">\n",
       "  <thead>\n",
       "    <tr style=\"text-align: right;\">\n",
       "      <th></th>\n",
       "      <th>messages_included</th>\n",
       "      <th>mg_per_month_included</th>\n",
       "      <th>minutes_included</th>\n",
       "      <th>rub_monthly_fee</th>\n",
       "      <th>rub_per_gb</th>\n",
       "      <th>rub_per_message</th>\n",
       "      <th>rub_per_minute</th>\n",
       "      <th>tariff_name</th>\n",
       "    </tr>\n",
       "  </thead>\n",
       "  <tbody>\n",
       "    <tr>\n",
       "      <td>0</td>\n",
       "      <td>50</td>\n",
       "      <td>15360</td>\n",
       "      <td>500</td>\n",
       "      <td>550</td>\n",
       "      <td>200</td>\n",
       "      <td>3</td>\n",
       "      <td>3</td>\n",
       "      <td>smart</td>\n",
       "    </tr>\n",
       "    <tr>\n",
       "      <td>1</td>\n",
       "      <td>1000</td>\n",
       "      <td>30720</td>\n",
       "      <td>3000</td>\n",
       "      <td>1950</td>\n",
       "      <td>150</td>\n",
       "      <td>1</td>\n",
       "      <td>1</td>\n",
       "      <td>ultra</td>\n",
       "    </tr>\n",
       "  </tbody>\n",
       "</table>\n",
       "</div>"
      ],
      "text/plain": [
       "   messages_included  mg_per_month_included  minutes_included  \\\n",
       "0                 50                  15360               500   \n",
       "1               1000                  30720              3000   \n",
       "\n",
       "   rub_monthly_fee  rub_per_gb  rub_per_message  rub_per_minute tariff_name  \n",
       "0              550         200                3               3       smart  \n",
       "1             1950         150                1               1       ultra  "
      ]
     },
     "execution_count": 62,
     "metadata": {},
     "output_type": "execute_result"
    }
   ],
   "source": [
    "data_calls.sort_values(['tariff_name', 'messages_included']).head(10)"
   ]
  },
  {
   "cell_type": "code",
   "execution_count": 63,
   "metadata": {},
   "outputs": [
    {
     "data": {
      "text/plain": [
       "messages_included        0\n",
       "mg_per_month_included    0\n",
       "minutes_included         0\n",
       "rub_monthly_fee          0\n",
       "rub_per_gb               0\n",
       "rub_per_message          0\n",
       "rub_per_minute           0\n",
       "tariff_name              0\n",
       "dtype: int64"
      ]
     },
     "execution_count": 63,
     "metadata": {},
     "output_type": "execute_result"
    }
   ],
   "source": [
    "data_calls.isna().sum()"
   ]
  },
  {
   "cell_type": "code",
   "execution_count": 64,
   "metadata": {},
   "outputs": [
    {
     "data": {
      "text/plain": [
       "0"
      ]
     },
     "execution_count": 64,
     "metadata": {},
     "output_type": "execute_result"
    }
   ],
   "source": [
    "data_calls.duplicated().sum()"
   ]
  },
  {
   "cell_type": "markdown",
   "metadata": {},
   "source": [
    "The table **calls** 4 columns, 202,607 rows. <br>\n",
    "In two columns of the table, you need to change the data type:\n",
    "- `call_date` object => datetime <br>\n",
    "\n",
    "All presented table columns have missing values, they must be processed. <br>\n",
    "47 927 calls have a duration of less than 1 minute. In order not to lose about 20% of the data we need:\n",
    "- Apply the `np.ceil` method to indicate the duration of the phone call. Functions `np.ceil` will return us the upper nearest (rounded) value in minutes;\n",
    "- We will replace the zero call duration by 1 minute, since the minute is the minimum value of the call session for the operator, I do not think that this will cause a big slant in the data."
   ]
  },
  {
   "cell_type": "markdown",
   "metadata": {},
   "source": [
    "**3. Table messages**"
   ]
  },
  {
   "cell_type": "code",
   "execution_count": 45,
   "metadata": {},
   "outputs": [
    {
     "data": {
      "text/html": [
       "<div>\n",
       "<style scoped>\n",
       "    .dataframe tbody tr th:only-of-type {\n",
       "        vertical-align: middle;\n",
       "    }\n",
       "\n",
       "    .dataframe tbody tr th {\n",
       "        vertical-align: top;\n",
       "    }\n",
       "\n",
       "    .dataframe thead th {\n",
       "        text-align: right;\n",
       "    }\n",
       "</style>\n",
       "<table border=\"1\" class=\"dataframe\">\n",
       "  <thead>\n",
       "    <tr style=\"text-align: right;\">\n",
       "      <th></th>\n",
       "      <th>Unnamed: 0</th>\n",
       "      <th>id</th>\n",
       "      <th>call_date</th>\n",
       "      <th>duration</th>\n",
       "      <th>user_id</th>\n",
       "    </tr>\n",
       "  </thead>\n",
       "  <tbody>\n",
       "    <tr>\n",
       "      <td>0</td>\n",
       "      <td>0</td>\n",
       "      <td>1000_0</td>\n",
       "      <td>2018-07-25</td>\n",
       "      <td>0.00</td>\n",
       "      <td>1000</td>\n",
       "    </tr>\n",
       "    <tr>\n",
       "      <td>1</td>\n",
       "      <td>1</td>\n",
       "      <td>1000_1</td>\n",
       "      <td>2018-08-17</td>\n",
       "      <td>0.00</td>\n",
       "      <td>1000</td>\n",
       "    </tr>\n",
       "    <tr>\n",
       "      <td>2</td>\n",
       "      <td>2</td>\n",
       "      <td>1000_2</td>\n",
       "      <td>2018-06-11</td>\n",
       "      <td>2.85</td>\n",
       "      <td>1000</td>\n",
       "    </tr>\n",
       "    <tr>\n",
       "      <td>3</td>\n",
       "      <td>3</td>\n",
       "      <td>1000_3</td>\n",
       "      <td>2018-09-21</td>\n",
       "      <td>13.80</td>\n",
       "      <td>1000</td>\n",
       "    </tr>\n",
       "    <tr>\n",
       "      <td>4</td>\n",
       "      <td>4</td>\n",
       "      <td>1000_4</td>\n",
       "      <td>2018-12-15</td>\n",
       "      <td>5.18</td>\n",
       "      <td>1000</td>\n",
       "    </tr>\n",
       "  </tbody>\n",
       "</table>\n",
       "</div>"
      ],
      "text/plain": [
       "   Unnamed: 0      id   call_date  duration  user_id\n",
       "0           0  1000_0  2018-07-25      0.00     1000\n",
       "1           1  1000_1  2018-08-17      0.00     1000\n",
       "2           2  1000_2  2018-06-11      2.85     1000\n",
       "3           3  1000_3  2018-09-21     13.80     1000\n",
       "4           4  1000_4  2018-12-15      5.18     1000"
      ]
     },
     "execution_count": 45,
     "metadata": {},
     "output_type": "execute_result"
    }
   ],
   "source": [
    "data_messages.head()"
   ]
  },
  {
   "cell_type": "code",
   "execution_count": 65,
   "metadata": {},
   "outputs": [
    {
     "name": "stdout",
     "output_type": "stream",
     "text": [
      "<class 'pandas.core.frame.DataFrame'>\n",
      "RangeIndex: 202607 entries, 0 to 202606\n",
      "Data columns (total 4 columns):\n",
      "id           202607 non-null object\n",
      "call_date    202607 non-null object\n",
      "duration     202607 non-null float64\n",
      "user_id      202607 non-null int64\n",
      "dtypes: float64(1), int64(1), object(2)\n",
      "memory usage: 6.2+ MB\n"
     ]
    }
   ],
   "source": [
    "data_messages.info()"
   ]
  },
  {
   "cell_type": "code",
   "execution_count": 66,
   "metadata": {},
   "outputs": [
    {
     "data": {
      "text/plain": [
       "id           0\n",
       "call_date    0\n",
       "duration     0\n",
       "user_id      0\n",
       "dtype: int64"
      ]
     },
     "execution_count": 66,
     "metadata": {},
     "output_type": "execute_result"
    }
   ],
   "source": [
    "data_messages.isna().sum()"
   ]
  },
  {
   "cell_type": "code",
   "execution_count": 67,
   "metadata": {},
   "outputs": [
    {
     "data": {
      "text/plain": [
       "0"
      ]
     },
     "execution_count": 67,
     "metadata": {},
     "output_type": "execute_result"
    }
   ],
   "source": [
    "data_messages.duplicated().sum()"
   ]
  },
  {
   "cell_type": "markdown",
   "metadata": {},
   "source": [
    "The table **messages** 3 columns, 123036 rows. <br>\n",
    "In two columns of the table, you need to change the data type:\n",
    "- `message_date` object => datetime <br>\n",
    "\n",
    "All presented columns of the table have missing values, they must be processed."
   ]
  },
  {
   "cell_type": "markdown",
   "metadata": {},
   "source": [
    "**4. Table internet**"
   ]
  },
  {
   "cell_type": "code",
   "execution_count": 68,
   "metadata": {},
   "outputs": [
    {
     "data": {
      "text/html": [
       "<div>\n",
       "<style scoped>\n",
       "    .dataframe tbody tr th:only-of-type {\n",
       "        vertical-align: middle;\n",
       "    }\n",
       "\n",
       "    .dataframe tbody tr th {\n",
       "        vertical-align: top;\n",
       "    }\n",
       "\n",
       "    .dataframe thead th {\n",
       "        text-align: right;\n",
       "    }\n",
       "</style>\n",
       "<table border=\"1\" class=\"dataframe\">\n",
       "  <thead>\n",
       "    <tr style=\"text-align: right;\">\n",
       "      <th></th>\n",
       "      <th>id</th>\n",
       "      <th>mb_used</th>\n",
       "      <th>session_date</th>\n",
       "      <th>user_id</th>\n",
       "    </tr>\n",
       "  </thead>\n",
       "  <tbody>\n",
       "    <tr>\n",
       "      <td>0</td>\n",
       "      <td>1000_0</td>\n",
       "      <td>112.95</td>\n",
       "      <td>2018-11-25</td>\n",
       "      <td>1000</td>\n",
       "    </tr>\n",
       "    <tr>\n",
       "      <td>1</td>\n",
       "      <td>1000_1</td>\n",
       "      <td>1052.81</td>\n",
       "      <td>2018-09-07</td>\n",
       "      <td>1000</td>\n",
       "    </tr>\n",
       "    <tr>\n",
       "      <td>2</td>\n",
       "      <td>1000_2</td>\n",
       "      <td>1197.26</td>\n",
       "      <td>2018-06-25</td>\n",
       "      <td>1000</td>\n",
       "    </tr>\n",
       "    <tr>\n",
       "      <td>3</td>\n",
       "      <td>1000_3</td>\n",
       "      <td>550.27</td>\n",
       "      <td>2018-08-22</td>\n",
       "      <td>1000</td>\n",
       "    </tr>\n",
       "    <tr>\n",
       "      <td>4</td>\n",
       "      <td>1000_4</td>\n",
       "      <td>302.56</td>\n",
       "      <td>2018-09-24</td>\n",
       "      <td>1000</td>\n",
       "    </tr>\n",
       "  </tbody>\n",
       "</table>\n",
       "</div>"
      ],
      "text/plain": [
       "       id  mb_used session_date  user_id\n",
       "0  1000_0   112.95   2018-11-25     1000\n",
       "1  1000_1  1052.81   2018-09-07     1000\n",
       "2  1000_2  1197.26   2018-06-25     1000\n",
       "3  1000_3   550.27   2018-08-22     1000\n",
       "4  1000_4   302.56   2018-09-24     1000"
      ]
     },
     "execution_count": 68,
     "metadata": {},
     "output_type": "execute_result"
    }
   ],
   "source": [
    "data_internet.head()"
   ]
  },
  {
   "cell_type": "code",
   "execution_count": 69,
   "metadata": {},
   "outputs": [
    {
     "name": "stdout",
     "output_type": "stream",
     "text": [
      "<class 'pandas.core.frame.DataFrame'>\n",
      "RangeIndex: 149396 entries, 0 to 149395\n",
      "Data columns (total 4 columns):\n",
      "id              149396 non-null object\n",
      "mb_used         149396 non-null float64\n",
      "session_date    149396 non-null object\n",
      "user_id         149396 non-null int64\n",
      "dtypes: float64(1), int64(1), object(2)\n",
      "memory usage: 4.6+ MB\n"
     ]
    }
   ],
   "source": [
    "data_internet.info()"
   ]
  },
  {
   "cell_type": "code",
   "execution_count": 70,
   "metadata": {},
   "outputs": [
    {
     "data": {
      "text/plain": [
       "19699"
      ]
     },
     "execution_count": 70,
     "metadata": {},
     "output_type": "execute_result"
    }
   ],
   "source": [
    "len(data_internet.query('mb_used < 1'))"
   ]
  },
  {
   "cell_type": "code",
   "execution_count": 71,
   "metadata": {},
   "outputs": [
    {
     "data": {
      "text/plain": [
       "id              0\n",
       "mb_used         0\n",
       "session_date    0\n",
       "user_id         0\n",
       "dtype: int64"
      ]
     },
     "execution_count": 71,
     "metadata": {},
     "output_type": "execute_result"
    }
   ],
   "source": [
    "data_internet.isna().sum()"
   ]
  },
  {
   "cell_type": "code",
   "execution_count": 72,
   "metadata": {},
   "outputs": [
    {
     "data": {
      "text/plain": [
       "0"
      ]
     },
     "execution_count": 72,
     "metadata": {},
     "output_type": "execute_result"
    }
   ],
   "source": [
    "data_internet.duplicated().sum()"
   ]
  },
  {
   "cell_type": "markdown",
   "metadata": {},
   "source": [
    "In the table **internet** 4 columns, 149,396 rows. <br>\n",
    "In two columns of the table, you need to change the data type:\n",
    "- `session_date` object => datetime <br>\n",
    "\n",
    "All presented table columns have missing values, they must be processed. <br>\n",
    "\n",
    "In the column `mb_used` - the amount of Internet traffic spent per session in megabytes, but in the tariff description in the table **tariffs** column` mg_per_month_included` data in gigabytes. To understand at what point the user will use up the amount of Internet traffic according to their tariff, we need to present data on the volume of spent traffic in gigabyte format, so we can calculate how much the user spent. <br>\n",
    "\n",
    "19 699 Internet sessions have less than 1 mb of Internet traffic spent per session. As in the case of calls, the operator rounds up the values of megabytes. Therefore, it is necessary:\n",
    "- Apply the `np.ceil` method to indicate the duration of Internet sessions. Functions `np.ceil` will return us the upper nearest (rounded) value in mb;\n",
    "- We will replace the zero duration of Internet sessions by 1 minute, since a minute is the minimum value of an Internet session for an operator, I don’t think that this will cause a big slant in the data."
   ]
  },
  {
   "cell_type": "markdown",
   "metadata": {},
   "source": [
    "**5. Table tariffs**"
   ]
  },
  {
   "cell_type": "code",
   "execution_count": 73,
   "metadata": {},
   "outputs": [
    {
     "data": {
      "text/html": [
       "<div>\n",
       "<style scoped>\n",
       "    .dataframe tbody tr th:only-of-type {\n",
       "        vertical-align: middle;\n",
       "    }\n",
       "\n",
       "    .dataframe tbody tr th {\n",
       "        vertical-align: top;\n",
       "    }\n",
       "\n",
       "    .dataframe thead th {\n",
       "        text-align: right;\n",
       "    }\n",
       "</style>\n",
       "<table border=\"1\" class=\"dataframe\">\n",
       "  <thead>\n",
       "    <tr style=\"text-align: right;\">\n",
       "      <th></th>\n",
       "      <th>id</th>\n",
       "      <th>message_date</th>\n",
       "      <th>user_id</th>\n",
       "    </tr>\n",
       "  </thead>\n",
       "  <tbody>\n",
       "    <tr>\n",
       "      <td>0</td>\n",
       "      <td>1000_0</td>\n",
       "      <td>2018-06-27</td>\n",
       "      <td>1000</td>\n",
       "    </tr>\n",
       "    <tr>\n",
       "      <td>1</td>\n",
       "      <td>1000_1</td>\n",
       "      <td>2018-10-08</td>\n",
       "      <td>1000</td>\n",
       "    </tr>\n",
       "    <tr>\n",
       "      <td>2</td>\n",
       "      <td>1000_2</td>\n",
       "      <td>2018-08-04</td>\n",
       "      <td>1000</td>\n",
       "    </tr>\n",
       "    <tr>\n",
       "      <td>3</td>\n",
       "      <td>1000_3</td>\n",
       "      <td>2018-06-16</td>\n",
       "      <td>1000</td>\n",
       "    </tr>\n",
       "    <tr>\n",
       "      <td>4</td>\n",
       "      <td>1000_4</td>\n",
       "      <td>2018-12-05</td>\n",
       "      <td>1000</td>\n",
       "    </tr>\n",
       "  </tbody>\n",
       "</table>\n",
       "</div>"
      ],
      "text/plain": [
       "       id message_date  user_id\n",
       "0  1000_0   2018-06-27     1000\n",
       "1  1000_1   2018-10-08     1000\n",
       "2  1000_2   2018-08-04     1000\n",
       "3  1000_3   2018-06-16     1000\n",
       "4  1000_4   2018-12-05     1000"
      ]
     },
     "execution_count": 73,
     "metadata": {},
     "output_type": "execute_result"
    }
   ],
   "source": [
    "data_tariffs.head()"
   ]
  },
  {
   "cell_type": "code",
   "execution_count": 74,
   "metadata": {},
   "outputs": [
    {
     "name": "stdout",
     "output_type": "stream",
     "text": [
      "<class 'pandas.core.frame.DataFrame'>\n",
      "RangeIndex: 123036 entries, 0 to 123035\n",
      "Data columns (total 3 columns):\n",
      "id              123036 non-null object\n",
      "message_date    123036 non-null object\n",
      "user_id         123036 non-null int64\n",
      "dtypes: int64(1), object(2)\n",
      "memory usage: 2.8+ MB\n"
     ]
    }
   ],
   "source": [
    "data_tariffs.info()"
   ]
  },
  {
   "cell_type": "code",
   "execution_count": 75,
   "metadata": {},
   "outputs": [
    {
     "data": {
      "text/plain": [
       "id              0\n",
       "message_date    0\n",
       "user_id         0\n",
       "dtype: int64"
      ]
     },
     "execution_count": 75,
     "metadata": {},
     "output_type": "execute_result"
    }
   ],
   "source": [
    "data_tariffs.isna().sum()"
   ]
  },
  {
   "cell_type": "code",
   "execution_count": 76,
   "metadata": {},
   "outputs": [
    {
     "data": {
      "text/plain": [
       "0"
      ]
     },
     "execution_count": 76,
     "metadata": {},
     "output_type": "execute_result"
    }
   ],
   "source": [
    "data_tariffs.duplicated().sum()"
   ]
  },
  {
   "cell_type": "markdown",
   "metadata": {},
   "source": [
    "In the table **tariffs** 8 columns, 2 rows. This is due to the fact that we are considering only two tariff plans: Smart and Ultra.\n",
    "In the two columns of the table, there is no need to change data types. Only the column name needs to be changed:\n",
    "- `tariff_name` =>` tariff`\n",
    "\n",
    "All presented table columns have missing values, they must be processed. <br>"
   ]
  },
  {
   "cell_type": "markdown",
   "metadata": {},
   "source": [
    "# Step 2. Data preprocessing <a class=\"anchor\" id=\"second-bullet\"></a>\n",
    "[back to table of contents](#contents)"
   ]
  },
  {
   "cell_type": "markdown",
   "metadata": {},
   "source": [
    "## 2.1. Data Type Changes <a class=\"anchor\" id=\"second2-1-bullet\"></a>"
   ]
  },
  {
   "cell_type": "markdown",
   "metadata": {},
   "source": [
    "**Change the data type** <br>\n",
    "Let's bring the data to the necessary types. When studying the information from the tables, we found that we need to change the type of data in the following tables and columns:\n",
    "- table **data_users**\n",
    "     - `churn_date` object => datetime\n",
    "     - `reg_date` object => datetime\n",
    "- table **data_calls**\n",
    "     - `call_date` object => datetime\n",
    "- table **data_messages**\n",
    "     - `message_date` object => datetime\n",
    "- table **data_internet**\n",
    "     - `session_date` object => datetime"
   ]
  },
  {
   "cell_type": "code",
   "execution_count": null,
   "metadata": {},
   "outputs": [],
   "source": [
    "dateformat = '%Y-%m-%d'\n",
    "\n",
    "def to_datetime(df, columns):\n",
    "    for col in columns:\n",
    "        df[col] = pd.to_datetime(df[col], format=dateformat)\n",
    "\n",
    "to_datetime(data_users, ['churn_date'])\n",
    "to_datetime(data_users, ['reg_date'])\n",
    "to_datetime(data_calls, ['call_date'])\n",
    "to_datetime(data_messages, ['message_date'])\n",
    "to_datetime(data_internet, ['session_date'])"
   ]
  },
  {
   "cell_type": "markdown",
   "metadata": {},
   "source": [
    "## 2.2. Search and Correction of Data Errors <a class=\"anchor\" id=\"second2-2-bullet\"></a>"
   ]
  },
  {
   "cell_type": "markdown",
   "metadata": {},
   "source": [
    "**Restore the omissions** <br>\n",
    "In the tables **data_calls** and **data_internet** there is data that we need to process, we need:\n",
    "- In table **data_calls**\n",
    "    - apply the `np.ceil` method for the sign of the duration of the phone call` duration`. Functions `np.ceil` will return us the upper nearest (rounded) value in minutes;\n",
    "    - replace the zero call duration by 1 minute, since the minute is the minimum value of the call session for the operator, I do not think that this will cause a big slant in the data.\n",
    "- In the table **data_internet**\n",
    "    - apply the method `np.ceil` for the sign of the duration of the Internet sessions` mb_used`. Functions `np.ceil` will return us the upper nearest (rounded) value in mb;\n",
    "    - replace the zero duration of Internet sessions by 1 minute, since a minute is the minimum value of an Internet session for an operator, I don’t think that this will cause a big slant in the data."
   ]
  },
  {
   "cell_type": "code",
   "execution_count": 29,
   "metadata": {},
   "outputs": [],
   "source": [
    "data_calls['duration'] = data_calls['duration'].apply(np.ceil)\n",
    "nonzero_session = data_calls['duration'] > 0\n",
    "data_calls['duration'].where(nonzero_session, 1, inplace=True)"
   ]
  },
  {
   "cell_type": "code",
   "execution_count": 30,
   "metadata": {},
   "outputs": [],
   "source": [
    "data_internet['mb_used'] = data_internet['mb_used'].apply(np.ceil)\n",
    "nonzero_session = data_internet['mb_used'] > 0\n",
    "data_internet['mb_used'].where(nonzero_session, 1, inplace=True)"
   ]
  },
  {
   "cell_type": "markdown",
   "metadata": {},
   "source": [
    "**Rename the column `tariff_name` in the tariffs table**"
   ]
  },
  {
   "cell_type": "code",
   "execution_count": 31,
   "metadata": {},
   "outputs": [],
   "source": [
    "data_tariffs = data_tariffs.rename(columns={'tariff_name': 'tariff'})"
   ]
  },
  {
   "cell_type": "code",
   "execution_count": 32,
   "metadata": {},
   "outputs": [
    {
     "data": {
      "text/html": [
       "<div>\n",
       "<style scoped>\n",
       "    .dataframe tbody tr th:only-of-type {\n",
       "        vertical-align: middle;\n",
       "    }\n",
       "\n",
       "    .dataframe tbody tr th {\n",
       "        vertical-align: top;\n",
       "    }\n",
       "\n",
       "    .dataframe thead th {\n",
       "        text-align: right;\n",
       "    }\n",
       "</style>\n",
       "<table border=\"1\" class=\"dataframe\">\n",
       "  <thead>\n",
       "    <tr style=\"text-align: right;\">\n",
       "      <th></th>\n",
       "      <th>messages_included</th>\n",
       "      <th>mg_per_month_included</th>\n",
       "      <th>minutes_included</th>\n",
       "      <th>rub_monthly_fee</th>\n",
       "      <th>rub_per_gb</th>\n",
       "      <th>rub_per_message</th>\n",
       "      <th>rub_per_minute</th>\n",
       "      <th>tariff</th>\n",
       "    </tr>\n",
       "  </thead>\n",
       "  <tbody>\n",
       "    <tr>\n",
       "      <td>0</td>\n",
       "      <td>50</td>\n",
       "      <td>15360</td>\n",
       "      <td>500</td>\n",
       "      <td>550</td>\n",
       "      <td>200</td>\n",
       "      <td>3</td>\n",
       "      <td>3</td>\n",
       "      <td>smart</td>\n",
       "    </tr>\n",
       "    <tr>\n",
       "      <td>1</td>\n",
       "      <td>1000</td>\n",
       "      <td>30720</td>\n",
       "      <td>3000</td>\n",
       "      <td>1950</td>\n",
       "      <td>150</td>\n",
       "      <td>1</td>\n",
       "      <td>1</td>\n",
       "      <td>ultra</td>\n",
       "    </tr>\n",
       "  </tbody>\n",
       "</table>\n",
       "</div>"
      ],
      "text/plain": [
       "   messages_included  mg_per_month_included  minutes_included  \\\n",
       "0                 50                  15360               500   \n",
       "1               1000                  30720              3000   \n",
       "\n",
       "   rub_monthly_fee  rub_per_gb  rub_per_message  rub_per_minute tariff  \n",
       "0              550         200                3               3  smart  \n",
       "1             1950         150                1               1  ultra  "
      ]
     },
     "execution_count": 32,
     "metadata": {},
     "output_type": "execute_result"
    }
   ],
   "source": [
    "data_tariffs.head()"
   ]
  },
  {
   "cell_type": "markdown",
   "metadata": {},
   "source": [
    "In the table **tariffs** I saw one interesting thing:\n",
    "- The column `mg_per_month_included` gives data on tariff plans. Restriction on traffic tariff **smart** - 15GB, tariff **ultra** - 30GB. The table data is presented in megabytes. Since in 1GB = 1024MB."
   ]
  },
  {
   "cell_type": "code",
   "execution_count": 33,
   "metadata": {},
   "outputs": [
    {
     "name": "stdout",
     "output_type": "stream",
     "text": [
      "Ограничение по трафику тарифа smart: 15360\n",
      "Ограничение по трафику тарифа ultra: 30720\n"
     ]
    }
   ],
   "source": [
    "smart = 15 * 1024\n",
    "ultra = 30 * 1024\n",
    "\n",
    "print(\"Ограничение по трафику тарифа smart:\", smart)\n",
    "print(\"Ограничение по трафику тарифа ultra:\", ultra)"
   ]
  },
  {
   "cell_type": "markdown",
   "metadata": {},
   "source": [
    "Since the data in megabytes is in the table, rename the column."
   ]
  },
  {
   "cell_type": "code",
   "execution_count": 34,
   "metadata": {},
   "outputs": [],
   "source": [
    "data_tariffs = data_tariffs.rename(columns={'mg_per_month_included':'mb_per_month_included'})"
   ]
  },
  {
   "cell_type": "markdown",
   "metadata": {},
   "source": [
    "**Rename the column `id` in the table calls**"
   ]
  },
  {
   "cell_type": "code",
   "execution_count": 35,
   "metadata": {},
   "outputs": [],
   "source": [
    "data_calls = data_calls.rename(columns={'id': 'id_calls'})"
   ]
  },
  {
   "cell_type": "code",
   "execution_count": 36,
   "metadata": {},
   "outputs": [
    {
     "data": {
      "text/html": [
       "<div>\n",
       "<style scoped>\n",
       "    .dataframe tbody tr th:only-of-type {\n",
       "        vertical-align: middle;\n",
       "    }\n",
       "\n",
       "    .dataframe tbody tr th {\n",
       "        vertical-align: top;\n",
       "    }\n",
       "\n",
       "    .dataframe thead th {\n",
       "        text-align: right;\n",
       "    }\n",
       "</style>\n",
       "<table border=\"1\" class=\"dataframe\">\n",
       "  <thead>\n",
       "    <tr style=\"text-align: right;\">\n",
       "      <th></th>\n",
       "      <th>id_calls</th>\n",
       "      <th>call_date</th>\n",
       "      <th>duration</th>\n",
       "      <th>user_id</th>\n",
       "    </tr>\n",
       "  </thead>\n",
       "  <tbody>\n",
       "    <tr>\n",
       "      <td>0</td>\n",
       "      <td>1000_0</td>\n",
       "      <td>2018-07-25</td>\n",
       "      <td>1.0</td>\n",
       "      <td>1000</td>\n",
       "    </tr>\n",
       "    <tr>\n",
       "      <td>1</td>\n",
       "      <td>1000_1</td>\n",
       "      <td>2018-08-17</td>\n",
       "      <td>1.0</td>\n",
       "      <td>1000</td>\n",
       "    </tr>\n",
       "    <tr>\n",
       "      <td>2</td>\n",
       "      <td>1000_2</td>\n",
       "      <td>2018-06-11</td>\n",
       "      <td>3.0</td>\n",
       "      <td>1000</td>\n",
       "    </tr>\n",
       "    <tr>\n",
       "      <td>3</td>\n",
       "      <td>1000_3</td>\n",
       "      <td>2018-09-21</td>\n",
       "      <td>14.0</td>\n",
       "      <td>1000</td>\n",
       "    </tr>\n",
       "    <tr>\n",
       "      <td>4</td>\n",
       "      <td>1000_4</td>\n",
       "      <td>2018-12-15</td>\n",
       "      <td>6.0</td>\n",
       "      <td>1000</td>\n",
       "    </tr>\n",
       "  </tbody>\n",
       "</table>\n",
       "</div>"
      ],
      "text/plain": [
       "  id_calls  call_date  duration  user_id\n",
       "0   1000_0 2018-07-25       1.0     1000\n",
       "1   1000_1 2018-08-17       1.0     1000\n",
       "2   1000_2 2018-06-11       3.0     1000\n",
       "3   1000_3 2018-09-21      14.0     1000\n",
       "4   1000_4 2018-12-15       6.0     1000"
      ]
     },
     "execution_count": 36,
     "metadata": {},
     "output_type": "execute_result"
    }
   ],
   "source": [
    "data_calls.head()"
   ]
  },
  {
   "cell_type": "markdown",
   "metadata": {},
   "source": [
    "**Rename the column `id` in the messages table**"
   ]
  },
  {
   "cell_type": "code",
   "execution_count": 37,
   "metadata": {},
   "outputs": [],
   "source": [
    "data_messages = data_messages.rename(columns={'id': 'id_messages'})"
   ]
  },
  {
   "cell_type": "code",
   "execution_count": 38,
   "metadata": {},
   "outputs": [
    {
     "data": {
      "text/html": [
       "<div>\n",
       "<style scoped>\n",
       "    .dataframe tbody tr th:only-of-type {\n",
       "        vertical-align: middle;\n",
       "    }\n",
       "\n",
       "    .dataframe tbody tr th {\n",
       "        vertical-align: top;\n",
       "    }\n",
       "\n",
       "    .dataframe thead th {\n",
       "        text-align: right;\n",
       "    }\n",
       "</style>\n",
       "<table border=\"1\" class=\"dataframe\">\n",
       "  <thead>\n",
       "    <tr style=\"text-align: right;\">\n",
       "      <th></th>\n",
       "      <th>id_messages</th>\n",
       "      <th>message_date</th>\n",
       "      <th>user_id</th>\n",
       "    </tr>\n",
       "  </thead>\n",
       "  <tbody>\n",
       "    <tr>\n",
       "      <td>0</td>\n",
       "      <td>1000_0</td>\n",
       "      <td>2018-06-27</td>\n",
       "      <td>1000</td>\n",
       "    </tr>\n",
       "    <tr>\n",
       "      <td>1</td>\n",
       "      <td>1000_1</td>\n",
       "      <td>2018-10-08</td>\n",
       "      <td>1000</td>\n",
       "    </tr>\n",
       "    <tr>\n",
       "      <td>2</td>\n",
       "      <td>1000_2</td>\n",
       "      <td>2018-08-04</td>\n",
       "      <td>1000</td>\n",
       "    </tr>\n",
       "    <tr>\n",
       "      <td>3</td>\n",
       "      <td>1000_3</td>\n",
       "      <td>2018-06-16</td>\n",
       "      <td>1000</td>\n",
       "    </tr>\n",
       "    <tr>\n",
       "      <td>4</td>\n",
       "      <td>1000_4</td>\n",
       "      <td>2018-12-05</td>\n",
       "      <td>1000</td>\n",
       "    </tr>\n",
       "  </tbody>\n",
       "</table>\n",
       "</div>"
      ],
      "text/plain": [
       "  id_messages message_date  user_id\n",
       "0      1000_0   2018-06-27     1000\n",
       "1      1000_1   2018-10-08     1000\n",
       "2      1000_2   2018-08-04     1000\n",
       "3      1000_3   2018-06-16     1000\n",
       "4      1000_4   2018-12-05     1000"
      ]
     },
     "execution_count": 38,
     "metadata": {},
     "output_type": "execute_result"
    }
   ],
   "source": [
    "data_messages.head()"
   ]
  },
  {
   "cell_type": "markdown",
   "metadata": {},
   "source": [
    "**Rename the column `id` in the internet table**"
   ]
  },
  {
   "cell_type": "code",
   "execution_count": 39,
   "metadata": {},
   "outputs": [],
   "source": [
    "data_internet = data_internet.rename(columns={'id': 'id_internet'})"
   ]
  },
  {
   "cell_type": "code",
   "execution_count": 40,
   "metadata": {},
   "outputs": [
    {
     "data": {
      "text/html": [
       "<div>\n",
       "<style scoped>\n",
       "    .dataframe tbody tr th:only-of-type {\n",
       "        vertical-align: middle;\n",
       "    }\n",
       "\n",
       "    .dataframe tbody tr th {\n",
       "        vertical-align: top;\n",
       "    }\n",
       "\n",
       "    .dataframe thead th {\n",
       "        text-align: right;\n",
       "    }\n",
       "</style>\n",
       "<table border=\"1\" class=\"dataframe\">\n",
       "  <thead>\n",
       "    <tr style=\"text-align: right;\">\n",
       "      <th></th>\n",
       "      <th>id_internet</th>\n",
       "      <th>mb_used</th>\n",
       "      <th>session_date</th>\n",
       "      <th>user_id</th>\n",
       "    </tr>\n",
       "  </thead>\n",
       "  <tbody>\n",
       "    <tr>\n",
       "      <td>0</td>\n",
       "      <td>1000_0</td>\n",
       "      <td>113.0</td>\n",
       "      <td>2018-11-25</td>\n",
       "      <td>1000</td>\n",
       "    </tr>\n",
       "    <tr>\n",
       "      <td>1</td>\n",
       "      <td>1000_1</td>\n",
       "      <td>1053.0</td>\n",
       "      <td>2018-09-07</td>\n",
       "      <td>1000</td>\n",
       "    </tr>\n",
       "    <tr>\n",
       "      <td>2</td>\n",
       "      <td>1000_2</td>\n",
       "      <td>1198.0</td>\n",
       "      <td>2018-06-25</td>\n",
       "      <td>1000</td>\n",
       "    </tr>\n",
       "    <tr>\n",
       "      <td>3</td>\n",
       "      <td>1000_3</td>\n",
       "      <td>551.0</td>\n",
       "      <td>2018-08-22</td>\n",
       "      <td>1000</td>\n",
       "    </tr>\n",
       "    <tr>\n",
       "      <td>4</td>\n",
       "      <td>1000_4</td>\n",
       "      <td>303.0</td>\n",
       "      <td>2018-09-24</td>\n",
       "      <td>1000</td>\n",
       "    </tr>\n",
       "  </tbody>\n",
       "</table>\n",
       "</div>"
      ],
      "text/plain": [
       "  id_internet  mb_used session_date  user_id\n",
       "0      1000_0    113.0   2018-11-25     1000\n",
       "1      1000_1   1053.0   2018-09-07     1000\n",
       "2      1000_2   1198.0   2018-06-25     1000\n",
       "3      1000_3    551.0   2018-08-22     1000\n",
       "4      1000_4    303.0   2018-09-24     1000"
      ]
     },
     "execution_count": 40,
     "metadata": {},
     "output_type": "execute_result"
    }
   ],
   "source": [
    "data_internet.head()"
   ]
  },
  {
   "cell_type": "markdown",
   "metadata": {},
   "source": [
    "## 2.3. Counting for each user <a class=\"anchor\" id=\"second2-3-bullet\"></a>"
   ]
  },
  {
   "cell_type": "markdown",
   "metadata": {},
   "source": [
    "### 2.3.1. The number of calls made and minutes spent talking per month <a class=\"anchor\" id=\"second2-3-1-bullet\"></a>\n",
    "The simplest solution to this problem, I think, is to add a new column and create a pivot table. So, I will add a new column with the names of the months, which is determined based on the column `call_date`. Then we will create a pivot table on the column `month`, also counting and summing the values of the column` duration`."
   ]
  },
  {
   "cell_type": "code",
   "execution_count": 41,
   "metadata": {},
   "outputs": [],
   "source": [
    "data_calls['month'] = data_calls['call_date'].dt.month_name()"
   ]
  },
  {
   "cell_type": "code",
   "execution_count": 42,
   "metadata": {},
   "outputs": [
    {
     "data": {
      "text/html": [
       "<div>\n",
       "<style scoped>\n",
       "    .dataframe tbody tr th:only-of-type {\n",
       "        vertical-align: middle;\n",
       "    }\n",
       "\n",
       "    .dataframe tbody tr th {\n",
       "        vertical-align: top;\n",
       "    }\n",
       "\n",
       "    .dataframe thead th {\n",
       "        text-align: right;\n",
       "    }\n",
       "</style>\n",
       "<table border=\"1\" class=\"dataframe\">\n",
       "  <thead>\n",
       "    <tr style=\"text-align: right;\">\n",
       "      <th></th>\n",
       "      <th>id_calls</th>\n",
       "      <th>call_date</th>\n",
       "      <th>duration</th>\n",
       "      <th>user_id</th>\n",
       "      <th>month</th>\n",
       "    </tr>\n",
       "  </thead>\n",
       "  <tbody>\n",
       "    <tr>\n",
       "      <td>0</td>\n",
       "      <td>1000_0</td>\n",
       "      <td>2018-07-25</td>\n",
       "      <td>1.0</td>\n",
       "      <td>1000</td>\n",
       "      <td>July</td>\n",
       "    </tr>\n",
       "    <tr>\n",
       "      <td>1</td>\n",
       "      <td>1000_1</td>\n",
       "      <td>2018-08-17</td>\n",
       "      <td>1.0</td>\n",
       "      <td>1000</td>\n",
       "      <td>August</td>\n",
       "    </tr>\n",
       "    <tr>\n",
       "      <td>2</td>\n",
       "      <td>1000_2</td>\n",
       "      <td>2018-06-11</td>\n",
       "      <td>3.0</td>\n",
       "      <td>1000</td>\n",
       "      <td>June</td>\n",
       "    </tr>\n",
       "    <tr>\n",
       "      <td>3</td>\n",
       "      <td>1000_3</td>\n",
       "      <td>2018-09-21</td>\n",
       "      <td>14.0</td>\n",
       "      <td>1000</td>\n",
       "      <td>September</td>\n",
       "    </tr>\n",
       "    <tr>\n",
       "      <td>4</td>\n",
       "      <td>1000_4</td>\n",
       "      <td>2018-12-15</td>\n",
       "      <td>6.0</td>\n",
       "      <td>1000</td>\n",
       "      <td>December</td>\n",
       "    </tr>\n",
       "  </tbody>\n",
       "</table>\n",
       "</div>"
      ],
      "text/plain": [
       "  id_calls  call_date  duration  user_id      month\n",
       "0   1000_0 2018-07-25       1.0     1000       July\n",
       "1   1000_1 2018-08-17       1.0     1000     August\n",
       "2   1000_2 2018-06-11       3.0     1000       June\n",
       "3   1000_3 2018-09-21      14.0     1000  September\n",
       "4   1000_4 2018-12-15       6.0     1000   December"
      ]
     },
     "execution_count": 42,
     "metadata": {},
     "output_type": "execute_result"
    }
   ],
   "source": [
    "data_calls.head()"
   ]
  },
  {
   "cell_type": "code",
   "execution_count": 43,
   "metadata": {},
   "outputs": [],
   "source": [
    "calls_by_month = data_calls.pivot_table(\n",
    "    index=['month'],\n",
    "    values='duration',\n",
    "    aggfunc=['count', 'sum']\n",
    ")"
   ]
  },
  {
   "cell_type": "code",
   "execution_count": 44,
   "metadata": {},
   "outputs": [],
   "source": [
    "calls_by_month['n_month'] = ['4', '8', '12', '2', '1', '7', '6', '3', '5', '11', '10', '9']\n",
    "calls_by_month['n_month'] = calls_by_month['n_month'].astype('int').apply(abs)"
   ]
  },
  {
   "cell_type": "code",
   "execution_count": 45,
   "metadata": {},
   "outputs": [
    {
     "data": {
      "text/html": [
       "<div>\n",
       "<style scoped>\n",
       "    .dataframe tbody tr th:only-of-type {\n",
       "        vertical-align: middle;\n",
       "    }\n",
       "\n",
       "    .dataframe tbody tr th {\n",
       "        vertical-align: top;\n",
       "    }\n",
       "\n",
       "    .dataframe thead tr th {\n",
       "        text-align: left;\n",
       "    }\n",
       "\n",
       "    .dataframe thead tr:last-of-type th {\n",
       "        text-align: right;\n",
       "    }\n",
       "</style>\n",
       "<table border=\"1\" class=\"dataframe\">\n",
       "  <thead>\n",
       "    <tr>\n",
       "      <th></th>\n",
       "      <th>count</th>\n",
       "      <th>sum</th>\n",
       "      <th>n_month</th>\n",
       "    </tr>\n",
       "    <tr>\n",
       "      <th></th>\n",
       "      <th>duration</th>\n",
       "      <th>duration</th>\n",
       "      <th></th>\n",
       "    </tr>\n",
       "    <tr>\n",
       "      <th>month</th>\n",
       "      <th></th>\n",
       "      <th></th>\n",
       "      <th></th>\n",
       "    </tr>\n",
       "  </thead>\n",
       "  <tbody>\n",
       "    <tr>\n",
       "      <td>January</td>\n",
       "      <td>1476</td>\n",
       "      <td>11096.0</td>\n",
       "      <td>1</td>\n",
       "    </tr>\n",
       "    <tr>\n",
       "      <td>February</td>\n",
       "      <td>3328</td>\n",
       "      <td>25078.0</td>\n",
       "      <td>2</td>\n",
       "    </tr>\n",
       "    <tr>\n",
       "      <td>March</td>\n",
       "      <td>6687</td>\n",
       "      <td>49455.0</td>\n",
       "      <td>3</td>\n",
       "    </tr>\n",
       "    <tr>\n",
       "      <td>April</td>\n",
       "      <td>9272</td>\n",
       "      <td>68078.0</td>\n",
       "      <td>4</td>\n",
       "    </tr>\n",
       "    <tr>\n",
       "      <td>May</td>\n",
       "      <td>12647</td>\n",
       "      <td>91341.0</td>\n",
       "      <td>5</td>\n",
       "    </tr>\n",
       "    <tr>\n",
       "      <td>June</td>\n",
       "      <td>14716</td>\n",
       "      <td>108063.0</td>\n",
       "      <td>6</td>\n",
       "    </tr>\n",
       "    <tr>\n",
       "      <td>July</td>\n",
       "      <td>18298</td>\n",
       "      <td>135264.0</td>\n",
       "      <td>7</td>\n",
       "    </tr>\n",
       "    <tr>\n",
       "      <td>August</td>\n",
       "      <td>21488</td>\n",
       "      <td>157929.0</td>\n",
       "      <td>8</td>\n",
       "    </tr>\n",
       "    <tr>\n",
       "      <td>September</td>\n",
       "      <td>24061</td>\n",
       "      <td>178090.0</td>\n",
       "      <td>9</td>\n",
       "    </tr>\n",
       "    <tr>\n",
       "      <td>October</td>\n",
       "      <td>27146</td>\n",
       "      <td>199317.0</td>\n",
       "      <td>10</td>\n",
       "    </tr>\n",
       "    <tr>\n",
       "      <td>November</td>\n",
       "      <td>29501</td>\n",
       "      <td>215926.0</td>\n",
       "      <td>11</td>\n",
       "    </tr>\n",
       "    <tr>\n",
       "      <td>December</td>\n",
       "      <td>33987</td>\n",
       "      <td>250277.0</td>\n",
       "      <td>12</td>\n",
       "    </tr>\n",
       "  </tbody>\n",
       "</table>\n",
       "</div>"
      ],
      "text/plain": [
       "             count       sum n_month\n",
       "          duration  duration        \n",
       "month                               \n",
       "January       1476   11096.0       1\n",
       "February      3328   25078.0       2\n",
       "March         6687   49455.0       3\n",
       "April         9272   68078.0       4\n",
       "May          12647   91341.0       5\n",
       "June         14716  108063.0       6\n",
       "July         18298  135264.0       7\n",
       "August       21488  157929.0       8\n",
       "September    24061  178090.0       9\n",
       "October      27146  199317.0      10\n",
       "November     29501  215926.0      11\n",
       "December     33987  250277.0      12"
      ]
     },
     "execution_count": 45,
     "metadata": {},
     "output_type": "execute_result"
    }
   ],
   "source": [
    "calls_by_month.sort_values(by=['n_month'])"
   ]
  },
  {
   "cell_type": "markdown",
   "metadata": {},
   "source": [
    "`count duration` is the number of calls per month; <br>\n",
    "`sum duration` is the duration of calls in minutes per month. <br>"
   ]
  },
  {
   "cell_type": "markdown",
   "metadata": {},
   "source": [
    "### 2.3.2. The number of messages sent by month <a class=\"anchor\" id=\"second2-3-2-bullet\"></a>\n",
    "Here, I also think that a simple solution is to add a new column and group by column."
   ]
  },
  {
   "cell_type": "code",
   "execution_count": 46,
   "metadata": {},
   "outputs": [],
   "source": [
    "data_messages['month'] = data_messages['message_date'].dt.month_name()"
   ]
  },
  {
   "cell_type": "code",
   "execution_count": 47,
   "metadata": {},
   "outputs": [
    {
     "data": {
      "text/html": [
       "<div>\n",
       "<style scoped>\n",
       "    .dataframe tbody tr th:only-of-type {\n",
       "        vertical-align: middle;\n",
       "    }\n",
       "\n",
       "    .dataframe tbody tr th {\n",
       "        vertical-align: top;\n",
       "    }\n",
       "\n",
       "    .dataframe thead th {\n",
       "        text-align: right;\n",
       "    }\n",
       "</style>\n",
       "<table border=\"1\" class=\"dataframe\">\n",
       "  <thead>\n",
       "    <tr style=\"text-align: right;\">\n",
       "      <th></th>\n",
       "      <th>id_messages</th>\n",
       "      <th>message_date</th>\n",
       "      <th>user_id</th>\n",
       "      <th>month</th>\n",
       "    </tr>\n",
       "  </thead>\n",
       "  <tbody>\n",
       "    <tr>\n",
       "      <td>35693</td>\n",
       "      <td>1155_82</td>\n",
       "      <td>2018-01-02</td>\n",
       "      <td>1155</td>\n",
       "      <td>January</td>\n",
       "    </tr>\n",
       "    <tr>\n",
       "      <td>112561</td>\n",
       "      <td>1453_586</td>\n",
       "      <td>2018-01-02</td>\n",
       "      <td>1453</td>\n",
       "      <td>January</td>\n",
       "    </tr>\n",
       "    <tr>\n",
       "      <td>112248</td>\n",
       "      <td>1453_273</td>\n",
       "      <td>2018-01-02</td>\n",
       "      <td>1453</td>\n",
       "      <td>January</td>\n",
       "    </tr>\n",
       "    <tr>\n",
       "      <td>36021</td>\n",
       "      <td>1155_410</td>\n",
       "      <td>2018-01-02</td>\n",
       "      <td>1155</td>\n",
       "      <td>January</td>\n",
       "    </tr>\n",
       "    <tr>\n",
       "      <td>13096</td>\n",
       "      <td>1055_62</td>\n",
       "      <td>2018-01-02</td>\n",
       "      <td>1055</td>\n",
       "      <td>January</td>\n",
       "    </tr>\n",
       "  </tbody>\n",
       "</table>\n",
       "</div>"
      ],
      "text/plain": [
       "       id_messages message_date  user_id    month\n",
       "35693      1155_82   2018-01-02     1155  January\n",
       "112561    1453_586   2018-01-02     1453  January\n",
       "112248    1453_273   2018-01-02     1453  January\n",
       "36021     1155_410   2018-01-02     1155  January\n",
       "13096      1055_62   2018-01-02     1055  January"
      ]
     },
     "execution_count": 47,
     "metadata": {},
     "output_type": "execute_result"
    }
   ],
   "source": [
    "data_messages.sort_values('message_date').head()"
   ]
  },
  {
   "cell_type": "code",
   "execution_count": 48,
   "metadata": {},
   "outputs": [],
   "source": [
    "messages_by_month = data_messages.pivot_table(\n",
    "    index=['month'],\n",
    "    values='message_date',\n",
    "    aggfunc=['count']\n",
    ")"
   ]
  },
  {
   "cell_type": "code",
   "execution_count": 49,
   "metadata": {},
   "outputs": [],
   "source": [
    "messages_by_month['n_month'] = ['4', '8', '12', '2', '1', '7', '6', '3', '5', '11', '10', '9']\n",
    "messages_by_month['n_month'] = messages_by_month['n_month'].astype('int').apply(abs)"
   ]
  },
  {
   "cell_type": "code",
   "execution_count": 50,
   "metadata": {},
   "outputs": [
    {
     "data": {
      "text/html": [
       "<div>\n",
       "<style scoped>\n",
       "    .dataframe tbody tr th:only-of-type {\n",
       "        vertical-align: middle;\n",
       "    }\n",
       "\n",
       "    .dataframe tbody tr th {\n",
       "        vertical-align: top;\n",
       "    }\n",
       "\n",
       "    .dataframe thead tr th {\n",
       "        text-align: left;\n",
       "    }\n",
       "\n",
       "    .dataframe thead tr:last-of-type th {\n",
       "        text-align: right;\n",
       "    }\n",
       "</style>\n",
       "<table border=\"1\" class=\"dataframe\">\n",
       "  <thead>\n",
       "    <tr>\n",
       "      <th></th>\n",
       "      <th>count</th>\n",
       "      <th>n_month</th>\n",
       "    </tr>\n",
       "    <tr>\n",
       "      <th></th>\n",
       "      <th>message_date</th>\n",
       "      <th></th>\n",
       "    </tr>\n",
       "    <tr>\n",
       "      <th>month</th>\n",
       "      <th></th>\n",
       "      <th></th>\n",
       "    </tr>\n",
       "  </thead>\n",
       "  <tbody>\n",
       "    <tr>\n",
       "      <td>January</td>\n",
       "      <td>924</td>\n",
       "      <td>1</td>\n",
       "    </tr>\n",
       "    <tr>\n",
       "      <td>February</td>\n",
       "      <td>1924</td>\n",
       "      <td>2</td>\n",
       "    </tr>\n",
       "    <tr>\n",
       "      <td>March</td>\n",
       "      <td>3648</td>\n",
       "      <td>3</td>\n",
       "    </tr>\n",
       "    <tr>\n",
       "      <td>April</td>\n",
       "      <td>5179</td>\n",
       "      <td>4</td>\n",
       "    </tr>\n",
       "    <tr>\n",
       "      <td>May</td>\n",
       "      <td>7298</td>\n",
       "      <td>5</td>\n",
       "    </tr>\n",
       "    <tr>\n",
       "      <td>June</td>\n",
       "      <td>8983</td>\n",
       "      <td>6</td>\n",
       "    </tr>\n",
       "    <tr>\n",
       "      <td>July</td>\n",
       "      <td>11320</td>\n",
       "      <td>7</td>\n",
       "    </tr>\n",
       "    <tr>\n",
       "      <td>August</td>\n",
       "      <td>13088</td>\n",
       "      <td>8</td>\n",
       "    </tr>\n",
       "    <tr>\n",
       "      <td>September</td>\n",
       "      <td>14759</td>\n",
       "      <td>9</td>\n",
       "    </tr>\n",
       "    <tr>\n",
       "      <td>October</td>\n",
       "      <td>17114</td>\n",
       "      <td>10</td>\n",
       "    </tr>\n",
       "    <tr>\n",
       "      <td>November</td>\n",
       "      <td>18244</td>\n",
       "      <td>11</td>\n",
       "    </tr>\n",
       "    <tr>\n",
       "      <td>December</td>\n",
       "      <td>20555</td>\n",
       "      <td>12</td>\n",
       "    </tr>\n",
       "  </tbody>\n",
       "</table>\n",
       "</div>"
      ],
      "text/plain": [
       "                 count n_month\n",
       "          message_date        \n",
       "month                         \n",
       "January            924       1\n",
       "February          1924       2\n",
       "March             3648       3\n",
       "April             5179       4\n",
       "May               7298       5\n",
       "June              8983       6\n",
       "July             11320       7\n",
       "August           13088       8\n",
       "September        14759       9\n",
       "October          17114      10\n",
       "November         18244      11\n",
       "December         20555      12"
      ]
     },
     "execution_count": 50,
     "metadata": {},
     "output_type": "execute_result"
    }
   ],
   "source": [
    "messages_by_month.sort_values(by=['n_month'])"
   ]
  },
  {
   "cell_type": "markdown",
   "metadata": {},
   "source": [
    "`count message_date` is the number of messages sent per month."
   ]
  },
  {
   "cell_type": "markdown",
   "metadata": {},
   "source": [
    "### 2.3.3. Monthly Internet traffic spent <a class=\"anchor\" id=\"second2-3-3-bullet\"></a>"
   ]
  },
  {
   "cell_type": "code",
   "execution_count": 51,
   "metadata": {},
   "outputs": [],
   "source": [
    "data_internet['month'] = data_internet['session_date'].dt.month_name()"
   ]
  },
  {
   "cell_type": "code",
   "execution_count": 52,
   "metadata": {},
   "outputs": [
    {
     "data": {
      "text/html": [
       "<div>\n",
       "<style scoped>\n",
       "    .dataframe tbody tr th:only-of-type {\n",
       "        vertical-align: middle;\n",
       "    }\n",
       "\n",
       "    .dataframe tbody tr th {\n",
       "        vertical-align: top;\n",
       "    }\n",
       "\n",
       "    .dataframe thead th {\n",
       "        text-align: right;\n",
       "    }\n",
       "</style>\n",
       "<table border=\"1\" class=\"dataframe\">\n",
       "  <thead>\n",
       "    <tr style=\"text-align: right;\">\n",
       "      <th></th>\n",
       "      <th>id_internet</th>\n",
       "      <th>mb_used</th>\n",
       "      <th>session_date</th>\n",
       "      <th>user_id</th>\n",
       "      <th>month</th>\n",
       "    </tr>\n",
       "  </thead>\n",
       "  <tbody>\n",
       "    <tr>\n",
       "      <td>0</td>\n",
       "      <td>1000_0</td>\n",
       "      <td>113.0</td>\n",
       "      <td>2018-11-25</td>\n",
       "      <td>1000</td>\n",
       "      <td>November</td>\n",
       "    </tr>\n",
       "    <tr>\n",
       "      <td>1</td>\n",
       "      <td>1000_1</td>\n",
       "      <td>1053.0</td>\n",
       "      <td>2018-09-07</td>\n",
       "      <td>1000</td>\n",
       "      <td>September</td>\n",
       "    </tr>\n",
       "    <tr>\n",
       "      <td>2</td>\n",
       "      <td>1000_2</td>\n",
       "      <td>1198.0</td>\n",
       "      <td>2018-06-25</td>\n",
       "      <td>1000</td>\n",
       "      <td>June</td>\n",
       "    </tr>\n",
       "    <tr>\n",
       "      <td>3</td>\n",
       "      <td>1000_3</td>\n",
       "      <td>551.0</td>\n",
       "      <td>2018-08-22</td>\n",
       "      <td>1000</td>\n",
       "      <td>August</td>\n",
       "    </tr>\n",
       "    <tr>\n",
       "      <td>4</td>\n",
       "      <td>1000_4</td>\n",
       "      <td>303.0</td>\n",
       "      <td>2018-09-24</td>\n",
       "      <td>1000</td>\n",
       "      <td>September</td>\n",
       "    </tr>\n",
       "  </tbody>\n",
       "</table>\n",
       "</div>"
      ],
      "text/plain": [
       "  id_internet  mb_used session_date  user_id      month\n",
       "0      1000_0    113.0   2018-11-25     1000   November\n",
       "1      1000_1   1053.0   2018-09-07     1000  September\n",
       "2      1000_2   1198.0   2018-06-25     1000       June\n",
       "3      1000_3    551.0   2018-08-22     1000     August\n",
       "4      1000_4    303.0   2018-09-24     1000  September"
      ]
     },
     "execution_count": 52,
     "metadata": {},
     "output_type": "execute_result"
    }
   ],
   "source": [
    "data_internet.head()"
   ]
  },
  {
   "cell_type": "code",
   "execution_count": 53,
   "metadata": {},
   "outputs": [],
   "source": [
    "internet_by_month = data_internet.pivot_table(\n",
    "    index=['month'],\n",
    "    values='mb_used',\n",
    "    aggfunc=['count', 'sum']\n",
    ")"
   ]
  },
  {
   "cell_type": "code",
   "execution_count": 54,
   "metadata": {},
   "outputs": [],
   "source": [
    "internet_by_month['n_month'] = ['4', '8', '12', '2', '1', '7', '6', '3', '5', '11', '10', '9']\n",
    "internet_by_month['n_month'] = internet_by_month['n_month'].astype('int').apply(abs)"
   ]
  },
  {
   "cell_type": "code",
   "execution_count": 55,
   "metadata": {},
   "outputs": [
    {
     "data": {
      "text/html": [
       "<div>\n",
       "<style scoped>\n",
       "    .dataframe tbody tr th:only-of-type {\n",
       "        vertical-align: middle;\n",
       "    }\n",
       "\n",
       "    .dataframe tbody tr th {\n",
       "        vertical-align: top;\n",
       "    }\n",
       "\n",
       "    .dataframe thead tr th {\n",
       "        text-align: left;\n",
       "    }\n",
       "\n",
       "    .dataframe thead tr:last-of-type th {\n",
       "        text-align: right;\n",
       "    }\n",
       "</style>\n",
       "<table border=\"1\" class=\"dataframe\">\n",
       "  <thead>\n",
       "    <tr>\n",
       "      <th></th>\n",
       "      <th>count</th>\n",
       "      <th>sum</th>\n",
       "      <th>n_month</th>\n",
       "    </tr>\n",
       "    <tr>\n",
       "      <th></th>\n",
       "      <th>mb_used</th>\n",
       "      <th>mb_used</th>\n",
       "      <th></th>\n",
       "    </tr>\n",
       "    <tr>\n",
       "      <th>month</th>\n",
       "      <th></th>\n",
       "      <th></th>\n",
       "      <th></th>\n",
       "    </tr>\n",
       "  </thead>\n",
       "  <tbody>\n",
       "    <tr>\n",
       "      <td>January</td>\n",
       "      <td>1117</td>\n",
       "      <td>408364.0</td>\n",
       "      <td>1</td>\n",
       "    </tr>\n",
       "    <tr>\n",
       "      <td>February</td>\n",
       "      <td>2641</td>\n",
       "      <td>956726.0</td>\n",
       "      <td>2</td>\n",
       "    </tr>\n",
       "    <tr>\n",
       "      <td>March</td>\n",
       "      <td>4885</td>\n",
       "      <td>1814583.0</td>\n",
       "      <td>3</td>\n",
       "    </tr>\n",
       "    <tr>\n",
       "      <td>April</td>\n",
       "      <td>6511</td>\n",
       "      <td>2436930.0</td>\n",
       "      <td>4</td>\n",
       "    </tr>\n",
       "    <tr>\n",
       "      <td>May</td>\n",
       "      <td>9408</td>\n",
       "      <td>3531092.0</td>\n",
       "      <td>5</td>\n",
       "    </tr>\n",
       "    <tr>\n",
       "      <td>June</td>\n",
       "      <td>11057</td>\n",
       "      <td>4186171.0</td>\n",
       "      <td>6</td>\n",
       "    </tr>\n",
       "    <tr>\n",
       "      <td>July</td>\n",
       "      <td>13548</td>\n",
       "      <td>5037059.0</td>\n",
       "      <td>7</td>\n",
       "    </tr>\n",
       "    <tr>\n",
       "      <td>August</td>\n",
       "      <td>16092</td>\n",
       "      <td>6007209.0</td>\n",
       "      <td>8</td>\n",
       "    </tr>\n",
       "    <tr>\n",
       "      <td>September</td>\n",
       "      <td>17512</td>\n",
       "      <td>6457245.0</td>\n",
       "      <td>9</td>\n",
       "    </tr>\n",
       "    <tr>\n",
       "      <td>October</td>\n",
       "      <td>20009</td>\n",
       "      <td>7403396.0</td>\n",
       "      <td>10</td>\n",
       "    </tr>\n",
       "    <tr>\n",
       "      <td>November</td>\n",
       "      <td>21817</td>\n",
       "      <td>8002759.0</td>\n",
       "      <td>11</td>\n",
       "    </tr>\n",
       "    <tr>\n",
       "      <td>December</td>\n",
       "      <td>24799</td>\n",
       "      <td>9147523.0</td>\n",
       "      <td>12</td>\n",
       "    </tr>\n",
       "  </tbody>\n",
       "</table>\n",
       "</div>"
      ],
      "text/plain": [
       "            count        sum n_month\n",
       "          mb_used    mb_used        \n",
       "month                               \n",
       "January      1117   408364.0       1\n",
       "February     2641   956726.0       2\n",
       "March        4885  1814583.0       3\n",
       "April        6511  2436930.0       4\n",
       "May          9408  3531092.0       5\n",
       "June        11057  4186171.0       6\n",
       "July        13548  5037059.0       7\n",
       "August      16092  6007209.0       8\n",
       "September   17512  6457245.0       9\n",
       "October     20009  7403396.0      10\n",
       "November    21817  8002759.0      11\n",
       "December    24799  9147523.0      12"
      ]
     },
     "execution_count": 55,
     "metadata": {},
     "output_type": "execute_result"
    }
   ],
   "source": [
    "internet_by_month.sort_values(by=['n_month'])"
   ]
  },
  {
   "cell_type": "markdown",
   "metadata": {},
   "source": [
    "`count mb_used` is the number of Internet sessions per month; <br>\n",
    "`sum mb_used` is the amount of monthly Internet traffic consumed."
   ]
  },
  {
   "cell_type": "markdown",
   "metadata": {},
   "source": [
    "**Joint Table** <br>\n",
    "For visual display, combined three tables **calls_by_month**, **messages_by_month**, **internet_by_month**"
   ]
  },
  {
   "cell_type": "code",
   "execution_count": 56,
   "metadata": {},
   "outputs": [],
   "source": [
    "data_per_month = calls_by_month.merge(messages_by_month, on=['n_month','month'], how='outer')\\\n",
    "    .merge(internet_by_month, on=['n_month','month'], how='outer')"
   ]
  },
  {
   "cell_type": "code",
   "execution_count": 57,
   "metadata": {},
   "outputs": [
    {
     "data": {
      "text/html": [
       "<div>\n",
       "<style scoped>\n",
       "    .dataframe tbody tr th:only-of-type {\n",
       "        vertical-align: middle;\n",
       "    }\n",
       "\n",
       "    .dataframe tbody tr th {\n",
       "        vertical-align: top;\n",
       "    }\n",
       "\n",
       "    .dataframe thead th {\n",
       "        text-align: right;\n",
       "    }\n",
       "</style>\n",
       "<table border=\"1\" class=\"dataframe\">\n",
       "  <thead>\n",
       "    <tr style=\"text-align: right;\">\n",
       "      <th></th>\n",
       "      <th>calls</th>\n",
       "      <th>calls_duration</th>\n",
       "      <th>n_month</th>\n",
       "      <th>messages</th>\n",
       "      <th>internet_session</th>\n",
       "      <th>mb</th>\n",
       "    </tr>\n",
       "    <tr>\n",
       "      <th>month</th>\n",
       "      <th></th>\n",
       "      <th></th>\n",
       "      <th></th>\n",
       "      <th></th>\n",
       "      <th></th>\n",
       "      <th></th>\n",
       "    </tr>\n",
       "  </thead>\n",
       "  <tbody>\n",
       "    <tr>\n",
       "      <td>January</td>\n",
       "      <td>1476</td>\n",
       "      <td>11096.0</td>\n",
       "      <td>1</td>\n",
       "      <td>924</td>\n",
       "      <td>1117</td>\n",
       "      <td>408364.0</td>\n",
       "    </tr>\n",
       "    <tr>\n",
       "      <td>February</td>\n",
       "      <td>3328</td>\n",
       "      <td>25078.0</td>\n",
       "      <td>2</td>\n",
       "      <td>1924</td>\n",
       "      <td>2641</td>\n",
       "      <td>956726.0</td>\n",
       "    </tr>\n",
       "    <tr>\n",
       "      <td>March</td>\n",
       "      <td>6687</td>\n",
       "      <td>49455.0</td>\n",
       "      <td>3</td>\n",
       "      <td>3648</td>\n",
       "      <td>4885</td>\n",
       "      <td>1814583.0</td>\n",
       "    </tr>\n",
       "    <tr>\n",
       "      <td>April</td>\n",
       "      <td>9272</td>\n",
       "      <td>68078.0</td>\n",
       "      <td>4</td>\n",
       "      <td>5179</td>\n",
       "      <td>6511</td>\n",
       "      <td>2436930.0</td>\n",
       "    </tr>\n",
       "    <tr>\n",
       "      <td>May</td>\n",
       "      <td>12647</td>\n",
       "      <td>91341.0</td>\n",
       "      <td>5</td>\n",
       "      <td>7298</td>\n",
       "      <td>9408</td>\n",
       "      <td>3531092.0</td>\n",
       "    </tr>\n",
       "    <tr>\n",
       "      <td>June</td>\n",
       "      <td>14716</td>\n",
       "      <td>108063.0</td>\n",
       "      <td>6</td>\n",
       "      <td>8983</td>\n",
       "      <td>11057</td>\n",
       "      <td>4186171.0</td>\n",
       "    </tr>\n",
       "    <tr>\n",
       "      <td>July</td>\n",
       "      <td>18298</td>\n",
       "      <td>135264.0</td>\n",
       "      <td>7</td>\n",
       "      <td>11320</td>\n",
       "      <td>13548</td>\n",
       "      <td>5037059.0</td>\n",
       "    </tr>\n",
       "    <tr>\n",
       "      <td>August</td>\n",
       "      <td>21488</td>\n",
       "      <td>157929.0</td>\n",
       "      <td>8</td>\n",
       "      <td>13088</td>\n",
       "      <td>16092</td>\n",
       "      <td>6007209.0</td>\n",
       "    </tr>\n",
       "    <tr>\n",
       "      <td>September</td>\n",
       "      <td>24061</td>\n",
       "      <td>178090.0</td>\n",
       "      <td>9</td>\n",
       "      <td>14759</td>\n",
       "      <td>17512</td>\n",
       "      <td>6457245.0</td>\n",
       "    </tr>\n",
       "    <tr>\n",
       "      <td>October</td>\n",
       "      <td>27146</td>\n",
       "      <td>199317.0</td>\n",
       "      <td>10</td>\n",
       "      <td>17114</td>\n",
       "      <td>20009</td>\n",
       "      <td>7403396.0</td>\n",
       "    </tr>\n",
       "    <tr>\n",
       "      <td>November</td>\n",
       "      <td>29501</td>\n",
       "      <td>215926.0</td>\n",
       "      <td>11</td>\n",
       "      <td>18244</td>\n",
       "      <td>21817</td>\n",
       "      <td>8002759.0</td>\n",
       "    </tr>\n",
       "    <tr>\n",
       "      <td>December</td>\n",
       "      <td>33987</td>\n",
       "      <td>250277.0</td>\n",
       "      <td>12</td>\n",
       "      <td>20555</td>\n",
       "      <td>24799</td>\n",
       "      <td>9147523.0</td>\n",
       "    </tr>\n",
       "  </tbody>\n",
       "</table>\n",
       "</div>"
      ],
      "text/plain": [
       "           calls  calls_duration  n_month  messages  internet_session  \\\n",
       "month                                                                   \n",
       "January     1476         11096.0        1       924              1117   \n",
       "February    3328         25078.0        2      1924              2641   \n",
       "March       6687         49455.0        3      3648              4885   \n",
       "April       9272         68078.0        4      5179              6511   \n",
       "May        12647         91341.0        5      7298              9408   \n",
       "June       14716        108063.0        6      8983             11057   \n",
       "July       18298        135264.0        7     11320             13548   \n",
       "August     21488        157929.0        8     13088             16092   \n",
       "September  24061        178090.0        9     14759             17512   \n",
       "October    27146        199317.0       10     17114             20009   \n",
       "November   29501        215926.0       11     18244             21817   \n",
       "December   33987        250277.0       12     20555             24799   \n",
       "\n",
       "                  mb  \n",
       "month                 \n",
       "January     408364.0  \n",
       "February    956726.0  \n",
       "March      1814583.0  \n",
       "April      2436930.0  \n",
       "May        3531092.0  \n",
       "June       4186171.0  \n",
       "July       5037059.0  \n",
       "August     6007209.0  \n",
       "September  6457245.0  \n",
       "October    7403396.0  \n",
       "November   8002759.0  \n",
       "December   9147523.0  "
      ]
     },
     "execution_count": 57,
     "metadata": {},
     "output_type": "execute_result"
    }
   ],
   "source": [
    "data_per_month.columns = ['calls', 'calls_duration', 'n_month', 'messages', 'internet_session', 'mb']\n",
    "data_per_month.sort_values(by=['n_month'])"
   ]
  },
  {
   "cell_type": "markdown",
   "metadata": {},
   "source": [
    "### 2.3.4. Monthly revenue from each user <a class=\"anchor\" id=\"second2-3-4-bullet\"> </a>\n",
    "<font color = green> Hint from the task: </font> monthly revenue from each user = subtract the free limit from the total number of calls, messages and Internet traffic; multiply the remainder by the value from the tariff plan; add the subscription fee corresponding to the tariff plan. <br>\n",
    "\n",
    "Since earlier, for identification, I was already looking through summary tables:\n",
    "- by the number of calls made and minutes spent talking per month;\n",
    "- by the number of messages sent by month;\n",
    "- by the volume of consumed Internet traffic by months.\n",
    "\n",
    "In order to calculate the revenue received by the operator from each user, I need to collect all the data from 5 tables. To start, I will group data on calls, messages and spent Internet traffic. After that, you can apply the merge () method and put everything together."
   ]
  },
  {
   "cell_type": "code",
   "execution_count": 58,
   "metadata": {},
   "outputs": [],
   "source": [
    "user_calls = data_calls.groupby(['user_id', 'month'])\\\n",
    "                  .agg({'duration':'sum', 'id_calls':'count'})\\\n",
    "                  .reset_index()\\\n",
    "                  .rename(columns={'duration':'minutes','id_calls':'calls'})"
   ]
  },
  {
   "cell_type": "code",
   "execution_count": 59,
   "metadata": {},
   "outputs": [],
   "source": [
    "user_messages = data_messages.groupby(['user_id', 'month'])\\\n",
    "                        .agg({'id_messages':'count'})\\\n",
    "                        .reset_index()\\\n",
    "                        .rename(columns={'id_messages':'sms'})"
   ]
  },
  {
   "cell_type": "code",
   "execution_count": 60,
   "metadata": {},
   "outputs": [],
   "source": [
    "user_internet = data_internet.groupby(['user_id', 'month'])\\\n",
    "                        .agg({'mb_used':'sum'})\\\n",
    "                        .reset_index()"
   ]
  },
  {
   "cell_type": "code",
   "execution_count": 61,
   "metadata": {},
   "outputs": [],
   "source": [
    "df = user_calls.merge(user_messages, on=['user_id','month'], how='outer')\\\n",
    "    .merge(user_internet, on=['user_id','month'], how = 'outer')\\\n",
    "    .merge(data_users, on='user_id', how='left')\\\n",
    "    .merge(data_tariffs, on='tariff', how='left')"
   ]
  },
  {
   "cell_type": "code",
   "execution_count": 62,
   "metadata": {},
   "outputs": [
    {
     "data": {
      "text/html": [
       "<div>\n",
       "<style scoped>\n",
       "    .dataframe tbody tr th:only-of-type {\n",
       "        vertical-align: middle;\n",
       "    }\n",
       "\n",
       "    .dataframe tbody tr th {\n",
       "        vertical-align: top;\n",
       "    }\n",
       "\n",
       "    .dataframe thead th {\n",
       "        text-align: right;\n",
       "    }\n",
       "</style>\n",
       "<table border=\"1\" class=\"dataframe\">\n",
       "  <thead>\n",
       "    <tr style=\"text-align: right;\">\n",
       "      <th></th>\n",
       "      <th>user_id</th>\n",
       "      <th>month</th>\n",
       "      <th>minutes</th>\n",
       "      <th>calls</th>\n",
       "      <th>sms</th>\n",
       "      <th>mb_used</th>\n",
       "      <th>age</th>\n",
       "      <th>churn_date</th>\n",
       "      <th>city</th>\n",
       "      <th>first_name</th>\n",
       "      <th>last_name</th>\n",
       "      <th>reg_date</th>\n",
       "      <th>tariff</th>\n",
       "      <th>messages_included</th>\n",
       "      <th>mb_per_month_included</th>\n",
       "      <th>minutes_included</th>\n",
       "      <th>rub_monthly_fee</th>\n",
       "      <th>rub_per_gb</th>\n",
       "      <th>rub_per_message</th>\n",
       "      <th>rub_per_minute</th>\n",
       "    </tr>\n",
       "  </thead>\n",
       "  <tbody>\n",
       "    <tr>\n",
       "      <td>0</td>\n",
       "      <td>1000</td>\n",
       "      <td>August</td>\n",
       "      <td>418.0</td>\n",
       "      <td>52.0</td>\n",
       "      <td>81.0</td>\n",
       "      <td>14072.0</td>\n",
       "      <td>52</td>\n",
       "      <td>NaT</td>\n",
       "      <td>Краснодар</td>\n",
       "      <td>Рафаил</td>\n",
       "      <td>Верещагин</td>\n",
       "      <td>2018-05-25</td>\n",
       "      <td>ultra</td>\n",
       "      <td>1000</td>\n",
       "      <td>30720</td>\n",
       "      <td>3000</td>\n",
       "      <td>1950</td>\n",
       "      <td>150</td>\n",
       "      <td>1</td>\n",
       "      <td>1</td>\n",
       "    </tr>\n",
       "    <tr>\n",
       "      <td>1</td>\n",
       "      <td>1000</td>\n",
       "      <td>December</td>\n",
       "      <td>341.0</td>\n",
       "      <td>46.0</td>\n",
       "      <td>70.0</td>\n",
       "      <td>9829.0</td>\n",
       "      <td>52</td>\n",
       "      <td>NaT</td>\n",
       "      <td>Краснодар</td>\n",
       "      <td>Рафаил</td>\n",
       "      <td>Верещагин</td>\n",
       "      <td>2018-05-25</td>\n",
       "      <td>ultra</td>\n",
       "      <td>1000</td>\n",
       "      <td>30720</td>\n",
       "      <td>3000</td>\n",
       "      <td>1950</td>\n",
       "      <td>150</td>\n",
       "      <td>1</td>\n",
       "      <td>1</td>\n",
       "    </tr>\n",
       "    <tr>\n",
       "      <td>2</td>\n",
       "      <td>1000</td>\n",
       "      <td>July</td>\n",
       "      <td>346.0</td>\n",
       "      <td>47.0</td>\n",
       "      <td>75.0</td>\n",
       "      <td>14017.0</td>\n",
       "      <td>52</td>\n",
       "      <td>NaT</td>\n",
       "      <td>Краснодар</td>\n",
       "      <td>Рафаил</td>\n",
       "      <td>Верещагин</td>\n",
       "      <td>2018-05-25</td>\n",
       "      <td>ultra</td>\n",
       "      <td>1000</td>\n",
       "      <td>30720</td>\n",
       "      <td>3000</td>\n",
       "      <td>1950</td>\n",
       "      <td>150</td>\n",
       "      <td>1</td>\n",
       "      <td>1</td>\n",
       "    </tr>\n",
       "    <tr>\n",
       "      <td>3</td>\n",
       "      <td>1000</td>\n",
       "      <td>June</td>\n",
       "      <td>187.0</td>\n",
       "      <td>43.0</td>\n",
       "      <td>60.0</td>\n",
       "      <td>23262.0</td>\n",
       "      <td>52</td>\n",
       "      <td>NaT</td>\n",
       "      <td>Краснодар</td>\n",
       "      <td>Рафаил</td>\n",
       "      <td>Верещагин</td>\n",
       "      <td>2018-05-25</td>\n",
       "      <td>ultra</td>\n",
       "      <td>1000</td>\n",
       "      <td>30720</td>\n",
       "      <td>3000</td>\n",
       "      <td>1950</td>\n",
       "      <td>150</td>\n",
       "      <td>1</td>\n",
       "      <td>1</td>\n",
       "    </tr>\n",
       "    <tr>\n",
       "      <td>4</td>\n",
       "      <td>1000</td>\n",
       "      <td>May</td>\n",
       "      <td>164.0</td>\n",
       "      <td>22.0</td>\n",
       "      <td>22.0</td>\n",
       "      <td>2257.0</td>\n",
       "      <td>52</td>\n",
       "      <td>NaT</td>\n",
       "      <td>Краснодар</td>\n",
       "      <td>Рафаил</td>\n",
       "      <td>Верещагин</td>\n",
       "      <td>2018-05-25</td>\n",
       "      <td>ultra</td>\n",
       "      <td>1000</td>\n",
       "      <td>30720</td>\n",
       "      <td>3000</td>\n",
       "      <td>1950</td>\n",
       "      <td>150</td>\n",
       "      <td>1</td>\n",
       "      <td>1</td>\n",
       "    </tr>\n",
       "  </tbody>\n",
       "</table>\n",
       "</div>"
      ],
      "text/plain": [
       "   user_id     month  minutes  calls   sms  mb_used  age churn_date  \\\n",
       "0     1000    August    418.0   52.0  81.0  14072.0   52        NaT   \n",
       "1     1000  December    341.0   46.0  70.0   9829.0   52        NaT   \n",
       "2     1000      July    346.0   47.0  75.0  14017.0   52        NaT   \n",
       "3     1000      June    187.0   43.0  60.0  23262.0   52        NaT   \n",
       "4     1000       May    164.0   22.0  22.0   2257.0   52        NaT   \n",
       "\n",
       "        city first_name  last_name   reg_date tariff  messages_included  \\\n",
       "0  Краснодар     Рафаил  Верещагин 2018-05-25  ultra               1000   \n",
       "1  Краснодар     Рафаил  Верещагин 2018-05-25  ultra               1000   \n",
       "2  Краснодар     Рафаил  Верещагин 2018-05-25  ultra               1000   \n",
       "3  Краснодар     Рафаил  Верещагин 2018-05-25  ultra               1000   \n",
       "4  Краснодар     Рафаил  Верещагин 2018-05-25  ultra               1000   \n",
       "\n",
       "   mb_per_month_included  minutes_included  rub_monthly_fee  rub_per_gb  \\\n",
       "0                  30720              3000             1950         150   \n",
       "1                  30720              3000             1950         150   \n",
       "2                  30720              3000             1950         150   \n",
       "3                  30720              3000             1950         150   \n",
       "4                  30720              3000             1950         150   \n",
       "\n",
       "   rub_per_message  rub_per_minute  \n",
       "0                1               1  \n",
       "1                1               1  \n",
       "2                1               1  \n",
       "3                1               1  \n",
       "4                1               1  "
      ]
     },
     "execution_count": 62,
     "metadata": {},
     "output_type": "execute_result"
    }
   ],
   "source": [
    "df.head()"
   ]
  },
  {
   "cell_type": "code",
   "execution_count": 63,
   "metadata": {},
   "outputs": [
    {
     "name": "stdout",
     "output_type": "stream",
     "text": [
      "<class 'pandas.core.frame.DataFrame'>\n",
      "Int64Index: 3214 entries, 0 to 3213\n",
      "Data columns (total 20 columns):\n",
      "user_id                  3214 non-null int64\n",
      "month                    3214 non-null object\n",
      "minutes                  3174 non-null float64\n",
      "calls                    3174 non-null float64\n",
      "sms                      2717 non-null float64\n",
      "mb_used                  3203 non-null float64\n",
      "age                      3214 non-null int64\n",
      "churn_date               187 non-null datetime64[ns]\n",
      "city                     3214 non-null object\n",
      "first_name               3214 non-null object\n",
      "last_name                3214 non-null object\n",
      "reg_date                 3214 non-null datetime64[ns]\n",
      "tariff                   3214 non-null object\n",
      "messages_included        3214 non-null int64\n",
      "mb_per_month_included    3214 non-null int64\n",
      "minutes_included         3214 non-null int64\n",
      "rub_monthly_fee          3214 non-null int64\n",
      "rub_per_gb               3214 non-null int64\n",
      "rub_per_message          3214 non-null int64\n",
      "rub_per_minute           3214 non-null int64\n",
      "dtypes: datetime64[ns](2), float64(4), int64(9), object(5)\n",
      "memory usage: 527.3+ KB\n"
     ]
    }
   ],
   "source": [
    "df.info()"
   ]
  },
  {
   "cell_type": "markdown",
   "metadata": {},
   "source": [
    "In the resulting table, we need to check for gaps and duplicates."
   ]
  },
  {
   "cell_type": "code",
   "execution_count": 64,
   "metadata": {},
   "outputs": [
    {
     "data": {
      "text/plain": [
       "0"
      ]
     },
     "execution_count": 64,
     "metadata": {},
     "output_type": "execute_result"
    }
   ],
   "source": [
    "df.duplicated().sum()"
   ]
  },
  {
   "cell_type": "code",
   "execution_count": 65,
   "metadata": {},
   "outputs": [
    {
     "data": {
      "text/plain": [
       "user_id                     0\n",
       "month                       0\n",
       "minutes                    40\n",
       "calls                      40\n",
       "sms                       497\n",
       "mb_used                    11\n",
       "age                         0\n",
       "churn_date               3027\n",
       "city                        0\n",
       "first_name                  0\n",
       "last_name                   0\n",
       "reg_date                    0\n",
       "tariff                      0\n",
       "messages_included           0\n",
       "mb_per_month_included       0\n",
       "minutes_included            0\n",
       "rub_monthly_fee             0\n",
       "rub_per_gb                  0\n",
       "rub_per_message             0\n",
       "rub_per_minute              0\n",
       "dtype: int64"
      ]
     },
     "execution_count": 65,
     "metadata": {},
     "output_type": "execute_result"
    }
   ],
   "source": [
    "df.isna().sum()"
   ]
  },
  {
   "cell_type": "markdown",
   "metadata": {},
   "source": [
    "The new table contains gaps in 4 columns. The number of gaps is small, for this reason I think that I can replace all gaps with zero values."
   ]
  },
  {
   "cell_type": "code",
   "execution_count": 66,
   "metadata": {},
   "outputs": [],
   "source": [
    "df['minutes'] = df['minutes'].fillna(0)\n",
    "df['calls'] = df['calls'].fillna(0)\n",
    "df['sms'] = df['sms'].fillna(0)\n",
    "df['mb_used'] = df['mb_used'].fillna(0)"
   ]
  },
  {
   "cell_type": "markdown",
   "metadata": {},
   "source": [
    "<font color = green> Hint from the quest:\n",
    "- monthly revenue from each user = subtract the free limit from the total number of calls, messages and Internet traffic; <br>\n",
    "- multiply the remainder by the value from the tariff plan; <br>\n",
    "- add the subscription fee corresponding to the tariff plan. </font>\n",
    "\n",
    "In order to calculate the monthly revenue from each user, I need to find out the difference between the number of services provided in the tariff and the users use. To do this, I add three columns to the table. In these columns I find out how users use the provided service package. That is, from the restrictions provided in the tariff, I subtract the spent number of minutes, sms and megabytes."
   ]
  },
  {
   "cell_type": "code",
   "execution_count": 67,
   "metadata": {},
   "outputs": [],
   "source": [
    "df['minutes_over']  = df['minutes'] - df['minutes_included']\n",
    "df['messages_over'] = df['sms'] - df['messages_included']\n",
    "df['mb_used_over']  = df['mb_used'] - df['mb_per_month_included']"
   ]
  },
  {
   "cell_type": "code",
   "execution_count": 68,
   "metadata": {},
   "outputs": [
    {
     "data": {
      "text/html": [
       "<div>\n",
       "<style scoped>\n",
       "    .dataframe tbody tr th:only-of-type {\n",
       "        vertical-align: middle;\n",
       "    }\n",
       "\n",
       "    .dataframe tbody tr th {\n",
       "        vertical-align: top;\n",
       "    }\n",
       "\n",
       "    .dataframe thead th {\n",
       "        text-align: right;\n",
       "    }\n",
       "</style>\n",
       "<table border=\"1\" class=\"dataframe\">\n",
       "  <thead>\n",
       "    <tr style=\"text-align: right;\">\n",
       "      <th></th>\n",
       "      <th>user_id</th>\n",
       "      <th>month</th>\n",
       "      <th>minutes</th>\n",
       "      <th>calls</th>\n",
       "      <th>sms</th>\n",
       "      <th>mb_used</th>\n",
       "      <th>age</th>\n",
       "      <th>churn_date</th>\n",
       "      <th>city</th>\n",
       "      <th>first_name</th>\n",
       "      <th>...</th>\n",
       "      <th>messages_included</th>\n",
       "      <th>mb_per_month_included</th>\n",
       "      <th>minutes_included</th>\n",
       "      <th>rub_monthly_fee</th>\n",
       "      <th>rub_per_gb</th>\n",
       "      <th>rub_per_message</th>\n",
       "      <th>rub_per_minute</th>\n",
       "      <th>minutes_over</th>\n",
       "      <th>messages_over</th>\n",
       "      <th>mb_used_over</th>\n",
       "    </tr>\n",
       "  </thead>\n",
       "  <tbody>\n",
       "    <tr>\n",
       "      <td>0</td>\n",
       "      <td>1000</td>\n",
       "      <td>August</td>\n",
       "      <td>418.0</td>\n",
       "      <td>52.0</td>\n",
       "      <td>81.0</td>\n",
       "      <td>14072.0</td>\n",
       "      <td>52</td>\n",
       "      <td>NaT</td>\n",
       "      <td>Краснодар</td>\n",
       "      <td>Рафаил</td>\n",
       "      <td>...</td>\n",
       "      <td>1000</td>\n",
       "      <td>30720</td>\n",
       "      <td>3000</td>\n",
       "      <td>1950</td>\n",
       "      <td>150</td>\n",
       "      <td>1</td>\n",
       "      <td>1</td>\n",
       "      <td>-2582.0</td>\n",
       "      <td>-919.0</td>\n",
       "      <td>-16648.0</td>\n",
       "    </tr>\n",
       "    <tr>\n",
       "      <td>1</td>\n",
       "      <td>1000</td>\n",
       "      <td>December</td>\n",
       "      <td>341.0</td>\n",
       "      <td>46.0</td>\n",
       "      <td>70.0</td>\n",
       "      <td>9829.0</td>\n",
       "      <td>52</td>\n",
       "      <td>NaT</td>\n",
       "      <td>Краснодар</td>\n",
       "      <td>Рафаил</td>\n",
       "      <td>...</td>\n",
       "      <td>1000</td>\n",
       "      <td>30720</td>\n",
       "      <td>3000</td>\n",
       "      <td>1950</td>\n",
       "      <td>150</td>\n",
       "      <td>1</td>\n",
       "      <td>1</td>\n",
       "      <td>-2659.0</td>\n",
       "      <td>-930.0</td>\n",
       "      <td>-20891.0</td>\n",
       "    </tr>\n",
       "    <tr>\n",
       "      <td>2</td>\n",
       "      <td>1000</td>\n",
       "      <td>July</td>\n",
       "      <td>346.0</td>\n",
       "      <td>47.0</td>\n",
       "      <td>75.0</td>\n",
       "      <td>14017.0</td>\n",
       "      <td>52</td>\n",
       "      <td>NaT</td>\n",
       "      <td>Краснодар</td>\n",
       "      <td>Рафаил</td>\n",
       "      <td>...</td>\n",
       "      <td>1000</td>\n",
       "      <td>30720</td>\n",
       "      <td>3000</td>\n",
       "      <td>1950</td>\n",
       "      <td>150</td>\n",
       "      <td>1</td>\n",
       "      <td>1</td>\n",
       "      <td>-2654.0</td>\n",
       "      <td>-925.0</td>\n",
       "      <td>-16703.0</td>\n",
       "    </tr>\n",
       "    <tr>\n",
       "      <td>3</td>\n",
       "      <td>1000</td>\n",
       "      <td>June</td>\n",
       "      <td>187.0</td>\n",
       "      <td>43.0</td>\n",
       "      <td>60.0</td>\n",
       "      <td>23262.0</td>\n",
       "      <td>52</td>\n",
       "      <td>NaT</td>\n",
       "      <td>Краснодар</td>\n",
       "      <td>Рафаил</td>\n",
       "      <td>...</td>\n",
       "      <td>1000</td>\n",
       "      <td>30720</td>\n",
       "      <td>3000</td>\n",
       "      <td>1950</td>\n",
       "      <td>150</td>\n",
       "      <td>1</td>\n",
       "      <td>1</td>\n",
       "      <td>-2813.0</td>\n",
       "      <td>-940.0</td>\n",
       "      <td>-7458.0</td>\n",
       "    </tr>\n",
       "    <tr>\n",
       "      <td>4</td>\n",
       "      <td>1000</td>\n",
       "      <td>May</td>\n",
       "      <td>164.0</td>\n",
       "      <td>22.0</td>\n",
       "      <td>22.0</td>\n",
       "      <td>2257.0</td>\n",
       "      <td>52</td>\n",
       "      <td>NaT</td>\n",
       "      <td>Краснодар</td>\n",
       "      <td>Рафаил</td>\n",
       "      <td>...</td>\n",
       "      <td>1000</td>\n",
       "      <td>30720</td>\n",
       "      <td>3000</td>\n",
       "      <td>1950</td>\n",
       "      <td>150</td>\n",
       "      <td>1</td>\n",
       "      <td>1</td>\n",
       "      <td>-2836.0</td>\n",
       "      <td>-978.0</td>\n",
       "      <td>-28463.0</td>\n",
       "    </tr>\n",
       "  </tbody>\n",
       "</table>\n",
       "<p>5 rows × 23 columns</p>\n",
       "</div>"
      ],
      "text/plain": [
       "   user_id     month  minutes  calls   sms  mb_used  age churn_date  \\\n",
       "0     1000    August    418.0   52.0  81.0  14072.0   52        NaT   \n",
       "1     1000  December    341.0   46.0  70.0   9829.0   52        NaT   \n",
       "2     1000      July    346.0   47.0  75.0  14017.0   52        NaT   \n",
       "3     1000      June    187.0   43.0  60.0  23262.0   52        NaT   \n",
       "4     1000       May    164.0   22.0  22.0   2257.0   52        NaT   \n",
       "\n",
       "        city first_name  ... messages_included mb_per_month_included  \\\n",
       "0  Краснодар     Рафаил  ...              1000                 30720   \n",
       "1  Краснодар     Рафаил  ...              1000                 30720   \n",
       "2  Краснодар     Рафаил  ...              1000                 30720   \n",
       "3  Краснодар     Рафаил  ...              1000                 30720   \n",
       "4  Краснодар     Рафаил  ...              1000                 30720   \n",
       "\n",
       "  minutes_included  rub_monthly_fee  rub_per_gb  rub_per_message  \\\n",
       "0             3000             1950         150                1   \n",
       "1             3000             1950         150                1   \n",
       "2             3000             1950         150                1   \n",
       "3             3000             1950         150                1   \n",
       "4             3000             1950         150                1   \n",
       "\n",
       "   rub_per_minute  minutes_over  messages_over  mb_used_over  \n",
       "0               1       -2582.0         -919.0      -16648.0  \n",
       "1               1       -2659.0         -930.0      -20891.0  \n",
       "2               1       -2654.0         -925.0      -16703.0  \n",
       "3               1       -2813.0         -940.0       -7458.0  \n",
       "4               1       -2836.0         -978.0      -28463.0  \n",
       "\n",
       "[5 rows x 23 columns]"
      ]
     },
     "execution_count": 68,
     "metadata": {},
     "output_type": "execute_result"
    }
   ],
   "source": [
    "df.head()"
   ]
  },
  {
   "cell_type": "markdown",
   "metadata": {},
   "source": [
    "In the columns `minutes_over`,` messages_over`, `mb_used_over` in the table data on deviations from tariff restrictions. Negative values in the columns indicate that the user has a balance within the tariff. Positive values indicate cost overruns."
   ]
  },
  {
   "cell_type": "code",
   "execution_count": 69,
   "metadata": {},
   "outputs": [
    {
     "data": {
      "text/plain": [
       "Index(['user_id', 'month', 'minutes', 'calls', 'sms', 'mb_used', 'age',\n",
       "       'churn_date', 'city', 'first_name', 'last_name', 'reg_date', 'tariff',\n",
       "       'messages_included', 'mb_per_month_included', 'minutes_included',\n",
       "       'rub_monthly_fee', 'rub_per_gb', 'rub_per_message', 'rub_per_minute',\n",
       "       'minutes_over', 'messages_over', 'mb_used_over'],\n",
       "      dtype='object')"
      ]
     },
     "execution_count": 69,
     "metadata": {},
     "output_type": "execute_result"
    }
   ],
   "source": [
    "df.columns"
   ]
  },
  {
   "cell_type": "markdown",
   "metadata": {},
   "source": [
    "Now you need to:\n",
    "- the remainder of the tariff plan (`minutes_over`) multiplied by the value from the tariff plan (` rub_per_minute`);\n",
    "- and then add the monthly fee corresponding to the tariff plan.\n",
    "\n",
    "Since in the tariff plans the cost of an additional gigabyte of Internet traffic in excess of the tariff package is indicated in gigabytes. It is necessary to divide the number of remaining megabytes by 1024, since 1 gigabyte = 1024 megabytes."
   ]
  },
  {
   "cell_type": "code",
   "execution_count": 70,
   "metadata": {},
   "outputs": [],
   "source": [
    "def month_revenue(row):\n",
    "    \n",
    "    minutes_price = 0\n",
    "    messages_price = 0\n",
    "    mb_used_price = 0\n",
    "    \n",
    "    if row['minutes_over'] > 0:\n",
    "        minutes_price = row['minutes_over'] * row['rub_per_minute']\n",
    "\n",
    "    if row['messages_over'] > 0:\n",
    "        messages_price = row['messages_over'] * row['rub_per_message']\n",
    "\n",
    "    if row['mb_used_over'] > 0:\n",
    "        mb_used_price = (row['mb_used_over'] / 1024) * row['rub_per_gb']\n",
    "    \n",
    "    return minutes_price + messages_price + mb_used_price"
   ]
  },
  {
   "cell_type": "markdown",
   "metadata": {},
   "source": [
    "We add to our table two columns in which there will be an overpayment per month and a total amount per month."
   ]
  },
  {
   "cell_type": "code",
   "execution_count": 71,
   "metadata": {},
   "outputs": [],
   "source": [
    "df['rub_monthly_fee_over'] = df.apply(month_revenue, axis=1)\n",
    "df['rub_monthly_fee_total'] = df['rub_monthly_fee'] + df['rub_monthly_fee_over']"
   ]
  },
  {
   "cell_type": "markdown",
   "metadata": {},
   "source": [
    "For the convenience of viewing the table, we remove the extra columns and leave only the ones we need for analysis."
   ]
  },
  {
   "cell_type": "code",
   "execution_count": 72,
   "metadata": {},
   "outputs": [],
   "source": [
    "df = pd.DataFrame(\n",
    "    df[['month', 'tariff', 'user_id', 'city',\n",
    "        'calls', 'minutes', 'sms', 'mb_used',\n",
    "        'minutes_over', 'messages_over', 'mb_used_over',\n",
    "        'rub_monthly_fee_over', 'rub_monthly_fee_total']]\n",
    ")"
   ]
  },
  {
   "cell_type": "code",
   "execution_count": 73,
   "metadata": {},
   "outputs": [
    {
     "data": {
      "text/html": [
       "<div>\n",
       "<style scoped>\n",
       "    .dataframe tbody tr th:only-of-type {\n",
       "        vertical-align: middle;\n",
       "    }\n",
       "\n",
       "    .dataframe tbody tr th {\n",
       "        vertical-align: top;\n",
       "    }\n",
       "\n",
       "    .dataframe thead th {\n",
       "        text-align: right;\n",
       "    }\n",
       "</style>\n",
       "<table border=\"1\" class=\"dataframe\">\n",
       "  <thead>\n",
       "    <tr style=\"text-align: right;\">\n",
       "      <th></th>\n",
       "      <th>month</th>\n",
       "      <th>tariff</th>\n",
       "      <th>user_id</th>\n",
       "      <th>city</th>\n",
       "      <th>calls</th>\n",
       "      <th>minutes</th>\n",
       "      <th>sms</th>\n",
       "      <th>mb_used</th>\n",
       "      <th>minutes_over</th>\n",
       "      <th>messages_over</th>\n",
       "      <th>mb_used_over</th>\n",
       "      <th>rub_monthly_fee_over</th>\n",
       "      <th>rub_monthly_fee_total</th>\n",
       "    </tr>\n",
       "  </thead>\n",
       "  <tbody>\n",
       "    <tr>\n",
       "      <td>3209</td>\n",
       "      <td>December</td>\n",
       "      <td>smart</td>\n",
       "      <td>1489</td>\n",
       "      <td>Санкт-Петербург</td>\n",
       "      <td>0.0</td>\n",
       "      <td>0.0</td>\n",
       "      <td>35.0</td>\n",
       "      <td>17349.0</td>\n",
       "      <td>-500.0</td>\n",
       "      <td>-15.0</td>\n",
       "      <td>1989.0</td>\n",
       "      <td>388.476562</td>\n",
       "      <td>938.476562</td>\n",
       "    </tr>\n",
       "    <tr>\n",
       "      <td>3210</td>\n",
       "      <td>November</td>\n",
       "      <td>smart</td>\n",
       "      <td>1489</td>\n",
       "      <td>Санкт-Петербург</td>\n",
       "      <td>0.0</td>\n",
       "      <td>0.0</td>\n",
       "      <td>20.0</td>\n",
       "      <td>17526.0</td>\n",
       "      <td>-500.0</td>\n",
       "      <td>-30.0</td>\n",
       "      <td>2166.0</td>\n",
       "      <td>423.046875</td>\n",
       "      <td>973.046875</td>\n",
       "    </tr>\n",
       "    <tr>\n",
       "      <td>3211</td>\n",
       "      <td>October</td>\n",
       "      <td>smart</td>\n",
       "      <td>1489</td>\n",
       "      <td>Санкт-Петербург</td>\n",
       "      <td>0.0</td>\n",
       "      <td>0.0</td>\n",
       "      <td>21.0</td>\n",
       "      <td>19599.0</td>\n",
       "      <td>-500.0</td>\n",
       "      <td>-29.0</td>\n",
       "      <td>4239.0</td>\n",
       "      <td>827.929688</td>\n",
       "      <td>1377.929688</td>\n",
       "    </tr>\n",
       "    <tr>\n",
       "      <td>3212</td>\n",
       "      <td>September</td>\n",
       "      <td>smart</td>\n",
       "      <td>1489</td>\n",
       "      <td>Санкт-Петербург</td>\n",
       "      <td>0.0</td>\n",
       "      <td>0.0</td>\n",
       "      <td>32.0</td>\n",
       "      <td>17246.0</td>\n",
       "      <td>-500.0</td>\n",
       "      <td>-18.0</td>\n",
       "      <td>1886.0</td>\n",
       "      <td>368.359375</td>\n",
       "      <td>918.359375</td>\n",
       "    </tr>\n",
       "    <tr>\n",
       "      <td>3213</td>\n",
       "      <td>April</td>\n",
       "      <td>ultra</td>\n",
       "      <td>1476</td>\n",
       "      <td>Москва</td>\n",
       "      <td>0.0</td>\n",
       "      <td>0.0</td>\n",
       "      <td>0.0</td>\n",
       "      <td>531.0</td>\n",
       "      <td>-3000.0</td>\n",
       "      <td>-1000.0</td>\n",
       "      <td>-30189.0</td>\n",
       "      <td>0.000000</td>\n",
       "      <td>1950.000000</td>\n",
       "    </tr>\n",
       "  </tbody>\n",
       "</table>\n",
       "</div>"
      ],
      "text/plain": [
       "          month tariff  user_id             city  calls  minutes   sms  \\\n",
       "3209   December  smart     1489  Санкт-Петербург    0.0      0.0  35.0   \n",
       "3210   November  smart     1489  Санкт-Петербург    0.0      0.0  20.0   \n",
       "3211    October  smart     1489  Санкт-Петербург    0.0      0.0  21.0   \n",
       "3212  September  smart     1489  Санкт-Петербург    0.0      0.0  32.0   \n",
       "3213      April  ultra     1476           Москва    0.0      0.0   0.0   \n",
       "\n",
       "      mb_used  minutes_over  messages_over  mb_used_over  \\\n",
       "3209  17349.0        -500.0          -15.0        1989.0   \n",
       "3210  17526.0        -500.0          -30.0        2166.0   \n",
       "3211  19599.0        -500.0          -29.0        4239.0   \n",
       "3212  17246.0        -500.0          -18.0        1886.0   \n",
       "3213    531.0       -3000.0        -1000.0      -30189.0   \n",
       "\n",
       "      rub_monthly_fee_over  rub_monthly_fee_total  \n",
       "3209            388.476562             938.476562  \n",
       "3210            423.046875             973.046875  \n",
       "3211            827.929688            1377.929688  \n",
       "3212            368.359375             918.359375  \n",
       "3213              0.000000            1950.000000  "
      ]
     },
     "execution_count": 73,
     "metadata": {},
     "output_type": "execute_result"
    }
   ],
   "source": [
    "df.tail()"
   ]
  },
  {
   "cell_type": "markdown",
   "metadata": {},
   "source": [
    "Based on the resulting table, we can see the amount of data analyzed. <br>\n",
    "We are interested in users of `ultra` and` smart` tariffs."
   ]
  },
  {
   "cell_type": "code",
   "execution_count": 75,
   "metadata": {},
   "outputs": [],
   "source": [
    "tariff_smart = df.query(\"tariff == 'smart'\")"
   ]
  },
  {
   "cell_type": "code",
   "execution_count": 76,
   "metadata": {},
   "outputs": [
    {
     "data": {
      "text/plain": [
       "350"
      ]
     },
     "execution_count": 76,
     "metadata": {},
     "output_type": "execute_result"
    }
   ],
   "source": [
    "len(tariff_smart.groupby('user_id'))"
   ]
  },
  {
   "cell_type": "code",
   "execution_count": 77,
   "metadata": {},
   "outputs": [],
   "source": [
    "tariff_ultra = df.query(\"tariff == 'ultra'\")"
   ]
  },
  {
   "cell_type": "code",
   "execution_count": 78,
   "metadata": {},
   "outputs": [
    {
     "data": {
      "text/plain": [
       "148"
      ]
     },
     "execution_count": 78,
     "metadata": {},
     "output_type": "execute_result"
    }
   ],
   "source": [
    "len(tariff_ultra.groupby('user_id'))"
   ]
  },
  {
   "cell_type": "markdown",
   "metadata": {},
   "source": [
    "In the resulting table after our conversions, we see that there are users who exceeded the tariff limits for the consumption of traffic, calls and sms. But there are also those who did not use the services provided by the tariff in full.\n",
    "\n",
    "In the general table, the users of the Smart tariff are 350, the users of the Ultra tariff are 148. I have lost information about the expenses of two users, I still do not understand how it happened."
   ]
  },
  {
   "cell_type": "markdown",
   "metadata": {},
   "source": [
    "# Step 3. Data Analysis <a class=\"anchor\" id=\"third-bullet\"></a>\n",
    "[back to table of contents](#contents)"
   ]
  },
  {
   "cell_type": "markdown",
   "metadata": {},
   "source": [
    "## 3.1. Description of operator customer behavior based on the sample <a class=\"anchor\" id=\"second3-1-bullet\"></a>\n",
    "**Summary table on tariffs by months**"
   ]
  },
  {
   "cell_type": "code",
   "execution_count": 84,
   "metadata": {},
   "outputs": [],
   "source": [
    "values = ['minutes', 'sms', 'mb_used', 'rub_monthly_fee_over', 'rub_monthly_fee_total']"
   ]
  },
  {
   "cell_type": "code",
   "execution_count": 86,
   "metadata": {},
   "outputs": [],
   "source": [
    "tariff_monthly_costs = df.pivot_table(\n",
    "    index=['tariff', 'month'],\n",
    "    values=values\n",
    ")"
   ]
  },
  {
   "cell_type": "code",
   "execution_count": 87,
   "metadata": {},
   "outputs": [
    {
     "data": {
      "text/html": [
       "<div>\n",
       "<style scoped>\n",
       "    .dataframe tbody tr th:only-of-type {\n",
       "        vertical-align: middle;\n",
       "    }\n",
       "\n",
       "    .dataframe tbody tr th {\n",
       "        vertical-align: top;\n",
       "    }\n",
       "\n",
       "    .dataframe thead th {\n",
       "        text-align: right;\n",
       "    }\n",
       "</style>\n",
       "<table border=\"1\" class=\"dataframe\">\n",
       "  <thead>\n",
       "    <tr style=\"text-align: right;\">\n",
       "      <th></th>\n",
       "      <th>mb_used</th>\n",
       "      <th>minutes</th>\n",
       "      <th>rub_monthly_fee_over</th>\n",
       "      <th>rub_monthly_fee_total</th>\n",
       "      <th>sms</th>\n",
       "    </tr>\n",
       "    <tr>\n",
       "      <th>month</th>\n",
       "      <th></th>\n",
       "      <th></th>\n",
       "      <th></th>\n",
       "      <th></th>\n",
       "      <th></th>\n",
       "    </tr>\n",
       "  </thead>\n",
       "  <tbody>\n",
       "    <tr>\n",
       "      <td>April</td>\n",
       "      <td>13486.080357</td>\n",
       "      <td>377.000000</td>\n",
       "      <td>384.781878</td>\n",
       "      <td>934.781878</td>\n",
       "      <td>30.741071</td>\n",
       "    </tr>\n",
       "    <tr>\n",
       "      <td>August</td>\n",
       "      <td>16640.212766</td>\n",
       "      <td>433.191489</td>\n",
       "      <td>726.647008</td>\n",
       "      <td>1276.647008</td>\n",
       "      <td>33.638298</td>\n",
       "    </tr>\n",
       "    <tr>\n",
       "      <td>December</td>\n",
       "      <td>18145.824926</td>\n",
       "      <td>491.418398</td>\n",
       "      <td>979.434927</td>\n",
       "      <td>1529.434927</td>\n",
       "      <td>35.994065</td>\n",
       "    </tr>\n",
       "    <tr>\n",
       "      <td>February</td>\n",
       "      <td>11617.344828</td>\n",
       "      <td>306.310345</td>\n",
       "      <td>262.159752</td>\n",
       "      <td>812.159752</td>\n",
       "      <td>24.086207</td>\n",
       "    </tr>\n",
       "    <tr>\n",
       "      <td>January</td>\n",
       "      <td>8528.588235</td>\n",
       "      <td>209.647059</td>\n",
       "      <td>154.895910</td>\n",
       "      <td>704.895910</td>\n",
       "      <td>18.235294</td>\n",
       "    </tr>\n",
       "    <tr>\n",
       "      <td>July</td>\n",
       "      <td>15771.398010</td>\n",
       "      <td>419.288557</td>\n",
       "      <td>635.629392</td>\n",
       "      <td>1185.629392</td>\n",
       "      <td>33.751244</td>\n",
       "    </tr>\n",
       "    <tr>\n",
       "      <td>June</td>\n",
       "      <td>15822.445122</td>\n",
       "      <td>406.701220</td>\n",
       "      <td>614.601038</td>\n",
       "      <td>1164.601038</td>\n",
       "      <td>33.402439</td>\n",
       "    </tr>\n",
       "    <tr>\n",
       "      <td>March</td>\n",
       "      <td>15131.207792</td>\n",
       "      <td>400.532468</td>\n",
       "      <td>583.213271</td>\n",
       "      <td>1133.213271</td>\n",
       "      <td>31.857143</td>\n",
       "    </tr>\n",
       "    <tr>\n",
       "      <td>May</td>\n",
       "      <td>15832.751773</td>\n",
       "      <td>398.404255</td>\n",
       "      <td>611.004377</td>\n",
       "      <td>1161.004377</td>\n",
       "      <td>33.773050</td>\n",
       "    </tr>\n",
       "    <tr>\n",
       "      <td>November</td>\n",
       "      <td>16925.962025</td>\n",
       "      <td>447.620253</td>\n",
       "      <td>754.095703</td>\n",
       "      <td>1304.095703</td>\n",
       "      <td>34.075949</td>\n",
       "    </tr>\n",
       "    <tr>\n",
       "      <td>October</td>\n",
       "      <td>16786.853741</td>\n",
       "      <td>438.295918</td>\n",
       "      <td>773.870669</td>\n",
       "      <td>1323.870669</td>\n",
       "      <td>33.765306</td>\n",
       "    </tr>\n",
       "    <tr>\n",
       "      <td>September</td>\n",
       "      <td>16332.615385</td>\n",
       "      <td>440.080769</td>\n",
       "      <td>667.753456</td>\n",
       "      <td>1217.753456</td>\n",
       "      <td>33.638462</td>\n",
       "    </tr>\n",
       "  </tbody>\n",
       "</table>\n",
       "</div>"
      ],
      "text/plain": [
       "                mb_used     minutes  rub_monthly_fee_over  \\\n",
       "month                                                       \n",
       "April      13486.080357  377.000000            384.781878   \n",
       "August     16640.212766  433.191489            726.647008   \n",
       "December   18145.824926  491.418398            979.434927   \n",
       "February   11617.344828  306.310345            262.159752   \n",
       "January     8528.588235  209.647059            154.895910   \n",
       "July       15771.398010  419.288557            635.629392   \n",
       "June       15822.445122  406.701220            614.601038   \n",
       "March      15131.207792  400.532468            583.213271   \n",
       "May        15832.751773  398.404255            611.004377   \n",
       "November   16925.962025  447.620253            754.095703   \n",
       "October    16786.853741  438.295918            773.870669   \n",
       "September  16332.615385  440.080769            667.753456   \n",
       "\n",
       "           rub_monthly_fee_total        sms  \n",
       "month                                        \n",
       "April                 934.781878  30.741071  \n",
       "August               1276.647008  33.638298  \n",
       "December             1529.434927  35.994065  \n",
       "February              812.159752  24.086207  \n",
       "January               704.895910  18.235294  \n",
       "July                 1185.629392  33.751244  \n",
       "June                 1164.601038  33.402439  \n",
       "March                1133.213271  31.857143  \n",
       "May                  1161.004377  33.773050  \n",
       "November             1304.095703  34.075949  \n",
       "October              1323.870669  33.765306  \n",
       "September            1217.753456  33.638462  "
      ]
     },
     "execution_count": 87,
     "metadata": {},
     "output_type": "execute_result"
    }
   ],
   "source": [
    "smart_monthly_costs = tariff_monthly_costs.loc['smart']\n",
    "smart_monthly_costs"
   ]
  },
  {
   "cell_type": "code",
   "execution_count": 88,
   "metadata": {},
   "outputs": [
    {
     "data": {
      "text/html": [
       "<div>\n",
       "<style scoped>\n",
       "    .dataframe tbody tr th:only-of-type {\n",
       "        vertical-align: middle;\n",
       "    }\n",
       "\n",
       "    .dataframe tbody tr th {\n",
       "        vertical-align: top;\n",
       "    }\n",
       "\n",
       "    .dataframe thead th {\n",
       "        text-align: right;\n",
       "    }\n",
       "</style>\n",
       "<table border=\"1\" class=\"dataframe\">\n",
       "  <thead>\n",
       "    <tr style=\"text-align: right;\">\n",
       "      <th></th>\n",
       "      <th>mb_used</th>\n",
       "      <th>minutes</th>\n",
       "      <th>rub_monthly_fee_over</th>\n",
       "      <th>rub_monthly_fee_total</th>\n",
       "      <th>sms</th>\n",
       "    </tr>\n",
       "    <tr>\n",
       "      <th>month</th>\n",
       "      <th></th>\n",
       "      <th></th>\n",
       "      <th></th>\n",
       "      <th></th>\n",
       "      <th></th>\n",
       "    </tr>\n",
       "  </thead>\n",
       "  <tbody>\n",
       "    <tr>\n",
       "      <td>April</td>\n",
       "      <td>16845.254545</td>\n",
       "      <td>470.072727</td>\n",
       "      <td>45.474077</td>\n",
       "      <td>1995.474077</td>\n",
       "      <td>31.563636</td>\n",
       "    </tr>\n",
       "    <tr>\n",
       "      <td>August</td>\n",
       "      <td>19595.878505</td>\n",
       "      <td>524.570093</td>\n",
       "      <td>121.230195</td>\n",
       "      <td>2071.230195</td>\n",
       "      <td>48.439252</td>\n",
       "    </tr>\n",
       "    <tr>\n",
       "      <td>December</td>\n",
       "      <td>21815.683453</td>\n",
       "      <td>609.129496</td>\n",
       "      <td>176.322926</td>\n",
       "      <td>2126.322926</td>\n",
       "      <td>60.611511</td>\n",
       "    </tr>\n",
       "    <tr>\n",
       "      <td>February</td>\n",
       "      <td>11788.333333</td>\n",
       "      <td>304.666667</td>\n",
       "      <td>23.095703</td>\n",
       "      <td>1973.095703</td>\n",
       "      <td>21.958333</td>\n",
       "    </tr>\n",
       "    <tr>\n",
       "      <td>January</td>\n",
       "      <td>13154.666667</td>\n",
       "      <td>440.888889</td>\n",
       "      <td>0.000000</td>\n",
       "      <td>1950.000000</td>\n",
       "      <td>33.777778</td>\n",
       "    </tr>\n",
       "    <tr>\n",
       "      <td>July</td>\n",
       "      <td>20516.571429</td>\n",
       "      <td>560.296703</td>\n",
       "      <td>158.562092</td>\n",
       "      <td>2108.562092</td>\n",
       "      <td>49.846154</td>\n",
       "    </tr>\n",
       "    <tr>\n",
       "      <td>June</td>\n",
       "      <td>18943.928571</td>\n",
       "      <td>492.428571</td>\n",
       "      <td>82.109724</td>\n",
       "      <td>2032.109724</td>\n",
       "      <td>41.726190</td>\n",
       "    </tr>\n",
       "    <tr>\n",
       "      <td>March</td>\n",
       "      <td>17553.513514</td>\n",
       "      <td>503.081081</td>\n",
       "      <td>54.254645</td>\n",
       "      <td>2004.254645</td>\n",
       "      <td>32.297297</td>\n",
       "    </tr>\n",
       "    <tr>\n",
       "      <td>May</td>\n",
       "      <td>19383.194030</td>\n",
       "      <td>524.865672</td>\n",
       "      <td>105.022738</td>\n",
       "      <td>2055.022738</td>\n",
       "      <td>37.850746</td>\n",
       "    </tr>\n",
       "    <tr>\n",
       "      <td>November</td>\n",
       "      <td>19807.126866</td>\n",
       "      <td>555.805970</td>\n",
       "      <td>130.850994</td>\n",
       "      <td>2080.850994</td>\n",
       "      <td>55.791045</td>\n",
       "    </tr>\n",
       "    <tr>\n",
       "      <td>October</td>\n",
       "      <td>20065.536585</td>\n",
       "      <td>572.829268</td>\n",
       "      <td>106.975276</td>\n",
       "      <td>2056.975276</td>\n",
       "      <td>58.430894</td>\n",
       "    </tr>\n",
       "    <tr>\n",
       "      <td>September</td>\n",
       "      <td>19224.043478</td>\n",
       "      <td>553.643478</td>\n",
       "      <td>63.776749</td>\n",
       "      <td>2013.776749</td>\n",
       "      <td>52.286957</td>\n",
       "    </tr>\n",
       "  </tbody>\n",
       "</table>\n",
       "</div>"
      ],
      "text/plain": [
       "                mb_used     minutes  rub_monthly_fee_over  \\\n",
       "month                                                       \n",
       "April      16845.254545  470.072727             45.474077   \n",
       "August     19595.878505  524.570093            121.230195   \n",
       "December   21815.683453  609.129496            176.322926   \n",
       "February   11788.333333  304.666667             23.095703   \n",
       "January    13154.666667  440.888889              0.000000   \n",
       "July       20516.571429  560.296703            158.562092   \n",
       "June       18943.928571  492.428571             82.109724   \n",
       "March      17553.513514  503.081081             54.254645   \n",
       "May        19383.194030  524.865672            105.022738   \n",
       "November   19807.126866  555.805970            130.850994   \n",
       "October    20065.536585  572.829268            106.975276   \n",
       "September  19224.043478  553.643478             63.776749   \n",
       "\n",
       "           rub_monthly_fee_total        sms  \n",
       "month                                        \n",
       "April                1995.474077  31.563636  \n",
       "August               2071.230195  48.439252  \n",
       "December             2126.322926  60.611511  \n",
       "February             1973.095703  21.958333  \n",
       "January              1950.000000  33.777778  \n",
       "July                 2108.562092  49.846154  \n",
       "June                 2032.109724  41.726190  \n",
       "March                2004.254645  32.297297  \n",
       "May                  2055.022738  37.850746  \n",
       "November             2080.850994  55.791045  \n",
       "October              2056.975276  58.430894  \n",
       "September            2013.776749  52.286957  "
      ]
     },
     "execution_count": 88,
     "metadata": {},
     "output_type": "execute_result"
    }
   ],
   "source": [
    "ultra_monthly_costs = tariff_monthly_costs.loc['ultra']\n",
    "ultra_monthly_costs"
   ]
  },
  {
   "cell_type": "markdown",
   "metadata": {},
   "source": [
    "**Tariff Summary Table**"
   ]
  },
  {
   "cell_type": "code",
   "execution_count": 92,
   "metadata": {},
   "outputs": [
    {
     "data": {
      "text/html": [
       "<div>\n",
       "<style scoped>\n",
       "    .dataframe tbody tr th:only-of-type {\n",
       "        vertical-align: middle;\n",
       "    }\n",
       "\n",
       "    .dataframe tbody tr th {\n",
       "        vertical-align: top;\n",
       "    }\n",
       "\n",
       "    .dataframe thead th {\n",
       "        text-align: right;\n",
       "    }\n",
       "</style>\n",
       "<table border=\"1\" class=\"dataframe\">\n",
       "  <thead>\n",
       "    <tr style=\"text-align: right;\">\n",
       "      <th></th>\n",
       "      <th>mb_used</th>\n",
       "      <th>minutes</th>\n",
       "      <th>rub_monthly_fee_over</th>\n",
       "      <th>rub_monthly_fee_total</th>\n",
       "      <th>sms</th>\n",
       "    </tr>\n",
       "    <tr>\n",
       "      <th>tariff</th>\n",
       "      <th></th>\n",
       "      <th></th>\n",
       "      <th></th>\n",
       "      <th></th>\n",
       "      <th></th>\n",
       "    </tr>\n",
       "  </thead>\n",
       "  <tbody>\n",
       "    <tr>\n",
       "      <td>smart</td>\n",
       "      <td>15085.107080</td>\n",
       "      <td>397.374228</td>\n",
       "      <td>595.673948</td>\n",
       "      <td>1145.673948</td>\n",
       "      <td>31.413211</td>\n",
       "    </tr>\n",
       "    <tr>\n",
       "      <td>ultra</td>\n",
       "      <td>18224.477581</td>\n",
       "      <td>509.356551</td>\n",
       "      <td>88.972927</td>\n",
       "      <td>2038.972927</td>\n",
       "      <td>43.714983</td>\n",
       "    </tr>\n",
       "  </tbody>\n",
       "</table>\n",
       "</div>"
      ],
      "text/plain": [
       "             mb_used     minutes  rub_monthly_fee_over  rub_monthly_fee_total  \\\n",
       "tariff                                                                          \n",
       "smart   15085.107080  397.374228            595.673948            1145.673948   \n",
       "ultra   18224.477581  509.356551             88.972927            2038.972927   \n",
       "\n",
       "              sms  \n",
       "tariff             \n",
       "smart   31.413211  \n",
       "ultra   43.714983  "
      ]
     },
     "execution_count": 92,
     "metadata": {},
     "output_type": "execute_result"
    }
   ],
   "source": [
    "tariff_usage = tariff_monthly_costs.pivot_table(\n",
    "    index='tariff',\n",
    "    values=values\n",
    ")\n",
    "\n",
    "tariff_usage"
   ]
  },
  {
   "cell_type": "markdown",
   "metadata": {},
   "source": [
    "**Conclusion**\n",
    "- Ultra tariff users are more active, but Smart tariff users spend an average of 6 times more on additional service packages. An operator can use this for a marketing company. <br>\n",
    "- The Ultra tariff brings more money to the operator, even taking into account the fact that on average users do not go beyond the limits of tariff limits, and Smart tariff users do not spend so much money to overtake the cost of the Ultra tariff. Thus, the Smart tariff is more beneficial for the user."
   ]
  },
  {
   "cell_type": "markdown",
   "metadata": {},
   "source": [
    "## 3.2. Calculation of average quantity, variance and standard deviation <a class=\"anchor\" id=\"second3-2-bullet\"></a>"
   ]
  },
  {
   "cell_type": "markdown",
   "metadata": {},
   "source": [
    "**1. Analysis of call data and minutes of conversation** <br>\n",
    "We find the average, variance and standard deviation in the use of calls by users, at two tariffs smart and ultra."
   ]
  },
  {
   "cell_type": "code",
   "execution_count": 93,
   "metadata": {},
   "outputs": [
    {
     "data": {
      "text/plain": [
       "count     12.000000\n",
       "mean     397.374228\n",
       "std       74.270865\n",
       "min      209.647059\n",
       "25%      393.053191\n",
       "50%      412.994888\n",
       "75%      438.742131\n",
       "max      491.418398\n",
       "Name: minutes, dtype: float64"
      ]
     },
     "execution_count": 93,
     "metadata": {},
     "output_type": "execute_result"
    }
   ],
   "source": [
    "smart_monthly_costs['minutes'].describe()"
   ]
  },
  {
   "cell_type": "code",
   "execution_count": 94,
   "metadata": {},
   "outputs": [
    {
     "data": {
      "text/plain": [
       "count     12.000000\n",
       "mean     509.356551\n",
       "std       79.557936\n",
       "min      304.666667\n",
       "25%      486.839610\n",
       "50%      524.717883\n",
       "75%      556.928653\n",
       "max      609.129496\n",
       "Name: minutes, dtype: float64"
      ]
     },
     "execution_count": 94,
     "metadata": {},
     "output_type": "execute_result"
    }
   ],
   "source": [
    "ultra_monthly_costs['minutes'].describe()"
   ]
  },
  {
   "cell_type": "code",
   "execution_count": 163,
   "metadata": {},
   "outputs": [
    {
     "data": {
      "text/html": [
       "<style  type=\"text/css\" >\n",
       "</style><table id=\"T_632bcef0_15fb_11ea_b9ee_02420a003564\" ><thead>    <tr>        <th class=\"blank level0\" ></th>        <th class=\"col_heading level0 col0\" colspan=4>minutes</th>    </tr>    <tr>        <th class=\"blank level1\" ></th>        <th class=\"col_heading level1 col0\" >median</th>        <th class=\"col_heading level1 col1\" >mean</th>        <th class=\"col_heading level1 col2\" >var</th>        <th class=\"col_heading level1 col3\" >std</th>    </tr>    <tr>        <th class=\"index_name level0\" >tariff</th>        <th class=\"blank\" ></th>        <th class=\"blank\" ></th>        <th class=\"blank\" ></th>        <th class=\"blank\" ></th>    </tr></thead><tbody>\n",
       "                <tr>\n",
       "                        <th id=\"T_632bcef0_15fb_11ea_b9ee_02420a003564level0_row0\" class=\"row_heading level0 row0\" >smart</th>\n",
       "                        <td id=\"T_632bcef0_15fb_11ea_b9ee_02420a003564row0_col0\" class=\"data row0 col0\" >435.00</td>\n",
       "                        <td id=\"T_632bcef0_15fb_11ea_b9ee_02420a003564row0_col1\" class=\"data row0 col1\" >429.45</td>\n",
       "                        <td id=\"T_632bcef0_15fb_11ea_b9ee_02420a003564row0_col2\" class=\"data row0 col2\" >37974.77</td>\n",
       "                        <td id=\"T_632bcef0_15fb_11ea_b9ee_02420a003564row0_col3\" class=\"data row0 col3\" >194.87</td>\n",
       "            </tr>\n",
       "            <tr>\n",
       "                        <th id=\"T_632bcef0_15fb_11ea_b9ee_02420a003564level0_row1\" class=\"row_heading level0 row1\" >ultra</th>\n",
       "                        <td id=\"T_632bcef0_15fb_11ea_b9ee_02420a003564row1_col0\" class=\"data row1 col0\" >532.00</td>\n",
       "                        <td id=\"T_632bcef0_15fb_11ea_b9ee_02420a003564row1_col1\" class=\"data row1 col1\" >540.78</td>\n",
       "                        <td id=\"T_632bcef0_15fb_11ea_b9ee_02420a003564row1_col2\" class=\"data row1 col2\" >106105.73</td>\n",
       "                        <td id=\"T_632bcef0_15fb_11ea_b9ee_02420a003564row1_col3\" class=\"data row1 col3\" >325.74</td>\n",
       "            </tr>\n",
       "    </tbody></table>"
      ],
      "text/plain": [
       "<pandas.io.formats.style.Styler at 0x7f598affd080>"
      ]
     },
     "execution_count": 163,
     "metadata": {},
     "output_type": "execute_result"
    }
   ],
   "source": [
    "df.groupby('tariff').agg({'minutes':['median','mean','var','std']}).style.format(\"{:.2f}\")"
   ]
  },
  {
   "cell_type": "markdown",
   "metadata": {},
   "source": [
    "**2. Message Data Analysis** <br>\n",
    "We find the average, variance and standard deviation in the use of sms by users, at two tariffs smart and ultra."
   ]
  },
  {
   "cell_type": "code",
   "execution_count": 121,
   "metadata": {},
   "outputs": [
    {
     "data": {
      "text/plain": [
       "count    12.000000\n",
       "mean     31.413211\n",
       "std       5.103413\n",
       "min      18.235294\n",
       "25%      31.578125\n",
       "50%      33.638380\n",
       "75%      33.767242\n",
       "max      35.994065\n",
       "Name: sms, dtype: float64"
      ]
     },
     "execution_count": 121,
     "metadata": {},
     "output_type": "execute_result"
    }
   ],
   "source": [
    "smart_monthly_costs['sms'].describe()"
   ]
  },
  {
   "cell_type": "code",
   "execution_count": 122,
   "metadata": {},
   "outputs": [
    {
     "data": {
      "text/plain": [
       "count    12.000000\n",
       "mean     43.714983\n",
       "std      12.320470\n",
       "min      21.958333\n",
       "25%      33.407658\n",
       "50%      45.082721\n",
       "75%      53.162979\n",
       "max      60.611511\n",
       "Name: sms, dtype: float64"
      ]
     },
     "execution_count": 122,
     "metadata": {},
     "output_type": "execute_result"
    }
   ],
   "source": [
    "ultra_monthly_costs['sms'].describe()"
   ]
  },
  {
   "cell_type": "code",
   "execution_count": 141,
   "metadata": {},
   "outputs": [
    {
     "data": {
      "text/html": [
       "<style  type=\"text/css\" >\n",
       "</style><table id=\"T_64f43ff4_15f8_11ea_b9ee_02420a003564\" ><thead>    <tr>        <th class=\"blank level0\" ></th>        <th class=\"col_heading level0 col0\" colspan=4>sms</th>    </tr>    <tr>        <th class=\"blank level1\" ></th>        <th class=\"col_heading level1 col0\" >median</th>        <th class=\"col_heading level1 col1\" >mean</th>        <th class=\"col_heading level1 col2\" >var</th>        <th class=\"col_heading level1 col3\" >std</th>    </tr>    <tr>        <th class=\"index_name level0\" >tariff</th>        <th class=\"blank\" ></th>        <th class=\"blank\" ></th>        <th class=\"blank\" ></th>        <th class=\"blank\" ></th>    </tr></thead><tbody>\n",
       "                <tr>\n",
       "                        <th id=\"T_64f43ff4_15f8_11ea_b9ee_02420a003564level0_row0\" class=\"row_heading level0 row0\" >smart</th>\n",
       "                        <td id=\"T_64f43ff4_15f8_11ea_b9ee_02420a003564row0_col0\" class=\"data row0 col0\" >28.00</td>\n",
       "                        <td id=\"T_64f43ff4_15f8_11ea_b9ee_02420a003564row0_col1\" class=\"data row0 col1\" >33.38</td>\n",
       "                        <td id=\"T_64f43ff4_15f8_11ea_b9ee_02420a003564row0_col2\" class=\"data row0 col2\" >796.81</td>\n",
       "                        <td id=\"T_64f43ff4_15f8_11ea_b9ee_02420a003564row0_col3\" class=\"data row0 col3\" >28.23</td>\n",
       "            </tr>\n",
       "            <tr>\n",
       "                        <th id=\"T_64f43ff4_15f8_11ea_b9ee_02420a003564level0_row1\" class=\"row_heading level0 row1\" >ultra</th>\n",
       "                        <td id=\"T_64f43ff4_15f8_11ea_b9ee_02420a003564row1_col0\" class=\"data row1 col0\" >38.00</td>\n",
       "                        <td id=\"T_64f43ff4_15f8_11ea_b9ee_02420a003564row1_col1\" class=\"data row1 col1\" >49.36</td>\n",
       "                        <td id=\"T_64f43ff4_15f8_11ea_b9ee_02420a003564row1_col2\" class=\"data row1 col2\" >2285.27</td>\n",
       "                        <td id=\"T_64f43ff4_15f8_11ea_b9ee_02420a003564row1_col3\" class=\"data row1 col3\" >47.80</td>\n",
       "            </tr>\n",
       "    </tbody></table>"
      ],
      "text/plain": [
       "<pandas.io.formats.style.Styler at 0x7f598a6a12b0>"
      ]
     },
     "execution_count": 141,
     "metadata": {},
     "output_type": "execute_result"
    }
   ],
   "source": [
    "df.groupby('tariff').agg({'sms':['median','mean','var','std']}).style.format(\"{:.2f}\")"
   ]
  },
  {
   "cell_type": "markdown",
   "metadata": {},
   "source": [
    "**3. Web traffic analysis** <br>\n",
    "We find the average, variance and standard deviation in the use of Internet traffic by users, at two tariffs smart and ultra."
   ]
  },
  {
   "cell_type": "code",
   "execution_count": 126,
   "metadata": {},
   "outputs": [
    {
     "data": {
      "text/plain": [
       "count       12.000000\n",
       "mean     15085.107080\n",
       "std       2676.043117\n",
       "min       8528.588235\n",
       "25%      14719.925933\n",
       "50%      15827.598448\n",
       "75%      16676.873010\n",
       "max      18145.824926\n",
       "Name: mb_used, dtype: float64"
      ]
     },
     "execution_count": 126,
     "metadata": {},
     "output_type": "execute_result"
    }
   ],
   "source": [
    "smart_monthly_costs['mb_used'].describe()"
   ]
  },
  {
   "cell_type": "code",
   "execution_count": 127,
   "metadata": {},
   "outputs": [
    {
     "data": {
      "text/plain": [
       "count       12.000000\n",
       "mean     18224.477581\n",
       "std       2988.831047\n",
       "min      11788.333333\n",
       "25%      17376.448771\n",
       "50%      19303.618754\n",
       "75%      19871.729296\n",
       "max      21815.683453\n",
       "Name: mb_used, dtype: float64"
      ]
     },
     "execution_count": 127,
     "metadata": {},
     "output_type": "execute_result"
    }
   ],
   "source": [
    "ultra_monthly_costs['mb_used'].describe()"
   ]
  },
  {
   "cell_type": "code",
   "execution_count": 142,
   "metadata": {},
   "outputs": [
    {
     "data": {
      "text/html": [
       "<style  type=\"text/css\" >\n",
       "</style><table id=\"T_831d0f7e_15f8_11ea_b9ee_02420a003564\" ><thead>    <tr>        <th class=\"blank level0\" ></th>        <th class=\"col_heading level0 col0\" colspan=4>mb_used</th>    </tr>    <tr>        <th class=\"blank level1\" ></th>        <th class=\"col_heading level1 col0\" >median</th>        <th class=\"col_heading level1 col1\" >mean</th>        <th class=\"col_heading level1 col2\" >var</th>        <th class=\"col_heading level1 col3\" >std</th>    </tr>    <tr>        <th class=\"index_name level0\" >tariff</th>        <th class=\"blank\" ></th>        <th class=\"blank\" ></th>        <th class=\"blank\" ></th>        <th class=\"blank\" ></th>    </tr></thead><tbody>\n",
       "                <tr>\n",
       "                        <th id=\"T_831d0f7e_15f8_11ea_b9ee_02420a003564level0_row0\" class=\"row_heading level0 row0\" >smart</th>\n",
       "                        <td id=\"T_831d0f7e_15f8_11ea_b9ee_02420a003564row0_col0\" class=\"data row0 col0\" >16540.00</td>\n",
       "                        <td id=\"T_831d0f7e_15f8_11ea_b9ee_02420a003564row0_col1\" class=\"data row0 col1\" >16237.18</td>\n",
       "                        <td id=\"T_831d0f7e_15f8_11ea_b9ee_02420a003564row0_col2\" class=\"data row0 col2\" >34571991.09</td>\n",
       "                        <td id=\"T_831d0f7e_15f8_11ea_b9ee_02420a003564row0_col3\" class=\"data row0 col3\" >5879.80</td>\n",
       "            </tr>\n",
       "            <tr>\n",
       "                        <th id=\"T_831d0f7e_15f8_11ea_b9ee_02420a003564level0_row1\" class=\"row_heading level0 row1\" >ultra</th>\n",
       "                        <td id=\"T_831d0f7e_15f8_11ea_b9ee_02420a003564row1_col0\" class=\"data row1 col0\" >19324.00</td>\n",
       "                        <td id=\"T_831d0f7e_15f8_11ea_b9ee_02420a003564row1_col1\" class=\"data row1 col1\" >19488.70</td>\n",
       "                        <td id=\"T_831d0f7e_15f8_11ea_b9ee_02420a003564row1_col2\" class=\"data row1 col2\" >101951580.69</td>\n",
       "                        <td id=\"T_831d0f7e_15f8_11ea_b9ee_02420a003564row1_col3\" class=\"data row1 col3\" >10097.11</td>\n",
       "            </tr>\n",
       "    </tbody></table>"
      ],
      "text/plain": [
       "<pandas.io.formats.style.Styler at 0x7f598a6a3668>"
      ]
     },
     "execution_count": 142,
     "metadata": {},
     "output_type": "execute_result"
    }
   ],
   "source": [
    "df.groupby('tariff').agg({'mb_used':['median','mean','var','std']}).style.format(\"{:.2f}\")"
   ]
  },
  {
   "cell_type": "markdown",
   "metadata": {},
   "source": [
    "## 3.3. Distribution histograms <a class=\"anchor\" id=\"second3-3-bullet\"></a>"
   ]
  },
  {
   "cell_type": "markdown",
   "metadata": {},
   "source": [
    "**1. Analysis of call data and minutes of conversation** <br>\n",
    "Normal distribution is determined by the mean and variance. They allow you to understand how noisy the data is now."
   ]
  },
  {
   "cell_type": "code",
   "execution_count": 155,
   "metadata": {},
   "outputs": [
    {
     "data": {
      "text/plain": [
       "Text(0.5, 1.0, 'Звонки в минутах в месяц')"
      ]
     },
     "execution_count": 155,
     "metadata": {},
     "output_type": "execute_result"
    },
    {
     "data": {
      "image/png": "[encoded data removed]",
      "text/plain": [
       "<Figure size 432x288 with 1 Axes>"
      ]
     },
     "metadata": {
      "needs_background": "light"
     },
     "output_type": "display_data"
    }
   ],
   "source": [
    "df[df['tariff'] == 'smart']['minutes'].plot(kind='hist', label='smart', bins=10)\n",
    "df[df['tariff'] == 'ultra']['minutes'].plot(kind='hist', label='ultra', bins=10, alpha=0.7)\n",
    "plt.legend(loc='upper right')\n",
    "plt.title('Звонки в минутах в месяц')"
   ]
  },
  {
   "cell_type": "markdown",
   "metadata": {},
   "source": [
    "**2. Message Data Analysis** <br>\n",
    "Normal distribution is determined by the mean and variance. They allow you to understand how noisy the data is now."
   ]
  },
  {
   "cell_type": "code",
   "execution_count": 156,
   "metadata": {},
   "outputs": [
    {
     "data": {
      "text/plain": [
       "Text(0.5, 1.0, 'Количество sms в месяц')"
      ]
     },
     "execution_count": 156,
     "metadata": {},
     "output_type": "execute_result"
    },
    {
     "data": {
      "image/png": "[encoded data removed]",
      "text/plain": [
       "<Figure size 432x288 with 1 Axes>"
      ]
     },
     "metadata": {
      "needs_background": "light"
     },
     "output_type": "display_data"
    }
   ],
   "source": [
    "df[df['tariff'] == 'smart']['sms'].plot(kind='hist', label='smart', bins=10)\n",
    "df[df['tariff'] == 'ultra']['sms'].plot(kind='hist', label='ultra', bins=10, alpha=0.7)\n",
    "plt.legend(loc='upper right')\n",
    "plt.title('Количество sms в месяц')"
   ]
  },
  {
   "cell_type": "markdown",
   "metadata": {},
   "source": [
    "**3. Web traffic analysis** <br>\n",
    "Normal distribution is determined by the mean and variance. They allow you to understand how noisy the data is now."
   ]
  },
  {
   "cell_type": "code",
   "execution_count": 158,
   "metadata": {},
   "outputs": [
    {
     "data": {
      "text/plain": [
       "Text(0.5, 1.0, 'Расход интернет-трафика в месяц')"
      ]
     },
     "execution_count": 158,
     "metadata": {},
     "output_type": "execute_result"
    },
    {
     "data": {
      "image/png": "[encoded data removed]",
      "text/plain": [
       "<Figure size 432x288 with 1 Axes>"
      ]
     },
     "metadata": {
      "needs_background": "light"
     },
     "output_type": "display_data"
    }
   ],
   "source": [
    "df[df['tariff'] == 'smart']['mb_used'].plot(kind='hist', label='smart', bins=10)\n",
    "df[df['tariff'] == 'ultra']['mb_used'].plot(kind='hist', label='ultra', bins=10, alpha=0.7)\n",
    "plt.legend(loc='upper right')\n",
    "plt.title('Расход интернет-трафика в месяц')"
   ]
  },
  {
   "cell_type": "markdown",
   "metadata": {},
   "source": [
    "<font color='blue'> Гистограммы построены правильно. Хорошо, что ты отобразил гистограммы на одном графике. </font>"
   ]
  },
  {
   "cell_type": "markdown",
   "metadata": {},
   "source": [
    "## 3.4. Description of the resulting distributions <a class=\"anchor\" id=\"second3-4-bullet\"></a>"
   ]
  },
  {
   "cell_type": "markdown",
   "metadata": {},
   "source": [
    "**1. Analysis of call data and minutes of conversation** <br>\n",
    "Normal distribution is determined by the mean and variance. They let you know how noisy the data is now. <br>\n",
    "\n",
    "* Users connected to the Smart tariff spend about **429 minutes** per month on phone calls. Since the tariff limit is 500 minutes of conversation, users fit into the framework of the tariff plan.\n",
    "* Users connected to the Ultra tariff plan spend about **540 minutes** per month on phone calls. Since the tariff limit is 3000 minutes of conversation, users still have most of the minutes within the tariff."
   ]
  },
  {
   "cell_type": "markdown",
   "metadata": {},
   "source": [
    "**2. Message Data Analysis** <br>\n",
    "Normal distribution is determined by the mean and variance. They let you know how noisy the data is now. <br>\n",
    "\n",
    "* Users connected to the Smart tariff spend about **33 messages** per month. Since the tariff limit is 50 messages, users still have most of the unused messages within the tariff.\n",
    "* Users connected to the Ultra tariff plan spend about **49 messages** per month. Since the tariff limit is 1000 messages, users still have most of the unused messages within the tariff."
   ]
  },
  {
   "cell_type": "markdown",
   "metadata": {},
   "source": [
    "**3. Web traffic analysis** <br>\n",
    "Normal distribution is determined by the mean and variance. They let you know how noisy the data is now. <br>\n",
    "\n",
    "* Users connected to the Smart tariff spend about **16237 mb** = 15gb per month. Since the tariff limit is 15 GB, users fit into the framework of the tariff plan.\n",
    "* Users connected to the Ultra tariff plan spend about **19488 mb** = 19gb per month. Since the tariff limit is 30 GB, users still have most of the unused Internet traffic within the tariff."
   ]
  },
  {
   "cell_type": "markdown",
   "metadata": {},
   "source": [
    "# Step 4. Hypothesis Testing <a class=\"anchor\" id=\"fourth-bullet\"></a>\n",
    "[back to table of contents](#contents) <br>\n",
    "\n",
    "We are considering two general aggregates - users of different tariffs of a mobile operator. We check two (bilateral) hypotheses about the equality of the average of two populations from the samples taken from them. To understand whether the average revenue of users of different tariffs and settlements is different, whether the difference between the average values is significant, we will conduct statistical tests."
   ]
  },
  {
   "cell_type": "markdown",
   "metadata": {},
   "source": [
    "## 4.1. Hypothesis 1. <br> The average revenue of users of the tariffs \"Ultra\" and \"Smart\" is different <a class=\"anchor\" id=\"fourth4-1-bullet\"></a>"
   ]
  },
  {
   "cell_type": "markdown",
   "metadata": {},
   "source": [
    "H₀- null hypothesis: <br>\n",
    "**Average revenue for Ultra and Smart tariffs does not differ** <br>\n",
    "\n",
    "H₁ - alternative hypothesis: <br>\n",
    "**Average revenue for Ultra and Smart tariffs differs** <br>\n",
    "\n",
    "Threshold alpha, critical level of statistical significance = 1%."
   ]
  },
  {
   "cell_type": "code",
   "execution_count": 169,
   "metadata": {},
   "outputs": [
    {
     "name": "stdout",
     "output_type": "stream",
     "text": [
      "p-значение: 6.8954572985407385e-12\n",
      "Отвергаем нулевую гипотезу\n"
     ]
    }
   ],
   "source": [
    "alpha = .01\n",
    "\n",
    "results = st.ttest_ind(\n",
    "    smart_monthly_costs['rub_monthly_fee_total'], \n",
    "    ultra_monthly_costs['rub_monthly_fee_total'])\n",
    "\n",
    "print('p-значение:', results.pvalue)\n",
    "\n",
    "if (results.pvalue < alpha):\n",
    "    print(\"Отвергаем нулевую гипотезу\")\n",
    "else:\n",
    "    print(\"Подтверждаем нулевую гипотезу\")"
   ]
  },
  {
   "cell_type": "markdown",
   "metadata": {},
   "source": [
    "- Got a `p-value` equal to **6.895**;\n",
    "- The average revenue for Ultra and Smart tariffs is not the same, therefore, the average revenue for users of Ultra and Smart tariffs really differs and our hypothesis was confirmed."
   ]
  },
  {
   "cell_type": "markdown",
   "metadata": {},
   "source": [
    "## 4.2. Hypothesis 2.<br> The average revenue of users from Moscow <br>differs from the revenue of users from other regions <a class=\"anchor\" id=\"fourth4-2-bullet\"></a>"
   ]
  },
  {
   "cell_type": "markdown",
   "metadata": {},
   "source": [
    "H₀- null hypothesis: <br>\n",
    "**Average revenue in Moscow does not differ from revenue from other regions** <br>\n",
    "\n",
    "H₁ - alternative hypothesis: <br>\n",
    "**Average revenue in Moscow differs from revenue from other regions** <br>\n",
    "\n",
    "Threshold alpha, critical level of statistical significance = 5%."
   ]
  },
  {
   "cell_type": "code",
   "execution_count": 220,
   "metadata": {},
   "outputs": [
    {
     "data": {
      "text/plain": [
       "array(['Краснодар', 'Москва', 'Стерлитамак', 'Новокузнецк',\n",
       "       'Набережные Челны', 'Ульяновск', 'Челябинск', 'Пермь', 'Тюмень',\n",
       "       'Самара', 'Санкт-Петербург', 'Иваново', 'Чебоксары', 'Омск', 'Уфа',\n",
       "       'Томск', 'Чита', 'Мурманск', 'Петрозаводск', 'Тверь',\n",
       "       'Екатеринбург', 'Махачкала', 'Вологда', 'Череповец', 'Ярославль',\n",
       "       'Сочи', 'Хабаровск', 'Ставрополь', 'Рязань', 'Улан-Удэ', 'Тула',\n",
       "       'Саратов', 'Ростов-на-Дону', 'Казань', 'Иркутск', 'Курск',\n",
       "       'Калуга', 'Якутск', 'Астрахань', 'Химки', 'Владикавказ',\n",
       "       'Волгоград', 'Саранск', 'Ижевск', 'Новосибирск', 'Брянск',\n",
       "       'Тольятти', 'Нижний Тагил', 'Орёл', 'Белгород', 'Воронеж',\n",
       "       'Курган', 'Барнаул', 'Красноярск', 'Архангельск', 'Липецк',\n",
       "       'Кемерово', 'Киров', 'Сургут', 'Пенза', 'Волжский', 'Магнитогорск',\n",
       "       'Нижний Новгород', 'Кострома', 'Владивосток', 'Тамбов', 'Балашиха',\n",
       "       'Севастополь', 'Калининград', 'Оренбург', 'Смоленск',\n",
       "       'Нижневартовск', 'Владимир', 'Новороссийск', 'Грозный', 'Подольск'],\n",
       "      dtype=object)"
      ]
     },
     "execution_count": 220,
     "metadata": {},
     "output_type": "execute_result"
    }
   ],
   "source": [
    "df['city'].unique()"
   ]
  },
  {
   "cell_type": "code",
   "execution_count": 221,
   "metadata": {},
   "outputs": [
    {
     "name": "stdout",
     "output_type": "stream",
     "text": [
      "p-значение: 0.2599724143101045\n",
      "Не получилось отвергнуть нулевую гипотезу\n"
     ]
    }
   ],
   "source": [
    "alpha = .05\n",
    "\n",
    "moscow = df.query(\"city == 'Москва'\")['rub_monthly_fee_total']\n",
    "other_cities = df.query(\"city == 'Санкт-Петербург'\")['rub_monthly_fee_total']\n",
    "\n",
    "results = st.ttest_ind(moscow, other_cities)\n",
    "\n",
    "print('p-значение:', results.pvalue)\n",
    "\n",
    "if (results.pvalue < alpha):\n",
    "    print(\"Отвергаем нулевую гипотезу\")\n",
    "else:\n",
    "    print(\"Не получилось отвергнуть нулевую гипотезу\")"
   ]
  },
  {
   "cell_type": "markdown",
   "metadata": {},
   "source": [
    "- Got a `p-value` equal to **0.259**;\n",
    "- The average revenue in Moscow and St. Petersburg is not the same, with a probability of 25% such a difference can be obtained by chance;\n",
    "- Thus, our hypothesis that the average revenue of users from Moscow differs from the revenue of users from other regions has not been confirmed."
   ]
  },
  {
   "cell_type": "markdown",
   "metadata": {},
   "source": [
    "# Step 5. General conclusion <a class=\"anchor\" id=\"fifth-bullet\"></a>\n",
    "[back to table of contents](#contents)"
   ]
  },
  {
   "cell_type": "markdown",
   "metadata": {},
   "source": [
    "Based on the analysis of customer behavior of the federal mobile operator Megaline, the following conclusions can be drawn:\n",
    "- For users, the Smart tariff is more profitable, since:\n",
    "    - Users connected to the Smart tariff spend about 429 minutes per month on phone calls. Since the tariff limit is 500 minutes of conversation, users fit into the framework of the tariff plan;\n",
    "    - Users connected to the Smart tariff spend about 33 messages per month. Since the tariff limit is 50 messages, users still have most of the unused messages within the tariff.\n",
    "    - Users connected to the Smart tariff spend about 16237 mb = 15gb per month. Since the tariff limit is 15 GB, users fit into the framework of the tariff plan.\n",
    "\n",
    "- For the mobile operator, the Ultra tariff is more profitable, since:\n",
    "    - Users connected to the Ultra tariff plan spend about 540 minutes per month on telephone calls. Since the tariff limit is 3000 minutes of conversation, users still have most of the minutes within the tariff;\n",
    "    - Users connected to the Ultra tariff plan spend about 49 messages per month. Since the tariff limit is 1000 messages, users still have most of the unused messages within the tariff;\n",
    "    - Users connected to the Ultra tariff spend about 19488 mb = 19gb per month. Since the tariff limit is 30 GB, users still have most of the unused Internet traffic within the tariff.\n",
    "    - In general, all users of the Ultra tariff always have a portion of unspent minutes, sms and Internet traffic.\n",
    "    \n",
    "Of the two hypotheses, only the first was confirmed:\n",
    "**Average revenue of Ultra and Smart tariff users differs**\n",
    "\n",
    "**Recommendations to the mobile operator:**\n",
    "- It is necessary to correct rounding / track the correctness of the unloading of signs with zero values in the columns;\n",
    "- Nudy knowledge in the sign **minutes** and **mb** should be rounded to 1;\n",
    "- It is necessary to optimize the Ultra tariff, since most of the services under this tariff remain unencumbered.\n",
    "<br>\n",
    "<br>\n",
    "<br>\n",
    "***"
   ]
  }
 ],
 "metadata": {
  "kernelspec": {
   "display_name": "Python 3",
   "language": "python",
   "name": "python3"
  },
  "language_info": {
   "codemirror_mode": {
    "name": "ipython",
    "version": 3
   },
   "file_extension": ".py",
   "mimetype": "text/x-python",
   "name": "python",
   "nbconvert_exporter": "python",
   "pygments_lexer": "ipython3",
   "version": "3.7.4"
  }
 },
 "nbformat": 4,
 "nbformat_minor": 2
}
