{
 "cells": [
  {
   "cell_type": "markdown",
   "metadata": {},
   "source": [
    "# Research: Sale of apartments in service Yandex.Realty\n",
    "\n",
    "***"
   ]
  },
  {
   "cell_type": "markdown",
   "metadata": {},
   "source": [
    "Yandex.Realty aggregates listings from the largest and most reliable real estate websites and realtor databases. It maintains the quality of information it provides and, in result, the users see only those offers that can be trusted. Yandex.Realty filters out outdated and merges duplicate ads, checks the price and location of the property on offer.\n",
    "\n",
    "At our disposal are Yandex.Real Estate service data - an archive of advertisements for the sale of apartments in St. Petersburg and neighboring settlements for several years. We research how to determine the market value of real estate. Our task is to set the parameters. This will allow our to build an automated system: it will track anomalies and fraudulent activities.\n",
    "\n",
    "For each apartment for sale, two types of data are available. The former are entered by the user, the latter are obtained automatically based on cartographic data. For example, the distance to the center, the airport, the nearest park and a pond."
   ]
  },
  {
   "cell_type": "markdown",
   "metadata": {},
   "source": [
    "### Description of the sequence of actions\n",
    "- [Step 1. Learning General Information](#first-bullet)<br>\n",
    "<br>\n",
    "- [Step 2. Data preprocessing](#second-bullet)<br>\n",
    "    - [2.1. Defining and filling in missing values](#second1-2-bullet)<br>\n",
    "    - [2.2. Data Type Changes](#second1-3-bullet)<br>\n",
    "<br>    \n",
    "- [Step 3. Counting and adding data to the table](#third-bullet)<br>\n",
    "    - [3.1. Count and add to the table: price per square meter](#second3-1-bullet)<br>\n",
    "    - [3.2. Calculate and add to the table: day of the week, month and year of publication of the announcement](#second3-2-bullet)<br>\n",
    "    - [3.3. Count and add to the table: apartment floor; options - first, last, other](#second3-3-bullet)<br>\n",
    "    - [3.4. Calculate and add to the table: the ratio of living and total area, as well as the ratio of the area of the kitchen to the total](#second3-4-bullet)<br>\n",
    "    - [3.5. To study the parameters: area, price, number of rooms, ceiling height](#second3-5-bullet)<br>\n",
    "    - [3.6. Build histograms for each parameter: area, price, number of rooms, ceiling height](#second3-6-bullet)<br>\n",
    "<br>    \n",
    "- [Step 4. Conducting research data analysis](#fourth-bullet)<br>\n",
    "    - [4.1. Task 1. Study the time of sale of apartments.](#fourth4-1-bullet)<br>\n",
    "    - [4.2. Task 2. Remove rare and outdated values.](#fourth4-2-bullet)<br>\n",
    "    - [4.3. Task 3. What factors most affect the value of the apartment?](#fourth4-3-bullet)<br>\n",
    "    - [4.4. Task 4. Study the offers of apartments in St. Petersburg](#fourth4-4-bullet)<br>\n",
    "    - [4.5. Task 5. Select the segment of apartments in the center.](#fourth4-5-bullet)<br>\n",
    "<br>\n",
    "- [Step 5. General conclusion](#fifth-bullet)<br>"
   ]
  },
  {
   "cell_type": "markdown",
   "metadata": {},
   "source": [
    "### Data Description\n",
    "- **airports_nearest** — distance to the nearest airport in meters (m);\n",
    "- **balcony** — number of balconies;\n",
    "- **ceiling_height** — ceiling height (m);\n",
    "- **cityCenters_nearest** — distance to the city center (m);\n",
    "- **days_exposition** — how many days the ad was posted (from publication to withdrawal);\n",
    "- **first_day_exposition** — publication date;\n",
    "- **floor**;\n",
    "- **floors_total** — total floors in the house;\n",
    "- **is_apartment** — apartments (boolean type);\n",
    "- **kitchen_area** — kitchen area in square meters (m²);\n",
    "- **last_price** — price at the time of withdrawal from publication;\n",
    "- **living_area** — living area in square meters (m²);\n",
    "- **locality_name** — name of the settlement;\n",
    "- **open_plan** — free layout (boolean type);\n",
    "- **parks_around3000** — the number of parks within a radius of 3 km;\n",
    "- **parks_nearest** — distance to the nearest park (m);\n",
    "- **ponds_around3000** — the number of reservoirs within a radius of 3 km;\n",
    "- **ponds_nearest** — distance to the nearest body of water (m);\n",
    "- **rooms** — number of rooms;\n",
    "- **studio** — studio apartment (boolean type);\n",
    "- **total_area** — apartment area in square meters (m²);\n",
    "- **total_images** — the number of photos of the apartment in the ad."
   ]
  },
  {
   "cell_type": "markdown",
   "metadata": {},
   "source": [
    "## Step 1. Learning General Information<a class=\"anchor\" id=\"first-bullet\"></a>"
   ]
  },
  {
   "cell_type": "code",
   "execution_count": 130,
   "metadata": {},
   "outputs": [],
   "source": [
    "import pandas as pd\n",
    "import numpy as np\n",
    "import matplotlib.pyplot as plt"
   ]
  },
  {
   "cell_type": "code",
   "execution_count": 131,
   "metadata": {},
   "outputs": [],
   "source": [
    "data = pd.read_csv('real_estate_data.csv')"
   ]
  },
  {
   "cell_type": "markdown",
   "metadata": {},
   "source": [
    "<font color=green>Table size data.</font>"
   ]
  },
  {
   "cell_type": "code",
   "execution_count": 132,
   "metadata": {},
   "outputs": [
    {
     "data": {
      "text/plain": [
       "(23699, 23)"
      ]
     },
     "execution_count": 132,
     "metadata": {},
     "output_type": "execute_result"
    }
   ],
   "source": [
    "data.shape"
   ]
  },
  {
   "cell_type": "markdown",
   "metadata": {},
   "source": [
    "<font color=green>Received 22 attributes.</font><br>\n",
    "<font color=green>Let's see the first 5 rows of the data table.</font>"
   ]
  },
  {
   "cell_type": "code",
   "execution_count": 133,
   "metadata": {},
   "outputs": [
    {
     "data": {
      "text/html": [
       "<div>\n",
       "<style scoped>\n",
       "    .dataframe tbody tr th:only-of-type {\n",
       "        vertical-align: middle;\n",
       "    }\n",
       "\n",
       "    .dataframe tbody tr th {\n",
       "        vertical-align: top;\n",
       "    }\n",
       "\n",
       "    .dataframe thead th {\n",
       "        text-align: right;\n",
       "    }\n",
       "</style>\n",
       "<table border=\"1\" class=\"dataframe\">\n",
       "  <thead>\n",
       "    <tr style=\"text-align: right;\">\n",
       "      <th></th>\n",
       "      <th>Unnamed: 0</th>\n",
       "      <th>total_images</th>\n",
       "      <th>last_price</th>\n",
       "      <th>total_area</th>\n",
       "      <th>first_day_exposition</th>\n",
       "      <th>rooms</th>\n",
       "      <th>ceiling_height</th>\n",
       "      <th>floors_total</th>\n",
       "      <th>living_area</th>\n",
       "      <th>floor</th>\n",
       "      <th>...</th>\n",
       "      <th>kitchen_area</th>\n",
       "      <th>balcony</th>\n",
       "      <th>locality_name</th>\n",
       "      <th>airports_nearest</th>\n",
       "      <th>cityCenters_nearest</th>\n",
       "      <th>parks_around3000</th>\n",
       "      <th>parks_nearest</th>\n",
       "      <th>ponds_around3000</th>\n",
       "      <th>ponds_nearest</th>\n",
       "      <th>days_exposition</th>\n",
       "    </tr>\n",
       "  </thead>\n",
       "  <tbody>\n",
       "    <tr>\n",
       "      <td>0</td>\n",
       "      <td>0</td>\n",
       "      <td>20</td>\n",
       "      <td>13000000.0</td>\n",
       "      <td>108.0</td>\n",
       "      <td>2019-03-07T00:00:00</td>\n",
       "      <td>3</td>\n",
       "      <td>2.70</td>\n",
       "      <td>16.0</td>\n",
       "      <td>51.0</td>\n",
       "      <td>8</td>\n",
       "      <td>...</td>\n",
       "      <td>25.0</td>\n",
       "      <td>NaN</td>\n",
       "      <td>Санкт-Петербург</td>\n",
       "      <td>18863.0</td>\n",
       "      <td>16028.0</td>\n",
       "      <td>1.0</td>\n",
       "      <td>482.0</td>\n",
       "      <td>2.0</td>\n",
       "      <td>755.0</td>\n",
       "      <td>NaN</td>\n",
       "    </tr>\n",
       "    <tr>\n",
       "      <td>1</td>\n",
       "      <td>1</td>\n",
       "      <td>7</td>\n",
       "      <td>3350000.0</td>\n",
       "      <td>40.4</td>\n",
       "      <td>2018-12-04T00:00:00</td>\n",
       "      <td>1</td>\n",
       "      <td>NaN</td>\n",
       "      <td>11.0</td>\n",
       "      <td>18.6</td>\n",
       "      <td>1</td>\n",
       "      <td>...</td>\n",
       "      <td>11.0</td>\n",
       "      <td>2.0</td>\n",
       "      <td>посёлок Шушары</td>\n",
       "      <td>12817.0</td>\n",
       "      <td>18603.0</td>\n",
       "      <td>0.0</td>\n",
       "      <td>NaN</td>\n",
       "      <td>0.0</td>\n",
       "      <td>NaN</td>\n",
       "      <td>81.0</td>\n",
       "    </tr>\n",
       "    <tr>\n",
       "      <td>2</td>\n",
       "      <td>2</td>\n",
       "      <td>10</td>\n",
       "      <td>5196000.0</td>\n",
       "      <td>56.0</td>\n",
       "      <td>2015-08-20T00:00:00</td>\n",
       "      <td>2</td>\n",
       "      <td>NaN</td>\n",
       "      <td>5.0</td>\n",
       "      <td>34.3</td>\n",
       "      <td>4</td>\n",
       "      <td>...</td>\n",
       "      <td>8.3</td>\n",
       "      <td>0.0</td>\n",
       "      <td>Санкт-Петербург</td>\n",
       "      <td>21741.0</td>\n",
       "      <td>13933.0</td>\n",
       "      <td>1.0</td>\n",
       "      <td>90.0</td>\n",
       "      <td>2.0</td>\n",
       "      <td>574.0</td>\n",
       "      <td>558.0</td>\n",
       "    </tr>\n",
       "    <tr>\n",
       "      <td>3</td>\n",
       "      <td>3</td>\n",
       "      <td>0</td>\n",
       "      <td>64900000.0</td>\n",
       "      <td>159.0</td>\n",
       "      <td>2015-07-24T00:00:00</td>\n",
       "      <td>3</td>\n",
       "      <td>NaN</td>\n",
       "      <td>14.0</td>\n",
       "      <td>NaN</td>\n",
       "      <td>9</td>\n",
       "      <td>...</td>\n",
       "      <td>NaN</td>\n",
       "      <td>0.0</td>\n",
       "      <td>Санкт-Петербург</td>\n",
       "      <td>28098.0</td>\n",
       "      <td>6800.0</td>\n",
       "      <td>2.0</td>\n",
       "      <td>84.0</td>\n",
       "      <td>3.0</td>\n",
       "      <td>234.0</td>\n",
       "      <td>424.0</td>\n",
       "    </tr>\n",
       "    <tr>\n",
       "      <td>4</td>\n",
       "      <td>4</td>\n",
       "      <td>2</td>\n",
       "      <td>10000000.0</td>\n",
       "      <td>100.0</td>\n",
       "      <td>2018-06-19T00:00:00</td>\n",
       "      <td>2</td>\n",
       "      <td>3.03</td>\n",
       "      <td>14.0</td>\n",
       "      <td>32.0</td>\n",
       "      <td>13</td>\n",
       "      <td>...</td>\n",
       "      <td>41.0</td>\n",
       "      <td>NaN</td>\n",
       "      <td>Санкт-Петербург</td>\n",
       "      <td>31856.0</td>\n",
       "      <td>8098.0</td>\n",
       "      <td>2.0</td>\n",
       "      <td>112.0</td>\n",
       "      <td>1.0</td>\n",
       "      <td>48.0</td>\n",
       "      <td>121.0</td>\n",
       "    </tr>\n",
       "  </tbody>\n",
       "</table>\n",
       "<p>5 rows × 23 columns</p>\n",
       "</div>"
      ],
      "text/plain": [
       "   Unnamed: 0  total_images  last_price  total_area first_day_exposition  \\\n",
       "0           0            20  13000000.0       108.0  2019-03-07T00:00:00   \n",
       "1           1             7   3350000.0        40.4  2018-12-04T00:00:00   \n",
       "2           2            10   5196000.0        56.0  2015-08-20T00:00:00   \n",
       "3           3             0  64900000.0       159.0  2015-07-24T00:00:00   \n",
       "4           4             2  10000000.0       100.0  2018-06-19T00:00:00   \n",
       "\n",
       "   rooms  ceiling_height  floors_total  living_area  floor  ... kitchen_area  \\\n",
       "0      3            2.70          16.0         51.0      8  ...         25.0   \n",
       "1      1             NaN          11.0         18.6      1  ...         11.0   \n",
       "2      2             NaN           5.0         34.3      4  ...          8.3   \n",
       "3      3             NaN          14.0          NaN      9  ...          NaN   \n",
       "4      2            3.03          14.0         32.0     13  ...         41.0   \n",
       "\n",
       "   balcony    locality_name  airports_nearest  cityCenters_nearest  \\\n",
       "0      NaN  Санкт-Петербург           18863.0              16028.0   \n",
       "1      2.0   посёлок Шушары           12817.0              18603.0   \n",
       "2      0.0  Санкт-Петербург           21741.0              13933.0   \n",
       "3      0.0  Санкт-Петербург           28098.0               6800.0   \n",
       "4      NaN  Санкт-Петербург           31856.0               8098.0   \n",
       "\n",
       "  parks_around3000  parks_nearest  ponds_around3000  ponds_nearest  \\\n",
       "0              1.0          482.0               2.0          755.0   \n",
       "1              0.0            NaN               0.0            NaN   \n",
       "2              1.0           90.0               2.0          574.0   \n",
       "3              2.0           84.0               3.0          234.0   \n",
       "4              2.0          112.0               1.0           48.0   \n",
       "\n",
       "   days_exposition  \n",
       "0              NaN  \n",
       "1             81.0  \n",
       "2            558.0  \n",
       "3            424.0  \n",
       "4            121.0  \n",
       "\n",
       "[5 rows x 23 columns]"
      ]
     },
     "execution_count": 133,
     "metadata": {},
     "output_type": "execute_result"
    }
   ],
   "source": [
    "data.head()"
   ]
  },
  {
   "cell_type": "markdown",
   "metadata": {},
   "source": [
    "<font color=green>General data information in the data table.</font>"
   ]
  },
  {
   "cell_type": "code",
   "execution_count": 134,
   "metadata": {},
   "outputs": [
    {
     "name": "stdout",
     "output_type": "stream",
     "text": [
      "<class 'pandas.core.frame.DataFrame'>\n",
      "RangeIndex: 23699 entries, 0 to 23698\n",
      "Data columns (total 23 columns):\n",
      "Unnamed: 0              23699 non-null int64\n",
      "total_images            23699 non-null int64\n",
      "last_price              23699 non-null float64\n",
      "total_area              23699 non-null float64\n",
      "first_day_exposition    23699 non-null object\n",
      "rooms                   23699 non-null int64\n",
      "ceiling_height          14504 non-null float64\n",
      "floors_total            23613 non-null float64\n",
      "living_area             21796 non-null float64\n",
      "floor                   23699 non-null int64\n",
      "is_apartment            2775 non-null object\n",
      "studio                  23699 non-null bool\n",
      "open_plan               23699 non-null bool\n",
      "kitchen_area            21421 non-null float64\n",
      "balcony                 12180 non-null float64\n",
      "locality_name           23650 non-null object\n",
      "airports_nearest        18157 non-null float64\n",
      "cityCenters_nearest     18180 non-null float64\n",
      "parks_around3000        18181 non-null float64\n",
      "parks_nearest           8079 non-null float64\n",
      "ponds_around3000        18181 non-null float64\n",
      "ponds_nearest           9110 non-null float64\n",
      "days_exposition         20518 non-null float64\n",
      "dtypes: bool(2), float64(14), int64(4), object(3)\n",
      "memory usage: 3.8+ MB\n"
     ]
    }
   ],
   "source": [
    "data.info()"
   ]
  },
  {
   "cell_type": "markdown",
   "metadata": {},
   "source": [
    "### Conclusion"
   ]
  },
  {
   "cell_type": "markdown",
   "metadata": {},
   "source": [
    "There are 23,699 records in the data set, 22 columns. <br>\n",
    "There are different types of data in the dataset."
   ]
  },
  {
   "cell_type": "markdown",
   "metadata": {},
   "source": [
    "## Step 2. Data preprocessing <a class=\"anchor\" id=\"second-bullet\"></a>"
   ]
  },
  {
   "cell_type": "markdown",
   "metadata": {},
   "source": [
    "<font color=green>The presence and amount of duplicate in the data table.</font>"
   ]
  },
  {
   "cell_type": "code",
   "execution_count": 135,
   "metadata": {},
   "outputs": [
    {
     "data": {
      "text/plain": [
       "0"
      ]
     },
     "execution_count": 135,
     "metadata": {},
     "output_type": "execute_result"
    }
   ],
   "source": [
    "data.duplicated().sum()"
   ]
  },
  {
   "cell_type": "markdown",
   "metadata": {},
   "source": [
    "### **2.1. Defining and filling in missing values** <a class=\"anchor\" id=\"second1-2-bullet\"></a>"
   ]
  },
  {
   "cell_type": "markdown",
   "metadata": {},
   "source": [
    "<font color=green>The presence and quantity of missing data in the data table.</font>"
   ]
  },
  {
   "cell_type": "code",
   "execution_count": 136,
   "metadata": {},
   "outputs": [
    {
     "data": {
      "text/plain": [
       "Unnamed: 0                  0\n",
       "total_images                0\n",
       "last_price                  0\n",
       "total_area                  0\n",
       "first_day_exposition        0\n",
       "rooms                       0\n",
       "ceiling_height           9195\n",
       "floors_total               86\n",
       "living_area              1903\n",
       "floor                       0\n",
       "is_apartment            20924\n",
       "studio                      0\n",
       "open_plan                   0\n",
       "kitchen_area             2278\n",
       "balcony                 11519\n",
       "locality_name              49\n",
       "airports_nearest         5542\n",
       "cityCenters_nearest      5519\n",
       "parks_around3000         5518\n",
       "parks_nearest           15620\n",
       "ponds_around3000         5518\n",
       "ponds_nearest           14589\n",
       "days_exposition          3181\n",
       "dtype: int64"
      ]
     },
     "execution_count": 136,
     "metadata": {},
     "output_type": "execute_result"
    }
   ],
   "source": [
    "data.isna().sum()"
   ]
  },
  {
   "cell_type": "markdown",
   "metadata": {},
   "source": [
    "<font color=green>**Let's see all the missing data that was revealed in the previous cell in the order of the presence of missing data.**</font>\n",
    "<font color=green>**1.**</font> ceiling_height           **9195**<br>\n",
    "<font color=green>**2.**</font> floors_total               **86**<br>\n",
    "<font color=green>**3.**</font> living_area              **1903**<br>\n",
    "<font color=green>**4.**</font> is_apartment            **20924**<br>\n",
    "<font color=green>**5.**</font> kitchen_area             **2278**<br>\n",
    "<font color=green>**6.**</font> balcony                 **11519**<br>\n",
    "<font color=green>**7.**</font> locality_name              **49**<br>\n",
    "<font color=green>**8.**</font> airports_nearest         **5542**<br>\n",
    "<font color=green>**9.**</font> cityCenters_nearest      **5519**<br>\n",
    "<font color=green>**10.**</font> parks_around3000         **5518**<br>\n",
    "<font color=green>**11.**</font> parks_nearest           **15620**<br>\n",
    "<font color=green>**12.**</font> ponds_around3000         **5518**<br>\n",
    "<font color=green>**13.**</font> ponds_nearest           **14589**<br>\n",
    "<font color=green>**14.**</font> days_exposition          **3181**"
   ]
  },
  {
   "cell_type": "markdown",
   "metadata": {},
   "source": [
    "**1. ceiling_height** – 9195 missing values.<br>\n",
    "On average, the ceiling height in apartments in Russia ranges from 2.4 - 3.2 m. The minimum ceiling height is determined by building codes 2.4 m. The ceiling height in apartments depends on the developer and does not depend on the number of stories of the house or on the area of the apartment itself."
   ]
  },
  {
   "cell_type": "code",
   "execution_count": 137,
   "metadata": {},
   "outputs": [
    {
     "name": "stdout",
     "output_type": "stream",
     "text": [
      "The maximum value in the ceiling height column is: 100.00(м)\n",
      "The maximum value in the ceiling height column: 1.00(м)\n",
      "Ceiling Height Column Average: 2.77(м)\n",
      "Column Median Ceiling Height: 2.65(м)\n"
     ]
    }
   ],
   "source": [
    "chm = data['ceiling_height'].max()\n",
    "ceiling_min = data['ceiling_height'].min()\n",
    "ceiling_mean = data['ceiling_height'].mean()\n",
    "ceiling_median = data['ceiling_height'].median()\n",
    "\n",
    "print(\"The maximum value in the ceiling height column is: {:.2f}(м)\".format(chm))\n",
    "print(\"The maximum value in the ceiling height column: {:.2f}(м)\".format(ceiling_min))\n",
    "print(\"Ceiling Height Column Average: {:.2f}(м)\".format(ceiling_mean))\n",
    "print(\"Column Median Ceiling Height: {:.2f}(м)\".format(ceiling_median))"
   ]
  },
  {
   "cell_type": "markdown",
   "metadata": {},
   "source": [
    "<font color=green>First I looked at the maximum, minimum, median and average values ​​and then I remembered about the method describe().</font>"
   ]
  },
  {
   "cell_type": "code",
   "execution_count": 138,
   "metadata": {},
   "outputs": [
    {
     "data": {
      "text/plain": [
       "count    14504.000000\n",
       "mean         2.771499\n",
       "std          1.261056\n",
       "min          1.000000\n",
       "25%          2.520000\n",
       "50%          2.650000\n",
       "75%          2.800000\n",
       "max        100.000000\n",
       "Name: ceiling_height, dtype: float64"
      ]
     },
     "execution_count": 138,
     "metadata": {},
     "output_type": "execute_result"
    }
   ],
   "source": [
    "data['ceiling_height'].describe()"
   ]
  },
  {
   "cell_type": "markdown",
   "metadata": {},
   "source": [
    "<font color=green>The average ceiling is 2.77 meters. This is a fairly high ceiling.</font><br>\n",
    "<font color=green>Also in the column, there are gaps in the amount of 9195 values. I mean the gaps in the median value of the column.</font><br>\n",
    "<font color=green>Check that the gaps are filled:</font>"
   ]
  },
  {
   "cell_type": "code",
   "execution_count": 139,
   "metadata": {},
   "outputs": [
    {
     "name": "stdout",
     "output_type": "stream",
     "text": [
      "0\n"
     ]
    }
   ],
   "source": [
    "data['ceiling_height'] = data['ceiling_height'].fillna(data['ceiling_height'].median())\n",
    "print (data['ceiling_height'].isna().sum())"
   ]
  },
  {
   "cell_type": "markdown",
   "metadata": {},
   "source": [
    "**2. floors_total** – 86 missing values. <br>\n",
    "The number of floors in the house also depends on the building plan. In the column, 86 values ​​are missing, since we do not know the plan of buildings and developers, we assume that these are single-story houses. Fill the gaps with the value 1. Even if our assumption is wrong, 86 records should not greatly shift the distribution."
   ]
  },
  {
   "cell_type": "code",
   "execution_count": 140,
   "metadata": {},
   "outputs": [
    {
     "name": "stdout",
     "output_type": "stream",
     "text": [
      "0\n"
     ]
    }
   ],
   "source": [
    "data['floors_total'] = data['floors_total'].fillna(1)\n",
    "print (data['floors_total'].isna().sum())"
   ]
  },
  {
   "cell_type": "markdown",
   "metadata": {},
   "source": [
    "**3. living_area** – 1903 missing values.<br>\n",
    "Fill in the missing values with the median value."
   ]
  },
  {
   "cell_type": "code",
   "execution_count": 141,
   "metadata": {},
   "outputs": [
    {
     "name": "stdout",
     "output_type": "stream",
     "text": [
      "0\n"
     ]
    }
   ],
   "source": [
    "data.loc[data['living_area'].isnull(), 'living_area'] = data['living_area'].median()\n",
    "print (data['living_area'].isna().sum())"
   ]
  },
  {
   "cell_type": "markdown",
   "metadata": {},
   "source": [
    "**4. is_apartment** – 20924 missing values.<br>\n",
    "The Boolean type is required in the apartment column. Data values are either True - the apartment is apartments, and False - the apartment is not apartments. Fill the gaps with the value \"False\" and check that the gaps are filled:"
   ]
  },
  {
   "cell_type": "code",
   "execution_count": 142,
   "metadata": {},
   "outputs": [
    {
     "name": "stdout",
     "output_type": "stream",
     "text": [
      "The number of missing data in the column is_apartment: 20924\n"
     ]
    }
   ],
   "source": [
    "print (f\"The number of missing data in the column is_apartment: {data['is_apartment'].isna().sum()}\")       "
   ]
  },
  {
   "cell_type": "code",
   "execution_count": 143,
   "metadata": {},
   "outputs": [
    {
     "name": "stdout",
     "output_type": "stream",
     "text": [
      "Check for missing data: \n",
      "False    23649\n",
      "True        50\n",
      "Name: is_apartment, dtype: int64\n"
     ]
    }
   ],
   "source": [
    "data['is_apartment'] = data['is_apartment'].fillna(False)\n",
    "print (f\"Check for missing data: \\n{data['is_apartment'].value_counts()}\")"
   ]
  },
  {
   "cell_type": "code",
   "execution_count": 144,
   "metadata": {},
   "outputs": [
    {
     "name": "stdout",
     "output_type": "stream",
     "text": [
      "0\n"
     ]
    }
   ],
   "source": [
    "print (data['is_apartment'].isna().sum())"
   ]
  },
  {
   "cell_type": "markdown",
   "metadata": {},
   "source": [
    "**5. kitchen_area** – 2278 missing values.<br>\n",
    "Fill in the missing values with the median value."
   ]
  },
  {
   "cell_type": "code",
   "execution_count": 145,
   "metadata": {},
   "outputs": [
    {
     "name": "stdout",
     "output_type": "stream",
     "text": [
      "0\n"
     ]
    }
   ],
   "source": [
    "data['kitchen_area'] = data['kitchen_area'].fillna(data['kitchen_area'].median())\n",
    "print (data['kitchen_area'].isna().sum())"
   ]
  },
  {
   "cell_type": "markdown",
   "metadata": {},
   "source": [
    "**6. balcony** – 11519 missing values.<br>\n",
    "The number of balconies in an apartment also depends on the building plan. The column omits 11,519 values, so we don’t know what these one-story houses are. Fill in the default gaps of 0.0 and verify that the gaps are filled:"
   ]
  },
  {
   "cell_type": "code",
   "execution_count": 146,
   "metadata": {},
   "outputs": [],
   "source": [
    "data['balcony'] = data['balcony'].fillna(0.0)"
   ]
  },
  {
   "cell_type": "code",
   "execution_count": 147,
   "metadata": {},
   "outputs": [
    {
     "name": "stdout",
     "output_type": "stream",
     "text": [
      "The amount of data in the column balcony: \n",
      "0.0    15277\n",
      "1.0     4195\n",
      "2.0     3659\n",
      "5.0      304\n",
      "4.0      183\n",
      "3.0       81\n",
      "Name: balcony, dtype: int64\n"
     ]
    }
   ],
   "source": [
    "print (f\"The amount of data in the column balcony: \\n{data['balcony'].value_counts()}\")"
   ]
  },
  {
   "cell_type": "code",
   "execution_count": 148,
   "metadata": {},
   "outputs": [
    {
     "name": "stdout",
     "output_type": "stream",
     "text": [
      "Check for missing data: 0\n"
     ]
    }
   ],
   "source": [
    "print (f\"Check for missing data: {data['balcony'].isna().sum()}\")"
   ]
  },
  {
   "cell_type": "markdown",
   "metadata": {},
   "source": [
    "**7. locality_name** – 49 missing values.<br>\n",
    "In the column the name of the settlement - 49 missing values. This is a small number of missing values, but it is necessary to make the field the name of the launched item mandatory."
   ]
  },
  {
   "cell_type": "code",
   "execution_count": 149,
   "metadata": {},
   "outputs": [
    {
     "data": {
      "text/plain": [
       "23699"
      ]
     },
     "execution_count": 149,
     "metadata": {},
     "output_type": "execute_result"
    }
   ],
   "source": [
    "len(data['locality_name'])"
   ]
  },
  {
   "cell_type": "code",
   "execution_count": 150,
   "metadata": {},
   "outputs": [
    {
     "name": "stdout",
     "output_type": "stream",
     "text": [
      "Check for missing data: 49\n"
     ]
    }
   ],
   "source": [
    "print (f\"Check for missing data: {data['locality_name'].isna().sum()}\")"
   ]
  },
  {
   "cell_type": "code",
   "execution_count": 151,
   "metadata": {},
   "outputs": [],
   "source": [
    "data['locality_name'] = data['locality_name'].fillna('undefined')"
   ]
  },
  {
   "cell_type": "markdown",
   "metadata": {},
   "source": [
    "<font color=green>Since the name of the area does not correlate with other features.<br>\n",
    "I fill in 49 values - information for these values is not defined (undefined).</font>"
   ]
  },
  {
   "cell_type": "code",
   "execution_count": 152,
   "metadata": {},
   "outputs": [
    {
     "name": "stdout",
     "output_type": "stream",
     "text": [
      "Check for missing data: 0\n"
     ]
    }
   ],
   "source": [
    "data['locality_name'] = data['locality_name'].fillna('undefined')\n",
    "print (f\"Check for missing data: {data['locality_name'].isna().sum()}\")"
   ]
  },
  {
   "cell_type": "markdown",
   "metadata": {},
   "source": [
    "**8. airports_nearest** – 5542 missing values.<br>\n",
    "**9. cityCenters_nearest** – 5519 missing values.<br>\n",
    "\n",
    "In the columns, the distance to the airports is 5 542 missing values, in the column, the distance to the city center is 5 519 missing values. Fill the data with the median value."
   ]
  },
  {
   "cell_type": "code",
   "execution_count": 153,
   "metadata": {},
   "outputs": [
    {
     "data": {
      "text/html": [
       "<div>\n",
       "<style scoped>\n",
       "    .dataframe tbody tr th:only-of-type {\n",
       "        vertical-align: middle;\n",
       "    }\n",
       "\n",
       "    .dataframe tbody tr th {\n",
       "        vertical-align: top;\n",
       "    }\n",
       "\n",
       "    .dataframe thead th {\n",
       "        text-align: right;\n",
       "    }\n",
       "</style>\n",
       "<table border=\"1\" class=\"dataframe\">\n",
       "  <thead>\n",
       "    <tr style=\"text-align: right;\">\n",
       "      <th></th>\n",
       "      <th>airports_nearest</th>\n",
       "      <th>cityCenters_nearest</th>\n",
       "    </tr>\n",
       "    <tr>\n",
       "      <th>locality_name</th>\n",
       "      <th></th>\n",
       "      <th></th>\n",
       "    </tr>\n",
       "  </thead>\n",
       "  <tbody>\n",
       "    <tr>\n",
       "      <td>undefined</td>\n",
       "      <td>22041.0</td>\n",
       "      <td>8943.0</td>\n",
       "    </tr>\n",
       "    <tr>\n",
       "      <td>Зеленогорск</td>\n",
       "      <td>72282.0</td>\n",
       "      <td>53381.0</td>\n",
       "    </tr>\n",
       "    <tr>\n",
       "      <td>Колпино</td>\n",
       "      <td>26232.0</td>\n",
       "      <td>32018.0</td>\n",
       "    </tr>\n",
       "    <tr>\n",
       "      <td>Красное Село</td>\n",
       "      <td>25715.5</td>\n",
       "      <td>29140.5</td>\n",
       "    </tr>\n",
       "    <tr>\n",
       "      <td>Кронштадт</td>\n",
       "      <td>67850.0</td>\n",
       "      <td>49575.0</td>\n",
       "    </tr>\n",
       "    <tr>\n",
       "      <td>Ломоносов</td>\n",
       "      <td>48415.5</td>\n",
       "      <td>51677.0</td>\n",
       "    </tr>\n",
       "    <tr>\n",
       "      <td>Павловск</td>\n",
       "      <td>20529.5</td>\n",
       "      <td>32683.0</td>\n",
       "    </tr>\n",
       "    <tr>\n",
       "      <td>Петергоф</td>\n",
       "      <td>39231.0</td>\n",
       "      <td>33771.0</td>\n",
       "    </tr>\n",
       "    <tr>\n",
       "      <td>Пушкин</td>\n",
       "      <td>15766.0</td>\n",
       "      <td>27930.5</td>\n",
       "    </tr>\n",
       "    <tr>\n",
       "      <td>Санкт-Петербург</td>\n",
       "      <td>26757.5</td>\n",
       "      <td>12244.5</td>\n",
       "    </tr>\n",
       "    <tr>\n",
       "      <td>Сестрорецк</td>\n",
       "      <td>56692.0</td>\n",
       "      <td>34821.0</td>\n",
       "    </tr>\n",
       "    <tr>\n",
       "      <td>поселок Лисий Нос</td>\n",
       "      <td>55930.0</td>\n",
       "      <td>28246.0</td>\n",
       "    </tr>\n",
       "    <tr>\n",
       "      <td>поселок Мурино</td>\n",
       "      <td>51553.0</td>\n",
       "      <td>21888.0</td>\n",
       "    </tr>\n",
       "    <tr>\n",
       "      <td>посёлок Александровская</td>\n",
       "      <td>12896.5</td>\n",
       "      <td>27468.0</td>\n",
       "    </tr>\n",
       "    <tr>\n",
       "      <td>посёлок Белоостров</td>\n",
       "      <td>57769.0</td>\n",
       "      <td>38868.0</td>\n",
       "    </tr>\n",
       "    <tr>\n",
       "      <td>посёлок Левашово</td>\n",
       "      <td>52693.0</td>\n",
       "      <td>25727.0</td>\n",
       "    </tr>\n",
       "    <tr>\n",
       "      <td>посёлок Лисий Нос</td>\n",
       "      <td>54988.5</td>\n",
       "      <td>27297.0</td>\n",
       "    </tr>\n",
       "    <tr>\n",
       "      <td>посёлок Металлострой</td>\n",
       "      <td>25758.0</td>\n",
       "      <td>27602.0</td>\n",
       "    </tr>\n",
       "    <tr>\n",
       "      <td>посёлок Молодёжное</td>\n",
       "      <td>84665.0</td>\n",
       "      <td>65764.0</td>\n",
       "    </tr>\n",
       "    <tr>\n",
       "      <td>посёлок Парголово</td>\n",
       "      <td>53426.0</td>\n",
       "      <td>19311.0</td>\n",
       "    </tr>\n",
       "    <tr>\n",
       "      <td>посёлок Песочный</td>\n",
       "      <td>54831.5</td>\n",
       "      <td>26099.5</td>\n",
       "    </tr>\n",
       "    <tr>\n",
       "      <td>посёлок Петро-Славянка</td>\n",
       "      <td>20605.0</td>\n",
       "      <td>27165.0</td>\n",
       "    </tr>\n",
       "    <tr>\n",
       "      <td>посёлок Понтонный</td>\n",
       "      <td>30642.0</td>\n",
       "      <td>32354.0</td>\n",
       "    </tr>\n",
       "    <tr>\n",
       "      <td>посёлок Репино</td>\n",
       "      <td>61797.5</td>\n",
       "      <td>42896.5</td>\n",
       "    </tr>\n",
       "    <tr>\n",
       "      <td>посёлок Сапёрный</td>\n",
       "      <td>34147.5</td>\n",
       "      <td>35859.5</td>\n",
       "    </tr>\n",
       "    <tr>\n",
       "      <td>посёлок Стрельна</td>\n",
       "      <td>28317.0</td>\n",
       "      <td>23506.0</td>\n",
       "    </tr>\n",
       "    <tr>\n",
       "      <td>посёлок Усть-Ижора</td>\n",
       "      <td>26510.5</td>\n",
       "      <td>28222.5</td>\n",
       "    </tr>\n",
       "    <tr>\n",
       "      <td>посёлок Шушары</td>\n",
       "      <td>17427.0</td>\n",
       "      <td>24212.0</td>\n",
       "    </tr>\n",
       "    <tr>\n",
       "      <td>посёлок Щеглово</td>\n",
       "      <td>61908.0</td>\n",
       "      <td>34085.0</td>\n",
       "    </tr>\n",
       "  </tbody>\n",
       "</table>\n",
       "</div>"
      ],
      "text/plain": [
       "                         airports_nearest  cityCenters_nearest\n",
       "locality_name                                                 \n",
       "undefined                         22041.0               8943.0\n",
       "Зеленогорск                       72282.0              53381.0\n",
       "Колпино                           26232.0              32018.0\n",
       "Красное Село                      25715.5              29140.5\n",
       "Кронштадт                         67850.0              49575.0\n",
       "Ломоносов                         48415.5              51677.0\n",
       "Павловск                          20529.5              32683.0\n",
       "Петергоф                          39231.0              33771.0\n",
       "Пушкин                            15766.0              27930.5\n",
       "Санкт-Петербург                   26757.5              12244.5\n",
       "Сестрорецк                        56692.0              34821.0\n",
       "поселок Лисий Нос                 55930.0              28246.0\n",
       "поселок Мурино                    51553.0              21888.0\n",
       "посёлок Александровская           12896.5              27468.0\n",
       "посёлок Белоостров                57769.0              38868.0\n",
       "посёлок Левашово                  52693.0              25727.0\n",
       "посёлок Лисий Нос                 54988.5              27297.0\n",
       "посёлок Металлострой              25758.0              27602.0\n",
       "посёлок Молодёжное                84665.0              65764.0\n",
       "посёлок Парголово                 53426.0              19311.0\n",
       "посёлок Песочный                  54831.5              26099.5\n",
       "посёлок Петро-Славянка            20605.0              27165.0\n",
       "посёлок Понтонный                 30642.0              32354.0\n",
       "посёлок Репино                    61797.5              42896.5\n",
       "посёлок Сапёрный                  34147.5              35859.5\n",
       "посёлок Стрельна                  28317.0              23506.0\n",
       "посёлок Усть-Ижора                26510.5              28222.5\n",
       "посёлок Шушары                    17427.0              24212.0\n",
       "посёлок Щеглово                   61908.0              34085.0"
      ]
     },
     "execution_count": 153,
     "metadata": {},
     "output_type": "execute_result"
    }
   ],
   "source": [
    "median_data = data.pivot_table(\n",
    "    index='locality_name',\n",
    "    values=['airports_nearest', 'cityCenters_nearest'],\n",
    "    aggfunc='median'\n",
    ")\n",
    "\n",
    "median_data"
   ]
  },
  {
   "cell_type": "code",
   "execution_count": 154,
   "metadata": {},
   "outputs": [],
   "source": [
    "median_data_localities = list(median_data.index)"
   ]
  },
  {
   "cell_type": "code",
   "execution_count": 155,
   "metadata": {},
   "outputs": [],
   "source": [
    "def fill_missing_data(row, col):\n",
    "    locality = row['locality_name']\n",
    "    \n",
    "    if locality in median_data_localities:\n",
    "        return median_data.loc[locality][col]\n",
    "    \n",
    "    return row[col]"
   ]
  },
  {
   "cell_type": "code",
   "execution_count": 156,
   "metadata": {},
   "outputs": [],
   "source": [
    "columns = ['airports_nearest', 'cityCenters_nearest']\n",
    "\n",
    "for column in columns:\n",
    "    data.loc[data[column].isnull(), column] = data.apply(fill_missing_data, axis=1, args=(column,))"
   ]
  },
  {
   "cell_type": "code",
   "execution_count": 157,
   "metadata": {},
   "outputs": [],
   "source": [
    "data['airports_nearest'] = data['airports_nearest'].fillna(-999.99)\n",
    "data['cityCenters_nearest'] = data['cityCenters_nearest'].fillna(-999.99)"
   ]
  },
  {
   "cell_type": "markdown",
   "metadata": {},
   "source": [
    "<font color=green>Check the data on how many settlements could not be filled.</font>"
   ]
  },
  {
   "cell_type": "code",
   "execution_count": 158,
   "metadata": {},
   "outputs": [
    {
     "data": {
      "text/plain": [
       "0"
      ]
     },
     "execution_count": 158,
     "metadata": {},
     "output_type": "execute_result"
    }
   ],
   "source": [
    "len(data[data['cityCenters_nearest'].isnull()]['locality_name'].unique())"
   ]
  },
  {
   "cell_type": "markdown",
   "metadata": {},
   "source": [
    "**10. parks_around3000** – 5518 missing values.<br>\n",
    "**11. parks_nearest** – 15620 missing values.<br>\n",
    "**12. ponds_around3000** – 5518 missing values.<br>\n",
    "**13. ponds_nearest** – 14589 missing values.<br>\n",
    "\n",
    "Check the correlation of the parameters: the number of parks within a radius of 3 km, the distance to the nearest park (m), the number of reservoirs within a radius of 3 km, the distance to the nearest reservoir (m)."
   ]
  },
  {
   "cell_type": "code",
   "execution_count": 159,
   "metadata": {},
   "outputs": [
    {
     "name": "stdout",
     "output_type": "stream",
     "text": [
      "\n",
      "Looking for the relationship between the number of parks within a radius of 3 km and other parameters:\n",
      "                  index  correlation\n",
      "0            Unnamed: 0     0.006901\n",
      "1          total_images     0.021120\n",
      "2            last_price     0.151058\n",
      "3            total_area     0.164689\n",
      "4                 rooms     0.137257\n",
      "5        ceiling_height     0.056665\n",
      "6          floors_total    -0.251019\n",
      "7           living_area     0.176729\n",
      "8                 floor    -0.163784\n",
      "9          is_apartment     0.020767\n",
      "10               studio    -0.030202\n",
      "11            open_plan    -0.010077\n",
      "12         kitchen_area     0.082927\n",
      "13              balcony    -0.077777\n",
      "14     airports_nearest     0.000577\n",
      "15  cityCenters_nearest    -0.161683\n",
      "16     parks_around3000     1.000000\n",
      "17        parks_nearest    -0.259514\n",
      "18     ponds_around3000     0.304316\n",
      "19        ponds_nearest    -0.167103\n",
      "20      days_exposition     0.060491\n"
     ]
    }
   ],
   "source": [
    "print (\"\\nLooking for the relationship between the number of parks within a radius of 3 km and other parameters:\")\n",
    "print (data.corr()['parks_around3000'].reset_index(name='correlation'))\n",
    "\n",
    "#print (data.corr()['parks_nearest'].reset_index(name='correlation'))\n",
    "#print (data.corr()['ponds_around3000'].reset_index(name='correlation'))\n",
    "#print (data.corr()['ponds_nearest'].reset_index(name='correlation'))"
   ]
  },
  {
   "cell_type": "markdown",
   "metadata": {},
   "source": [
    "Since the correlation with other parameters for all 4 parameters is low. It can be said that the values ​​of these columns are independent of other quantities. We add information that for them the value is not defined since this will not affect the analysis."
   ]
  },
  {
   "cell_type": "code",
   "execution_count": 160,
   "metadata": {},
   "outputs": [
    {
     "name": "stdout",
     "output_type": "stream",
     "text": [
      "Check for missing data: 0\n",
      "Check for missing data: 0\n",
      "Check for missing data: 0\n"
     ]
    }
   ],
   "source": [
    "data['parks_around3000'] = data['parks_around3000'].fillna(-999.99)\n",
    "data['parks_nearest'] = data['parks_nearest'].fillna(-999.99)\n",
    "data['ponds_nearest'] = data['ponds_nearest'].fillna(-999.99)\n",
    "\n",
    "print (f\"Check for missing data: {data['parks_around3000'].isna().sum()}\")\n",
    "print (f\"Check for missing data: {data['parks_nearest'].isna().sum()}\")\n",
    "print (f\"Check for missing data: {data['ponds_nearest'].isna().sum()}\")"
   ]
  },
  {
   "cell_type": "markdown",
   "metadata": {},
   "source": [
    "**14. days_exposition** – 3181 missing values.<br>\n",
    "The number of days the announcement of the sale of the apartment was posted. For each corrupted knowledge, we calculate the median value and fill in the gaps with the median value.\n",
    "\n",
    "Before filling in the blanks in the days_exposition column, you need to translate the column \"first_day_exposition\" в тип данных %Y-%m-%d, т.к. column days_exposition depends on the second."
   ]
  },
  {
   "cell_type": "code",
   "execution_count": 161,
   "metadata": {},
   "outputs": [],
   "source": [
    "data['first_day_exposition'] = pd.to_datetime(data['first_day_exposition'], format='%Y-%m-%d')"
   ]
  },
  {
   "cell_type": "code",
   "execution_count": 162,
   "metadata": {},
   "outputs": [
    {
     "name": "stdout",
     "output_type": "stream",
     "text": [
      "Check for missing data: 0\n"
     ]
    }
   ],
   "source": [
    "data.loc[data['days_exposition'].isnull(), 'days_exposition'] = data['days_exposition'].median()\n",
    "print (f\"Check for missing data: {data['days_exposition'].isna().sum()}\")"
   ]
  },
  {
   "cell_type": "markdown",
   "metadata": {},
   "source": [
    "### **2.2. Data Type Changes** <a class=\"anchor\" id=\"second1-3-bullet\"></a>\n",
    "\n",
    "The name of the columns is shown in the list and the correct data types are marked in green, the wrong data type values are red.\n",
    "- **airports_nearest** — distance to the nearest airport in meters (m); <font color=green>float64</font>\n",
    "- **balcony** — number of balconies; <font color=red>float64</font>\n",
    "- **ceiling_height** — ceiling height (m); <font color=green>float64</font>\n",
    "- **cityCenters_nearest** — distance to the city center (m); <font color=red>float64</font>\n",
    "- **days_exposition** — how many days the ad was posted (from publication to withdrawal); <font color=red>object</font>\n",
    "- **first_day_exposition** — publication date;\n",
    "- **floor**; <font color=green>int64</font>\n",
    "- **floors_total** — total floors in the house; <font color=red>float64</font>\n",
    "- **is_apartment** — apartments (boolean type); <font color=red>object</font>\n",
    "- **kitchen_area** — kitchen area in square meters (m²); <font color=red>int64</font>\n",
    "- **last_price** — price at the time of withdrawal from publication; <font color=green>float64</font>\n",
    "- **living_area** — living area in square meters (m²); <font color=green>float64</font>\n",
    "- **locality_name** — name of the settlement; <font color=green>object</font>\n",
    "- **open_plan** — free layout (boolean type); <font color=green>bool</font>\n",
    "- **parks_around3000** — the number of parks within a radius of 3 km; <font color=green>float64</font>\n",
    "- **parks_nearest** — distance to the nearest park (m); <font color=green>float64</font>\n",
    "- **ponds_around3000** — the number of reservoirs within a radius of 3 km; <font color=green>float64</font>\n",
    "- **ponds_nearest** — distance to the nearest body of water (m); <font color=green>float64</font>\n",
    "- **rooms** — number of rooms; <font color=green>int64</font>\n",
    "- **studio** — studio apartment (boolean type); <font color=green>bool</font>\n",
    "- **total_area** — apartment area in square meters (m²); <font color=green>float64</font>\n",
    "- **total_images** — the number of photos of the apartment in the ad. <font color=green>int64</font>\n",
    "\n",
    "For the following characteristics, you must convert the types:\n",
    "\n",
    "| Sign              \t| Source type \t| Replacement \t| Reason for Replacement                               \t|\n",
    "|----------------------\t|--------------\t|-----------\t|-------------------------------------------------------\t|\n",
    "| balcony              \t| `float64`    \t| `int64`   \t| The number of balconies cannot be an integer.              \t|\n",
    "| days_exposition      \t| `float64`    \t| `int64`   \t| The number of days that an ad was published on the Internet. \t|\n",
    "| first_day_exposition \t| `object`     \t| `%Y-%m-%d`    | The date the ad was placed must be of type data.           \t|\n",
    "| floors_total         \t| `float64`    \t| `int64`   \t| The number of floors in a house cannot be a real number. \t|\n",
    "| is_apartment         \t| `object`     \t| `bool`    \t| Is an apartment a type apartment - this is the value of two types. \t|\n",
    "| kitchen_area         \t| `int64`      \t| `float64` \t| The kitchen area in the apartment may not be an integer.    \t|"
   ]
  },
  {
   "cell_type": "markdown",
   "metadata": {},
   "source": [
    "**1. balcony** – type float64 convert to int64<br>\n",
    "**2. days_exposition** – type float64 convert to int64<br>\n",
    "**3. floors_total** – type float64 convert to int64<br>\n"
   ]
  },
  {
   "cell_type": "code",
   "execution_count": 163,
   "metadata": {},
   "outputs": [],
   "source": [
    "for column in ['balcony', 'floors_total', 'days_exposition']:\n",
    "    data[column] = data[column].astype('int')"
   ]
  },
  {
   "cell_type": "markdown",
   "metadata": {},
   "source": [
    "**4. first_day_exposition** – type object translate to %Y-%m-%d<br>"
   ]
  },
  {
   "cell_type": "code",
   "execution_count": 164,
   "metadata": {},
   "outputs": [],
   "source": [
    "data['first_day_exposition'] = pd.to_datetime(data['first_day_exposition'], format='%Y-%m-%d')"
   ]
  },
  {
   "cell_type": "markdown",
   "metadata": {},
   "source": [
    "**5. is_apartment** – type object translate to bool.<br>\n",
    "Since I filled the column data with False and True, I think this will be enough and it is not worth translating into the bool data type."
   ]
  },
  {
   "cell_type": "markdown",
   "metadata": {},
   "source": [
    "**6. kitchen_area** – type int64 translate to float64<br>"
   ]
  },
  {
   "cell_type": "code",
   "execution_count": 165,
   "metadata": {},
   "outputs": [],
   "source": [
    "data['kitchen_area'] = data['kitchen_area'].astype('float')"
   ]
  },
  {
   "cell_type": "markdown",
   "metadata": {},
   "source": [
    "<font color=green>Check for data type changes.</font>"
   ]
  },
  {
   "cell_type": "code",
   "execution_count": 166,
   "metadata": {},
   "outputs": [
    {
     "name": "stdout",
     "output_type": "stream",
     "text": [
      "<class 'pandas.core.frame.DataFrame'>\n",
      "RangeIndex: 23699 entries, 0 to 23698\n",
      "Data columns (total 23 columns):\n",
      "Unnamed: 0              23699 non-null int64\n",
      "total_images            23699 non-null int64\n",
      "last_price              23699 non-null float64\n",
      "total_area              23699 non-null float64\n",
      "first_day_exposition    23699 non-null datetime64[ns]\n",
      "rooms                   23699 non-null int64\n",
      "ceiling_height          23699 non-null float64\n",
      "floors_total            23699 non-null int64\n",
      "living_area             23699 non-null float64\n",
      "floor                   23699 non-null int64\n",
      "is_apartment            23699 non-null bool\n",
      "studio                  23699 non-null bool\n",
      "open_plan               23699 non-null bool\n",
      "kitchen_area            23699 non-null float64\n",
      "balcony                 23699 non-null int64\n",
      "locality_name           23699 non-null object\n",
      "airports_nearest        23699 non-null float64\n",
      "cityCenters_nearest     23699 non-null float64\n",
      "parks_around3000        23699 non-null float64\n",
      "parks_nearest           23699 non-null float64\n",
      "ponds_around3000        18181 non-null float64\n",
      "ponds_nearest           23699 non-null float64\n",
      "days_exposition         23699 non-null int64\n",
      "dtypes: bool(3), datetime64[ns](1), float64(11), int64(7), object(1)\n",
      "memory usage: 3.7+ MB\n"
     ]
    }
   ],
   "source": [
    "data.info()"
   ]
  },
  {
   "cell_type": "markdown",
   "metadata": {},
   "source": [
    "### Conclusion"
   ]
  },
  {
   "cell_type": "markdown",
   "metadata": {},
   "source": [
    "- There are no duplicates in the data set;\n",
    "- There are many missing data in the dataset. In such columns as: ceiling_height (9195), floors_total (86), living_area (1903), is_apartment (20924), kitchen_area (2278), balcony (11519), locality_name (49), airports_nearest (5542), cityCenters_nearest (5519), parks_around3000 (5518), parks_nearest (15620), ponds_around3000 (5518), ponds_nearest (14589), days_exposition (3181);\n",
    "\n",
    "- In the column describing the height of the ceilings in apartments for sale (ceiling_heigh) - 9195 missing values filled the gaps with the median value for the column. On average, the ceiling height in apartments from the table data proposed for analysis = 2.77 (m). Interestingly, the maximum value in the column is the height of the ceilings: 100.00 (m), this is the height of the ceilings.\n",
    "\n",
    "- In the column describing the number of floors in the house (floors_total) - 86 missing values, filled the gaps with a value of 1. Even if our assumption is wrong, 86 records should not greatly shift the distribution.\n",
    "\n",
    "- In the column describing the living area in square meters (m²) (living_area) - 1903 missing values filled in the missing values with a median value.\n",
    "\n",
    "- In the column describing the apartment as an apartment (is_apartment) - 20924 missing values. The values of the missing were replaced by False - the apartment is not an apartment. I did not change the data type in the column because I believe that the values True and False more clearly represent the relation of the property to the type of apartment.\n",
    "\n",
    "- In the column describing the area of the kitchen in square meters (m²) (kitchen_area) - 2278 missing values, filled in the missing values with a median value.\n",
    "\n",
    "- In the column describing the presence of a balcony (balcony) - 11519 missing values, filled with 0.0 values. She suggested that these are single-story houses, since she did not know either the building plan or the builder.\n",
    "\n",
    "- In the column the name of the locality (locality_name) - 49 missing values, filled the values with the fact that the information for these values is not undefined (undefined). Since the name of the area does not correlate with other signs.\n",
    "\n",
    "- In the columns, the distance to airports (airports_nearest) - 5 542 missing values and in the column the distance to the city center (cityCenters_nearest) 5 519 missing values. We fill in the data with the median value, for 336 lines it was not possible to fill in the values. In these cases, most likely, gaps appear in settlements that are not cities or are sufficiently far from cities. Or there is no data for calculating distances.\n",
    "\n",
    "- In the columns, the number of parks within a radius of 3 km (parks_around3000), the distance to the nearest park (m) (parks_nearest), the number of reservoirs within a radius of 3 km (ponds_around3000), the distance to the nearest reservoir (m) (ponds_nearest): the number of missing values is 5518, 15620, 5518, 14589. Checked the correlation with other parameters, it turned out to be insignificant from 0.0005 to 0.3. Since the correlation with other parameters for all 4 parameters is low. It can be said that the values of these columns are independent of other quantities. She added information that for missing values in these columns, the value is not defined, as this will not affect the analysis.\n",
    "\n",
    "- In the column describing the number of days of placing an advertisement for the sale of an apartment was posted (days_exposition) - 3181 missing values. For each missing value, it calculated the median value and the median value filled in the gaps. Before filling in the blanks in the days_exposition column, convert the first_day_exposition column to the data type% Y-% m-% d, because the days_exposition column depends on the date the ads were posted."
   ]
  },
  {
   "cell_type": "markdown",
   "metadata": {},
   "source": [
    "## Step 3. Counting and adding data to the table <a class=\"anchor\" id=\"third-bullet\"></a>"
   ]
  },
  {
   "cell_type": "markdown",
   "metadata": {},
   "source": [
    "**3.1. Count and add to the table: price per square meter** <a class=\"anchor\" id=\"second3-1-bullet\"></a><br>\n",
    "To find out the cost of one square meter, it is necessary to divide the cost of the apartment (column last_price) by the total area of the apartment (column total_area)."
   ]
  },
  {
   "cell_type": "code",
   "execution_count": 167,
   "metadata": {},
   "outputs": [
    {
     "name": "stdout",
     "output_type": "stream",
     "text": [
      "The average cost per square meter for all apartments:\"108395.94031315896\"\n"
     ]
    }
   ],
   "source": [
    "data['meter_price'] = data['last_price'] / data['total_area']\n",
    "data['meter_price'] = data['meter_price'].astype('int')\n",
    "print (f\"The average cost per square meter for all apartments:\\\"{data['last_price'].sum() / data['total_area'].sum()}\\\"\")"
   ]
  },
  {
   "cell_type": "code",
   "execution_count": 168,
   "metadata": {},
   "outputs": [
    {
     "data": {
      "text/html": [
       "<div>\n",
       "<style scoped>\n",
       "    .dataframe tbody tr th:only-of-type {\n",
       "        vertical-align: middle;\n",
       "    }\n",
       "\n",
       "    .dataframe tbody tr th {\n",
       "        vertical-align: top;\n",
       "    }\n",
       "\n",
       "    .dataframe thead th {\n",
       "        text-align: right;\n",
       "    }\n",
       "</style>\n",
       "<table border=\"1\" class=\"dataframe\">\n",
       "  <thead>\n",
       "    <tr style=\"text-align: right;\">\n",
       "      <th></th>\n",
       "      <th>total_area</th>\n",
       "      <th>last_price</th>\n",
       "      <th>meter_price</th>\n",
       "    </tr>\n",
       "  </thead>\n",
       "  <tbody>\n",
       "    <tr>\n",
       "      <td>0</td>\n",
       "      <td>108.0</td>\n",
       "      <td>13000000.0</td>\n",
       "      <td>120370</td>\n",
       "    </tr>\n",
       "    <tr>\n",
       "      <td>1</td>\n",
       "      <td>40.4</td>\n",
       "      <td>3350000.0</td>\n",
       "      <td>82920</td>\n",
       "    </tr>\n",
       "    <tr>\n",
       "      <td>2</td>\n",
       "      <td>56.0</td>\n",
       "      <td>5196000.0</td>\n",
       "      <td>92785</td>\n",
       "    </tr>\n",
       "    <tr>\n",
       "      <td>3</td>\n",
       "      <td>159.0</td>\n",
       "      <td>64900000.0</td>\n",
       "      <td>408176</td>\n",
       "    </tr>\n",
       "    <tr>\n",
       "      <td>4</td>\n",
       "      <td>100.0</td>\n",
       "      <td>10000000.0</td>\n",
       "      <td>100000</td>\n",
       "    </tr>\n",
       "  </tbody>\n",
       "</table>\n",
       "</div>"
      ],
      "text/plain": [
       "   total_area  last_price  meter_price\n",
       "0       108.0  13000000.0       120370\n",
       "1        40.4   3350000.0        82920\n",
       "2        56.0   5196000.0        92785\n",
       "3       159.0  64900000.0       408176\n",
       "4       100.0  10000000.0       100000"
      ]
     },
     "execution_count": 168,
     "metadata": {},
     "output_type": "execute_result"
    }
   ],
   "source": [
    "data[:5][['total_area', 'last_price', 'meter_price']]"
   ]
  },
  {
   "cell_type": "markdown",
   "metadata": {},
   "source": [
    "**3.2. Calculate and add to the table: day of the week, month and year of publication of the announcement** <a class=\"anchor\" id=\"second3-2-bullet\"></a>"
   ]
  },
  {
   "cell_type": "code",
   "execution_count": 169,
   "metadata": {},
   "outputs": [],
   "source": [
    "data['day_week'] = pd.DatetimeIndex(data['first_day_exposition']).weekday\n",
    "data['month'] = pd.DatetimeIndex(data['first_day_exposition']).month\n",
    "data['year'] = pd.DatetimeIndex(data['first_day_exposition']).year"
   ]
  },
  {
   "cell_type": "code",
   "execution_count": 170,
   "metadata": {},
   "outputs": [
    {
     "data": {
      "text/html": [
       "<div>\n",
       "<style scoped>\n",
       "    .dataframe tbody tr th:only-of-type {\n",
       "        vertical-align: middle;\n",
       "    }\n",
       "\n",
       "    .dataframe tbody tr th {\n",
       "        vertical-align: top;\n",
       "    }\n",
       "\n",
       "    .dataframe thead th {\n",
       "        text-align: right;\n",
       "    }\n",
       "</style>\n",
       "<table border=\"1\" class=\"dataframe\">\n",
       "  <thead>\n",
       "    <tr style=\"text-align: right;\">\n",
       "      <th></th>\n",
       "      <th>first_day_exposition</th>\n",
       "      <th>day_week</th>\n",
       "      <th>month</th>\n",
       "      <th>year</th>\n",
       "    </tr>\n",
       "  </thead>\n",
       "  <tbody>\n",
       "    <tr>\n",
       "      <td>0</td>\n",
       "      <td>2019-03-07</td>\n",
       "      <td>3</td>\n",
       "      <td>3</td>\n",
       "      <td>2019</td>\n",
       "    </tr>\n",
       "    <tr>\n",
       "      <td>1</td>\n",
       "      <td>2018-12-04</td>\n",
       "      <td>1</td>\n",
       "      <td>12</td>\n",
       "      <td>2018</td>\n",
       "    </tr>\n",
       "    <tr>\n",
       "      <td>2</td>\n",
       "      <td>2015-08-20</td>\n",
       "      <td>3</td>\n",
       "      <td>8</td>\n",
       "      <td>2015</td>\n",
       "    </tr>\n",
       "    <tr>\n",
       "      <td>3</td>\n",
       "      <td>2015-07-24</td>\n",
       "      <td>4</td>\n",
       "      <td>7</td>\n",
       "      <td>2015</td>\n",
       "    </tr>\n",
       "    <tr>\n",
       "      <td>4</td>\n",
       "      <td>2018-06-19</td>\n",
       "      <td>1</td>\n",
       "      <td>6</td>\n",
       "      <td>2018</td>\n",
       "    </tr>\n",
       "  </tbody>\n",
       "</table>\n",
       "</div>"
      ],
      "text/plain": [
       "  first_day_exposition  day_week  month  year\n",
       "0           2019-03-07         3      3  2019\n",
       "1           2018-12-04         1     12  2018\n",
       "2           2015-08-20         3      8  2015\n",
       "3           2015-07-24         4      7  2015\n",
       "4           2018-06-19         1      6  2018"
      ]
     },
     "execution_count": 170,
     "metadata": {},
     "output_type": "execute_result"
    }
   ],
   "source": [
    "data[:5][['first_day_exposition', 'day_week', 'month', 'year']]"
   ]
  },
  {
   "cell_type": "markdown",
   "metadata": {},
   "source": [
    "**3.3. Count and add to the table: apartment floor; options - first, last, other** <a class=\"anchor\" id=\"second3-3-bullet\"></a>"
   ]
  },
  {
   "cell_type": "code",
   "execution_count": 171,
   "metadata": {},
   "outputs": [],
   "source": [
    "def categorize_floor(row):\n",
    "    if row['floor'] == 1:\n",
    "        return 'первый'\n",
    "    elif row['floor'] == row['floors_total']:\n",
    "        return 'последний'\n",
    "    else:\n",
    "        return 'другой'\n",
    "    \n",
    "data_floor_category = data.apply(categorize_floor, axis=1)"
   ]
  },
  {
   "cell_type": "code",
   "execution_count": 172,
   "metadata": {},
   "outputs": [
    {
     "data": {
      "text/plain": [
       "другой       17446\n",
       "последний     3336\n",
       "первый        2917\n",
       "dtype: int64"
      ]
     },
     "execution_count": 172,
     "metadata": {},
     "output_type": "execute_result"
    }
   ],
   "source": [
    "data_floor_category.value_counts()"
   ]
  },
  {
   "cell_type": "markdown",
   "metadata": {},
   "source": [
    "**3.4. Calculate and add to the table: the ratio of living and total area, as well as the ratio of the area of the kitchen to the total** <a class=\"anchor\" id=\"second3-4-bullet\"></a>"
   ]
  },
  {
   "cell_type": "code",
   "execution_count": 173,
   "metadata": {},
   "outputs": [
    {
     "name": "stdout",
     "output_type": "stream",
     "text": [
      "The ratio of the residential and total area: 56.50\n",
      "The ratio of the area of the kitchen to the total: 17.28\n"
     ]
    }
   ],
   "source": [
    "data['living_ratio'] = (data['living_area'] / data['total_area']) * 100\n",
    "data['kitchen_ratio'] = (data['kitchen_area'] / data['total_area']) * 100\n",
    "data['living_ratio'] = data['living_ratio'].astype(str) + '%'\n",
    "data['kitchen_ratio'] = data['kitchen_ratio'].astype(str) + '%'\n",
    "\n",
    "data_liv = (data['living_area'].sum() / data['total_area'].sum()) * 100\n",
    "data_kit = (data['kitchen_area'].sum() / data['total_area'].sum()) * 100\n",
    "\n",
    "print(\"The ratio of the residential and total area: {:.2f}\".format(data_liv))\n",
    "print(\"The ratio of the area of the kitchen to the total: {:.2f}\".format(data_kit))\n"
   ]
  },
  {
   "cell_type": "code",
   "execution_count": 174,
   "metadata": {},
   "outputs": [
    {
     "data": {
      "text/html": [
       "<div>\n",
       "<style scoped>\n",
       "    .dataframe tbody tr th:only-of-type {\n",
       "        vertical-align: middle;\n",
       "    }\n",
       "\n",
       "    .dataframe tbody tr th {\n",
       "        vertical-align: top;\n",
       "    }\n",
       "\n",
       "    .dataframe thead th {\n",
       "        text-align: right;\n",
       "    }\n",
       "</style>\n",
       "<table border=\"1\" class=\"dataframe\">\n",
       "  <thead>\n",
       "    <tr style=\"text-align: right;\">\n",
       "      <th></th>\n",
       "      <th>total_area</th>\n",
       "      <th>living_area</th>\n",
       "      <th>living_ratio</th>\n",
       "      <th>kitchen_area</th>\n",
       "      <th>kitchen_ratio</th>\n",
       "    </tr>\n",
       "  </thead>\n",
       "  <tbody>\n",
       "    <tr>\n",
       "      <td>0</td>\n",
       "      <td>108.0</td>\n",
       "      <td>51.0</td>\n",
       "      <td>47.22222222222222%</td>\n",
       "      <td>25.0</td>\n",
       "      <td>23.14814814814815%</td>\n",
       "    </tr>\n",
       "    <tr>\n",
       "      <td>1</td>\n",
       "      <td>40.4</td>\n",
       "      <td>18.6</td>\n",
       "      <td>46.03960396039605%</td>\n",
       "      <td>11.0</td>\n",
       "      <td>27.22772277227723%</td>\n",
       "    </tr>\n",
       "    <tr>\n",
       "      <td>2</td>\n",
       "      <td>56.0</td>\n",
       "      <td>34.3</td>\n",
       "      <td>61.24999999999999%</td>\n",
       "      <td>8.3</td>\n",
       "      <td>14.821428571428571%</td>\n",
       "    </tr>\n",
       "    <tr>\n",
       "      <td>3</td>\n",
       "      <td>159.0</td>\n",
       "      <td>30.0</td>\n",
       "      <td>18.867924528301888%</td>\n",
       "      <td>9.1</td>\n",
       "      <td>5.723270440251572%</td>\n",
       "    </tr>\n",
       "    <tr>\n",
       "      <td>4</td>\n",
       "      <td>100.0</td>\n",
       "      <td>32.0</td>\n",
       "      <td>32.0%</td>\n",
       "      <td>41.0</td>\n",
       "      <td>41.0%</td>\n",
       "    </tr>\n",
       "  </tbody>\n",
       "</table>\n",
       "</div>"
      ],
      "text/plain": [
       "   total_area  living_area         living_ratio  kitchen_area  \\\n",
       "0       108.0         51.0   47.22222222222222%          25.0   \n",
       "1        40.4         18.6   46.03960396039605%          11.0   \n",
       "2        56.0         34.3   61.24999999999999%           8.3   \n",
       "3       159.0         30.0  18.867924528301888%           9.1   \n",
       "4       100.0         32.0                32.0%          41.0   \n",
       "\n",
       "         kitchen_ratio  \n",
       "0   23.14814814814815%  \n",
       "1   27.22772277227723%  \n",
       "2  14.821428571428571%  \n",
       "3   5.723270440251572%  \n",
       "4                41.0%  "
      ]
     },
     "execution_count": 174,
     "metadata": {},
     "output_type": "execute_result"
    }
   ],
   "source": [
    "data[:5][['total_area', 'living_area', 'living_ratio', 'kitchen_area', 'kitchen_ratio']]"
   ]
  },
  {
   "cell_type": "markdown",
   "metadata": {},
   "source": [
    "**3.5. To study the parameters: area, price, number of rooms, ceiling height** <a class=\"anchor\" id=\"second3-5-bullet\"></a>"
   ]
  },
  {
   "cell_type": "code",
   "execution_count": 175,
   "metadata": {},
   "outputs": [
    {
     "data": {
      "text/html": [
       "<div>\n",
       "<style scoped>\n",
       "    .dataframe tbody tr th:only-of-type {\n",
       "        vertical-align: middle;\n",
       "    }\n",
       "\n",
       "    .dataframe tbody tr th {\n",
       "        vertical-align: top;\n",
       "    }\n",
       "\n",
       "    .dataframe thead th {\n",
       "        text-align: right;\n",
       "    }\n",
       "</style>\n",
       "<table border=\"1\" class=\"dataframe\">\n",
       "  <thead>\n",
       "    <tr style=\"text-align: right;\">\n",
       "      <th></th>\n",
       "      <th>total_area</th>\n",
       "      <th>rooms</th>\n",
       "      <th>ceiling_height</th>\n",
       "      <th>last_price</th>\n",
       "    </tr>\n",
       "  </thead>\n",
       "  <tbody>\n",
       "    <tr>\n",
       "      <td>0</td>\n",
       "      <td>108.0</td>\n",
       "      <td>3</td>\n",
       "      <td>2.70</td>\n",
       "      <td>13000000.0</td>\n",
       "    </tr>\n",
       "    <tr>\n",
       "      <td>1</td>\n",
       "      <td>40.4</td>\n",
       "      <td>1</td>\n",
       "      <td>2.65</td>\n",
       "      <td>3350000.0</td>\n",
       "    </tr>\n",
       "    <tr>\n",
       "      <td>2</td>\n",
       "      <td>56.0</td>\n",
       "      <td>2</td>\n",
       "      <td>2.65</td>\n",
       "      <td>5196000.0</td>\n",
       "    </tr>\n",
       "    <tr>\n",
       "      <td>3</td>\n",
       "      <td>159.0</td>\n",
       "      <td>3</td>\n",
       "      <td>2.65</td>\n",
       "      <td>64900000.0</td>\n",
       "    </tr>\n",
       "    <tr>\n",
       "      <td>4</td>\n",
       "      <td>100.0</td>\n",
       "      <td>2</td>\n",
       "      <td>3.03</td>\n",
       "      <td>10000000.0</td>\n",
       "    </tr>\n",
       "  </tbody>\n",
       "</table>\n",
       "</div>"
      ],
      "text/plain": [
       "   total_area  rooms  ceiling_height  last_price\n",
       "0       108.0      3            2.70  13000000.0\n",
       "1        40.4      1            2.65   3350000.0\n",
       "2        56.0      2            2.65   5196000.0\n",
       "3       159.0      3            2.65  64900000.0\n",
       "4       100.0      2            3.03  10000000.0"
      ]
     },
     "execution_count": 175,
     "metadata": {},
     "output_type": "execute_result"
    }
   ],
   "source": [
    "data[:5][['total_area', 'rooms', 'ceiling_height', 'last_price']]"
   ]
  },
  {
   "cell_type": "markdown",
   "metadata": {},
   "source": [
    "**3.6. Build histograms for each parameter: area, price, number of rooms, ceiling height** <a class=\"anchor\" id=\"second3-6-bullet\"></a><br>\n",
    "We construct histograms of the dependencies of each of the parameters on the number of apartments sold."
   ]
  },
  {
   "cell_type": "code",
   "execution_count": 176,
   "metadata": {},
   "outputs": [
    {
     "name": "stdout",
     "output_type": "stream",
     "text": [
      "AxesSubplot(0.125,0.125;0.775x0.755)\n"
     ]
    },
    {
     "data": {
      "image/png": "[encoded data removed]",
      "text/plain": [
       "<Figure size 432x288 with 1 Axes>"
      ]
     },
     "metadata": {
      "needs_background": "light"
     },
     "output_type": "display_data"
    },
    {
     "name": "stdout",
     "output_type": "stream",
     "text": [
      "AxesSubplot(0.125,0.125;0.775x0.755)\n"
     ]
    },
    {
     "data": {
      "image/png": "[encoded data removed]",
      "text/plain": [
       "<Figure size 432x288 with 1 Axes>"
      ]
     },
     "metadata": {
      "needs_background": "light"
     },
     "output_type": "display_data"
    },
    {
     "name": "stdout",
     "output_type": "stream",
     "text": [
      "AxesSubplot(0.125,0.125;0.775x0.755)\n"
     ]
    },
    {
     "data": {
      "image/png": "[encoded data removed]",
      "text/plain": [
       "<Figure size 432x288 with 1 Axes>"
      ]
     },
     "metadata": {
      "needs_background": "light"
     },
     "output_type": "display_data"
    },
    {
     "name": "stdout",
     "output_type": "stream",
     "text": [
      "AxesSubplot(0.125,0.125;0.775x0.755)\n"
     ]
    },
    {
     "data": {
      "image/png": "[encoded data removed]",
      "text/plain": [
       "<Figure size 432x288 with 1 Axes>"
      ]
     },
     "metadata": {
      "needs_background": "light"
     },
     "output_type": "display_data"
    }
   ],
   "source": [
    "def hist_plots(data, columns, bins, ranges, ylims, titles):\n",
    "    for i in range(0, len(columns)):\n",
    "        print (data[columns[i]].plot(\n",
    "            kind='hist', \n",
    "            bins=bins[i], \n",
    "            range=ranges[i],\n",
    "            ylim=ylims[i],\n",
    "            title=titles[i]\n",
    "        ))\n",
    "        plt.show()\n",
    "    return\n",
    "\n",
    "hist_plots(data, \n",
    "    ['total_area', 'rooms', 'ceiling_height', 'last_price'],\n",
    "    [100, 10, 20, 100],\n",
    "    [(0, 400), (0, 9), (2.25, 4), (0, 40000000)],\n",
    "    [None, None, None, None],\n",
    "    [\n",
    "        \"Histogram of the dependence of the area of the apartment on the number of sales\",\n",
    "        \"Histogram of the dependence of the number of rooms in the apartment on the number of sales\",\n",
    "        \"Histogram of the dependence of the ceiling height in the apartment on the number of sales\",\n",
    "        \"Histogram of the dependence of the price of the apartment on the number of sales\"\n",
    "    ]\n",
    ")"
   ]
  },
  {
   "cell_type": "markdown",
   "metadata": {},
   "source": [
    "### Conclusion\n",
    "- The price per square meter for all apartments provided in the data table was 108,395 rubles.\n",
    "- Most often there are proposals for the sale of apartments not on the first and last floors. The number of such apartments in the total sample according to the data amounted to 17,446 apartments\n",
    "- The ratio of residential represented apartments to the total area of apartments: 56.50%\n",
    "- The ratio of the area of the kitchen of the presented apartments to the total apartments: 17.28%\n",
    "- The most popular apartments are apartments with a total area of 40 sq. M to 60 sq. M.\n",
    "- Also, the most popular apartments are one-room and two-room apartments.\n",
    "- Most often, the ceiling height of the apartments in demand on the market is 2.6 m\n",
    "- The cost of the most popular apartments on the market is 5,000,000 rubles."
   ]
  },
  {
   "cell_type": "markdown",
   "metadata": {},
   "source": [
    "## Step 4. Conducting research data analysis <a class=\"anchor\" id=\"fourth-bullet\"></a>"
   ]
  },
  {
   "cell_type": "markdown",
   "metadata": {},
   "source": [
    "**4.1. Task 1.** <a class=\"anchor\" id=\"fourth4-1-bullet\"></a><br>\n",
    "**Study the time of sale of apartments.**\n",
    "- Build a histogram.\n",
    "- Calculate the average and median.\n",
    "- Describe how much a sale usually takes.\n",
    "- When can we assume that sales were very fast, and when an unusually long time?"
   ]
  },
  {
   "cell_type": "code",
   "execution_count": 177,
   "metadata": {},
   "outputs": [
    {
     "data": {
      "text/plain": [
       "count    23699.000000\n",
       "mean       169.360226\n",
       "std        206.535633\n",
       "min          1.000000\n",
       "25%         45.000000\n",
       "50%         95.000000\n",
       "75%        199.000000\n",
       "max       1580.000000\n",
       "Name: days_exposition, dtype: float64"
      ]
     },
     "execution_count": 177,
     "metadata": {},
     "output_type": "execute_result"
    }
   ],
   "source": [
    "data['days_exposition'].describe()"
   ]
  },
  {
   "cell_type": "code",
   "execution_count": 178,
   "metadata": {},
   "outputs": [
    {
     "name": "stdout",
     "output_type": "stream",
     "text": [
      "The average value for the column 'apartment sale time': 169.36(дней)\n",
      "Median column 'apartment sale time': 95.00(дней)\n"
     ]
    }
   ],
   "source": [
    "days_mean = data['days_exposition'].mean()\n",
    "days_median = data['days_exposition'].median()\n",
    "\n",
    "print(\"The average value for the column 'apartment sale time': {:.2f}(дней)\".format(days_mean))\n",
    "print(\"Median column 'apartment sale time': {:.2f}(дней)\".format(days_median))"
   ]
  },
  {
   "cell_type": "markdown",
   "metadata": {},
   "source": [
    "<font color=green>Let’s build a histogram of the time of selling an apartment on the number of apartments sold.</font>"
   ]
  },
  {
   "cell_type": "code",
   "execution_count": 179,
   "metadata": {},
   "outputs": [
    {
     "name": "stdout",
     "output_type": "stream",
     "text": [
      "AxesSubplot(0.125,0.125;0.775x0.755)\n"
     ]
    },
    {
     "data": {
      "image/png": "[encoded data removed]",
      "text/plain": [
       "<Figure size 432x288 with 1 Axes>"
      ]
     },
     "metadata": {
      "needs_background": "light"
     },
     "output_type": "display_data"
    }
   ],
   "source": [
    "def hist_plots_time(data, columns, bins, ranges, ylims, titles):\n",
    "    for i in range(0, len(columns)):\n",
    "        print (data[columns[i]].plot(\n",
    "            kind='hist', \n",
    "            bins=bins[i], \n",
    "            range=ranges[i],\n",
    "            ylim=ylims[i],\n",
    "            title=titles[i]\n",
    "        ))\n",
    "        plt.show()\n",
    "    return\n",
    "\n",
    "hist_plots_time(\n",
    "    data, \n",
    "    ['days_exposition'],\n",
    "    [100],\n",
    "    [(0, 600)],\n",
    "    [None],\n",
    "    [\n",
    "        'Bar graph of the time of sale of the apartment on the number of sales',\n",
    "    ]\n",
    ")"
   ]
  },
  {
   "cell_type": "markdown",
   "metadata": {},
   "source": [
    "Removed the knockout values from the diagram above:"
   ]
  },
  {
   "cell_type": "code",
   "execution_count": 180,
   "metadata": {},
   "outputs": [
    {
     "name": "stdout",
     "output_type": "stream",
     "text": [
      "AxesSubplot(0.125,0.125;0.775x0.755)\n"
     ]
    },
    {
     "data": {
      "image/png": "[encoded data removed]",
      "text/plain": [
       "<Figure size 432x288 with 1 Axes>"
      ]
     },
     "metadata": {
      "needs_background": "light"
     },
     "output_type": "display_data"
    }
   ],
   "source": [
    "def hist_plots_time(data, columns, bins, ranges, ylims, titles):\n",
    "    for i in range(0, len(columns)):\n",
    "        print (data[columns[i]].plot(\n",
    "            kind='hist', \n",
    "            bins=bins[i], \n",
    "            range=ranges[i],\n",
    "            ylim=ylims[i],\n",
    "            title=titles[i]\n",
    "        ))\n",
    "        plt.show()\n",
    "    return\n",
    "\n",
    "hist_plots_time(\n",
    "    data, \n",
    "    ['days_exposition'],\n",
    "    [80],\n",
    "    [(0, 300)],\n",
    "    [None],\n",
    "    [\n",
    "        'Bar graph of the time of sale of the apartment on the number of sales',\n",
    "    ]\n",
    ")"
   ]
  },
  {
   "cell_type": "markdown",
   "metadata": {},
   "source": [
    "**Conclusion:**<br> \n",
    "**4.1. Task 1.**\n",
    "- Average apartment sale time: 95 days\n",
    "- The apartment is for sale immediately, or within 3 months (95 days). The histogram shows that after 90-100 days there is a decline in the number of apartments sold."
   ]
  },
  {
   "cell_type": "markdown",
   "metadata": {},
   "source": [
    "**4.2. Task 2.** <a class=\"anchor\" id=\"fourth4-1-bullet\"></a><br>\n",
    "**Remove rare and outdated values.**<br>\n",
    "We study the factors affecting the value of real estate."
   ]
  },
  {
   "cell_type": "markdown",
   "metadata": {},
   "source": [
    "<font color=green>Factors will be considered in the context of data that has been cleaned up in the previous steps. For slices, we will have the following conditions:</font>"
   ]
  },
  {
   "cell_type": "code",
   "execution_count": 181,
   "metadata": {},
   "outputs": [],
   "source": [
    "total_area_query = 'total_area >= 12 and total_area <= 115'\n",
    "last_price_query = 'last_price >= 4.3e+5 and last_price <= 1.2e+7'\n",
    "rooms_query = 'rooms >= 1 and rooms <= 6'\n",
    "ceiling_height_query = 'ceiling_height >= 2.4 and ceiling_height <= 3.2'\n",
    "days_exposition_query = 'days_exposition >= 7 and days_exposition <= 430'"
   ]
  },
  {
   "cell_type": "markdown",
   "metadata": {},
   "source": [
    "<font color=green>The dependence of the value of the real estate on the price per square meter.</font>"
   ]
  },
  {
   "cell_type": "code",
   "execution_count": 182,
   "metadata": {},
   "outputs": [
    {
     "data": {
      "image/png": "[encoded data removed]",
      "text/plain": [
       "<Figure size 432x288 with 1 Axes>"
      ]
     },
     "metadata": {
      "needs_background": "light"
     },
     "output_type": "display_data"
    }
   ],
   "source": [
    "clean_data_query = f'{total_area_query} and {last_price_query}'\n",
    "clean_data = data.query(clean_data_query)\n",
    "\n",
    "clean_data.plot(x='meter_price', y='last_price', kind='scatter')\n",
    "plt.show()"
   ]
  },
  {
   "cell_type": "code",
   "execution_count": 183,
   "metadata": {},
   "outputs": [
    {
     "name": "stdout",
     "output_type": "stream",
     "text": [
      "Correlation of property value from the price per square meter: 0.63\n"
     ]
    }
   ],
   "source": [
    "cor_clean_meter = clean_data['meter_price'].corr(clean_data['last_price'])\n",
    "print(\"Correlation of property value from the price per square meter: {:.2f}\".format(cor_clean_meter))"
   ]
  },
  {
   "cell_type": "markdown",
   "metadata": {},
   "source": [
    "<font color=green>The dependence of the value of the real estate on the number of rooms.</font>"
   ]
  },
  {
   "cell_type": "code",
   "execution_count": 184,
   "metadata": {},
   "outputs": [
    {
     "data": {
      "image/png": "[encoded data removed]",
      "text/plain": [
       "<Figure size 432x288 with 1 Axes>"
      ]
     },
     "metadata": {
      "needs_background": "light"
     },
     "output_type": "display_data"
    }
   ],
   "source": [
    "clean_data_query = f'{rooms_query} and {last_price_query}'\n",
    "clean_data = data.query(clean_data_query)\n",
    "\n",
    "clean_data.plot(x='rooms', y='last_price', kind='scatter')\n",
    "plt.show()"
   ]
  },
  {
   "cell_type": "code",
   "execution_count": 185,
   "metadata": {},
   "outputs": [
    {
     "name": "stdout",
     "output_type": "stream",
     "text": [
      "AxesSubplot(0.125,0.125;0.775x0.755)\n"
     ]
    },
    {
     "data": {
      "image/png": "[encoded data removed]",
      "text/plain": [
       "<Figure size 432x288 with 1 Axes>"
      ]
     },
     "metadata": {
      "needs_background": "light"
     },
     "output_type": "display_data"
    }
   ],
   "source": [
    "def hist_plots_room(data, columns, bins, ranges, ylims, titles):\n",
    "    for i in range(0, len(columns)):\n",
    "        print (data[columns[i]].plot(\n",
    "            kind='hist', \n",
    "            bins=bins[i], \n",
    "            range=ranges[i],\n",
    "            ylim=ylims[i],\n",
    "            title=titles[i]\n",
    "        ))\n",
    "        plt.show()\n",
    "    return\n",
    "\n",
    "hist_plots_room(\n",
    "    clean_data, \n",
    "    ['rooms'],\n",
    "    [10],\n",
    "    [(1, 6)],\n",
    "    [None],\n",
    "    [\n",
    "        'A histogram of the dependence of property value on the number of rooms',\n",
    "    ]\n",
    ")"
   ]
  },
  {
   "cell_type": "code",
   "execution_count": 186,
   "metadata": {},
   "outputs": [
    {
     "name": "stdout",
     "output_type": "stream",
     "text": [
      "Correlation of property value from the number of rooms: 0.45\n"
     ]
    }
   ],
   "source": [
    "cor_clean_rooms = clean_data['rooms'].corr(clean_data['last_price'])\n",
    "print(\"Correlation of property value from the number of rooms: {:.2f}\".format(cor_clean_rooms))"
   ]
  },
  {
   "cell_type": "markdown",
   "metadata": {},
   "source": [
    "<font color=green>The dependence of the value of the real estate on the floor.</font>"
   ]
  },
  {
   "cell_type": "code",
   "execution_count": 187,
   "metadata": {},
   "outputs": [
    {
     "data": {
      "text/html": [
       "<div>\n",
       "<style scoped>\n",
       "    .dataframe tbody tr th:only-of-type {\n",
       "        vertical-align: middle;\n",
       "    }\n",
       "\n",
       "    .dataframe tbody tr th {\n",
       "        vertical-align: top;\n",
       "    }\n",
       "\n",
       "    .dataframe thead th {\n",
       "        text-align: right;\n",
       "    }\n",
       "</style>\n",
       "<table border=\"1\" class=\"dataframe\">\n",
       "  <thead>\n",
       "    <tr style=\"text-align: right;\">\n",
       "      <th></th>\n",
       "      <th>last_price</th>\n",
       "    </tr>\n",
       "    <tr>\n",
       "      <th>floor</th>\n",
       "      <th></th>\n",
       "    </tr>\n",
       "  </thead>\n",
       "  <tbody>\n",
       "    <tr>\n",
       "      <td>1</td>\n",
       "      <td>4.160474e+06</td>\n",
       "    </tr>\n",
       "    <tr>\n",
       "      <td>2</td>\n",
       "      <td>4.727048e+06</td>\n",
       "    </tr>\n",
       "    <tr>\n",
       "      <td>3</td>\n",
       "      <td>4.894708e+06</td>\n",
       "    </tr>\n",
       "    <tr>\n",
       "      <td>4</td>\n",
       "      <td>4.873951e+06</td>\n",
       "    </tr>\n",
       "    <tr>\n",
       "      <td>5</td>\n",
       "      <td>4.622358e+06</td>\n",
       "    </tr>\n",
       "    <tr>\n",
       "      <td>6</td>\n",
       "      <td>5.264891e+06</td>\n",
       "    </tr>\n",
       "    <tr>\n",
       "      <td>7</td>\n",
       "      <td>5.116754e+06</td>\n",
       "    </tr>\n",
       "    <tr>\n",
       "      <td>8</td>\n",
       "      <td>5.094503e+06</td>\n",
       "    </tr>\n",
       "    <tr>\n",
       "      <td>9</td>\n",
       "      <td>5.076549e+06</td>\n",
       "    </tr>\n",
       "    <tr>\n",
       "      <td>10</td>\n",
       "      <td>5.396741e+06</td>\n",
       "    </tr>\n",
       "    <tr>\n",
       "      <td>11</td>\n",
       "      <td>5.456481e+06</td>\n",
       "    </tr>\n",
       "    <tr>\n",
       "      <td>12</td>\n",
       "      <td>5.433257e+06</td>\n",
       "    </tr>\n",
       "    <tr>\n",
       "      <td>13</td>\n",
       "      <td>5.461194e+06</td>\n",
       "    </tr>\n",
       "    <tr>\n",
       "      <td>14</td>\n",
       "      <td>5.302409e+06</td>\n",
       "    </tr>\n",
       "    <tr>\n",
       "      <td>15</td>\n",
       "      <td>5.296633e+06</td>\n",
       "    </tr>\n",
       "    <tr>\n",
       "      <td>16</td>\n",
       "      <td>5.421473e+06</td>\n",
       "    </tr>\n",
       "    <tr>\n",
       "      <td>17</td>\n",
       "      <td>5.172536e+06</td>\n",
       "    </tr>\n",
       "    <tr>\n",
       "      <td>18</td>\n",
       "      <td>5.225236e+06</td>\n",
       "    </tr>\n",
       "    <tr>\n",
       "      <td>19</td>\n",
       "      <td>5.143489e+06</td>\n",
       "    </tr>\n",
       "    <tr>\n",
       "      <td>20</td>\n",
       "      <td>5.330634e+06</td>\n",
       "    </tr>\n",
       "    <tr>\n",
       "      <td>21</td>\n",
       "      <td>5.327061e+06</td>\n",
       "    </tr>\n",
       "    <tr>\n",
       "      <td>22</td>\n",
       "      <td>5.780966e+06</td>\n",
       "    </tr>\n",
       "    <tr>\n",
       "      <td>23</td>\n",
       "      <td>5.411139e+06</td>\n",
       "    </tr>\n",
       "    <tr>\n",
       "      <td>24</td>\n",
       "      <td>5.496116e+06</td>\n",
       "    </tr>\n",
       "    <tr>\n",
       "      <td>25</td>\n",
       "      <td>5.376204e+06</td>\n",
       "    </tr>\n",
       "    <tr>\n",
       "      <td>26</td>\n",
       "      <td>4.571042e+06</td>\n",
       "    </tr>\n",
       "    <tr>\n",
       "      <td>27</td>\n",
       "      <td>4.765702e+06</td>\n",
       "    </tr>\n",
       "    <tr>\n",
       "      <td>28</td>\n",
       "      <td>5.990000e+06</td>\n",
       "    </tr>\n",
       "    <tr>\n",
       "      <td>29</td>\n",
       "      <td>9.200000e+06</td>\n",
       "    </tr>\n",
       "    <tr>\n",
       "      <td>30</td>\n",
       "      <td>1.015000e+07</td>\n",
       "    </tr>\n",
       "    <tr>\n",
       "      <td>31</td>\n",
       "      <td>5.700000e+06</td>\n",
       "    </tr>\n",
       "    <tr>\n",
       "      <td>32</td>\n",
       "      <td>9.900000e+06</td>\n",
       "    </tr>\n",
       "    <tr>\n",
       "      <td>33</td>\n",
       "      <td>9.900000e+06</td>\n",
       "    </tr>\n",
       "  </tbody>\n",
       "</table>\n",
       "</div>"
      ],
      "text/plain": [
       "         last_price\n",
       "floor              \n",
       "1      4.160474e+06\n",
       "2      4.727048e+06\n",
       "3      4.894708e+06\n",
       "4      4.873951e+06\n",
       "5      4.622358e+06\n",
       "6      5.264891e+06\n",
       "7      5.116754e+06\n",
       "8      5.094503e+06\n",
       "9      5.076549e+06\n",
       "10     5.396741e+06\n",
       "11     5.456481e+06\n",
       "12     5.433257e+06\n",
       "13     5.461194e+06\n",
       "14     5.302409e+06\n",
       "15     5.296633e+06\n",
       "16     5.421473e+06\n",
       "17     5.172536e+06\n",
       "18     5.225236e+06\n",
       "19     5.143489e+06\n",
       "20     5.330634e+06\n",
       "21     5.327061e+06\n",
       "22     5.780966e+06\n",
       "23     5.411139e+06\n",
       "24     5.496116e+06\n",
       "25     5.376204e+06\n",
       "26     4.571042e+06\n",
       "27     4.765702e+06\n",
       "28     5.990000e+06\n",
       "29     9.200000e+06\n",
       "30     1.015000e+07\n",
       "31     5.700000e+06\n",
       "32     9.900000e+06\n",
       "33     9.900000e+06"
      ]
     },
     "execution_count": 187,
     "metadata": {},
     "output_type": "execute_result"
    }
   ],
   "source": [
    "data[['floor', 'last_price']].query(last_price_query).pivot_table(index='floor', values='last_price')"
   ]
  },
  {
   "cell_type": "code",
   "execution_count": 188,
   "metadata": {},
   "outputs": [
    {
     "name": "stdout",
     "output_type": "stream",
     "text": [
      "Correlation of property value from floor: 0.13\n"
     ]
    }
   ],
   "source": [
    "cor_clea_floor = clean_data['floor'].corr(clean_data['last_price'])\n",
    "print(\"Correlation of property value from floor: {:.2f}\".format(cor_clea_floor))"
   ]
  },
  {
   "cell_type": "markdown",
   "metadata": {},
   "source": [
    "<font color=green>The dependence of the value of the real estate on the distance to the city center (m).</font>"
   ]
  },
  {
   "cell_type": "code",
   "execution_count": 189,
   "metadata": {},
   "outputs": [
    {
     "data": {
      "image/png": "[encoded data removed]",
      "text/plain": [
       "<Figure size 432x288 with 1 Axes>"
      ]
     },
     "metadata": {
      "needs_background": "light"
     },
     "output_type": "display_data"
    }
   ],
   "source": [
    "clean_data = data.query(last_price_query)\n",
    "data.plot(x='cityCenters_nearest', y='last_price', kind='scatter')\n",
    "plt.show()"
   ]
  },
  {
   "cell_type": "code",
   "execution_count": 190,
   "metadata": {},
   "outputs": [
    {
     "name": "stdout",
     "output_type": "stream",
     "text": [
      "Correlation of property value from the number of rooms: 0.11\n"
     ]
    }
   ],
   "source": [
    "cor_clean_cityCenters = clean_data['cityCenters_nearest'].corr(clean_data['last_price'])\n",
    "print(\"Correlation of property value from the number of rooms: {:.2f}\".format(cor_clean_cityCenters))"
   ]
  },
  {
   "cell_type": "markdown",
   "metadata": {},
   "source": [
    "<font color=green>The dependence of the value of the real estate on the date of publication of the announcement.</font>"
   ]
  },
  {
   "cell_type": "code",
   "execution_count": 191,
   "metadata": {},
   "outputs": [],
   "source": [
    "clean_data = data.query(f'{days_exposition_query} and {last_price_query}')"
   ]
  },
  {
   "cell_type": "code",
   "execution_count": 192,
   "metadata": {},
   "outputs": [
    {
     "data": {
      "text/html": [
       "<div>\n",
       "<style scoped>\n",
       "    .dataframe tbody tr th:only-of-type {\n",
       "        vertical-align: middle;\n",
       "    }\n",
       "\n",
       "    .dataframe tbody tr th {\n",
       "        vertical-align: top;\n",
       "    }\n",
       "\n",
       "    .dataframe thead th {\n",
       "        text-align: right;\n",
       "    }\n",
       "</style>\n",
       "<table border=\"1\" class=\"dataframe\">\n",
       "  <thead>\n",
       "    <tr style=\"text-align: right;\">\n",
       "      <th></th>\n",
       "      <th>day_week</th>\n",
       "      <th>month</th>\n",
       "      <th>year</th>\n",
       "      <th>last_price</th>\n",
       "    </tr>\n",
       "  </thead>\n",
       "  <tbody>\n",
       "    <tr>\n",
       "      <td>day_week</td>\n",
       "      <td>1.000000</td>\n",
       "      <td>0.010180</td>\n",
       "      <td>-0.013679</td>\n",
       "      <td>-0.012430</td>\n",
       "    </tr>\n",
       "    <tr>\n",
       "      <td>month</td>\n",
       "      <td>0.010180</td>\n",
       "      <td>1.000000</td>\n",
       "      <td>-0.305183</td>\n",
       "      <td>0.004125</td>\n",
       "    </tr>\n",
       "    <tr>\n",
       "      <td>year</td>\n",
       "      <td>-0.013679</td>\n",
       "      <td>-0.305183</td>\n",
       "      <td>1.000000</td>\n",
       "      <td>0.028693</td>\n",
       "    </tr>\n",
       "    <tr>\n",
       "      <td>last_price</td>\n",
       "      <td>-0.012430</td>\n",
       "      <td>0.004125</td>\n",
       "      <td>0.028693</td>\n",
       "      <td>1.000000</td>\n",
       "    </tr>\n",
       "  </tbody>\n",
       "</table>\n",
       "</div>"
      ],
      "text/plain": [
       "            day_week     month      year  last_price\n",
       "day_week    1.000000  0.010180 -0.013679   -0.012430\n",
       "month       0.010180  1.000000 -0.305183    0.004125\n",
       "year       -0.013679 -0.305183  1.000000    0.028693\n",
       "last_price -0.012430  0.004125  0.028693    1.000000"
      ]
     },
     "execution_count": 192,
     "metadata": {},
     "output_type": "execute_result"
    }
   ],
   "source": [
    "clean_data[['day_week', 'month', 'year', 'last_price']].corr()"
   ]
  },
  {
   "cell_type": "markdown",
   "metadata": {},
   "source": [
    "<font color=green>Construct histograms of the dependencies of each of the parameters on the number of apartments sold.</font><br>\n",
    "<font color=green>Such histograms have already been built, but now we will build histograms after cleaning.</font>"
   ]
  },
  {
   "cell_type": "code",
   "execution_count": 193,
   "metadata": {},
   "outputs": [
    {
     "name": "stdout",
     "output_type": "stream",
     "text": [
      "AxesSubplot(0.125,0.125;0.775x0.755)\n"
     ]
    },
    {
     "data": {
      "image/png": "[encoded data removed]",
      "text/plain": [
       "<Figure size 432x288 with 1 Axes>"
      ]
     },
     "metadata": {
      "needs_background": "light"
     },
     "output_type": "display_data"
    },
    {
     "name": "stdout",
     "output_type": "stream",
     "text": [
      "AxesSubplot(0.125,0.125;0.775x0.755)\n"
     ]
    },
    {
     "data": {
      "image/png": "[encoded data removed]",
      "text/plain": [
       "<Figure size 432x288 with 1 Axes>"
      ]
     },
     "metadata": {
      "needs_background": "light"
     },
     "output_type": "display_data"
    },
    {
     "name": "stdout",
     "output_type": "stream",
     "text": [
      "AxesSubplot(0.125,0.125;0.775x0.755)\n"
     ]
    },
    {
     "data": {
      "image/png": "[encoded data removed]",
      "text/plain": [
       "<Figure size 432x288 with 1 Axes>"
      ]
     },
     "metadata": {
      "needs_background": "light"
     },
     "output_type": "display_data"
    },
    {
     "name": "stdout",
     "output_type": "stream",
     "text": [
      "AxesSubplot(0.125,0.125;0.775x0.755)\n"
     ]
    },
    {
     "data": {
      "image/png": "[encoded data removed]",
      "text/plain": [
       "<Figure size 432x288 with 1 Axes>"
      ]
     },
     "metadata": {
      "needs_background": "light"
     },
     "output_type": "display_data"
    },
    {
     "name": "stdout",
     "output_type": "stream",
     "text": [
      "AxesSubplot(0.125,0.125;0.775x0.755)\n"
     ]
    },
    {
     "data": {
      "image/png": "[encoded data removed]",
      "text/plain": [
       "<Figure size 432x288 with 1 Axes>"
      ]
     },
     "metadata": {
      "needs_background": "light"
     },
     "output_type": "display_data"
    }
   ],
   "source": [
    "hist_plots(data,\n",
    "    ['total_area', 'last_price', 'rooms', 'ceiling_height', 'days_exposition'],\n",
    "    [80, 30, 5, 10, 80],\n",
    "    [(0, 150), (0, 15000000), (0, 5), (2.25, 3.25), (0, 300)],\n",
    "    [(0, 1100), None, None, None, (0, 600)],\n",
    "    [\n",
    "        \"Histogram of the dependence of the area of ​​the apartment on the number of sales\",\n",
    "        \"Histogram of the dependence of the price of the apartment on the number of sales\",\n",
    "        \"Histogram of the dependence of the number of rooms in the apartment on the number of sales\",\n",
    "        \"Histogram of the dependence of the ceiling height in the apartment on the number of sales\",\n",
    "        \"Bar chart of the term of the sale of the apartment on the number of sales\"\n",
    "    ]\n",
    ")"
   ]
  },
  {
   "cell_type": "markdown",
   "metadata": {},
   "source": [
    "**Conclusion:**<br> \n",
    "**4.2. Task 2.**\n",
    "\n",
    "- According to the graphs and the correlation coefficient of the dependence of the value of real estate on the price per square meter, we see that there is a relationship between the change in the price per square meter and the value of real estate, it is 0.63.\n",
    "- According to the graphs and the correlation coefficient of the dependence of the value of real estate on the number of rooms, we can say that there is a relationship between the change in the value of real estate and the number of rooms, but it is weak, equal to 0.45.\n",
    "- According to the graphs and the correlation coefficient of the dependence of the value of real estate on the floor, we can say that there is a relationship between the change in the value of real estate and floor, but it is weak, equal to 0.13. It is noteworthy that the apartments on the ground floor are the cheapest from 4 000 000 rub.\n",
    "- Apartments with an area of 35 to 60 sq. M are best sold.\n",
    "- Most of all apartments with a price of 2 500 000 rub. up to 7 000 000 rub.\n",
    "- The one-room and two-room apartments are most in demand.\n",
    "- The most popular ceiling height 2.5m - 2.8m\n",
    "- Most apartments are sold pretty quickly. from 0 to 95-160 days."
   ]
  },
  {
   "cell_type": "markdown",
   "metadata": {},
   "source": [
    "**4.3. Task 3.** <a class=\"anchor\" id=\"fourth4-3-bullet\"></a><br>\n",
    "**What factors most affect the value of the apartment?**\n",
    "- Examine whether the price depends on square meter, number of rooms, floor (first or last), remoteness from the center. Also study the dependence on the date of placement: day of the week, month and year.\n",
    "- Select 10 locations with the most ads.\n",
    "- Calculate the average price per square meter in these settlements.\n",
    "- Highlight the settlements with the highest and lowest cost of housing. This data can be found by name in the column 'locality_name'."
   ]
  },
  {
   "cell_type": "markdown",
   "metadata": {},
   "source": [
    "<font color=green>The dependence of the price of apartments on the parameters: 1) prices per square meter, 2) the number of rooms, floor (first or last), 3) remoteness from the center, from 4) placement date, 5) day of the week, 6) month and 7) year .</font>"
   ]
  },
  {
   "cell_type": "code",
   "execution_count": 194,
   "metadata": {},
   "outputs": [
    {
     "name": "stdout",
     "output_type": "stream",
     "text": [
      "The dependence of the price on the price per square meter: 0.736499\n",
      "The dependence of the price on the number of rooms: 0.363343\n",
      "Dependence of price on floor: 0.363343\n",
      "Dependence of price on distance from the center: -0.206909\n",
      "Dependence of the price on the day of publication: 0.001550\n",
      "Price Dependence on the Month of Publication: 0.002779\n",
      "Dependence of the price on the year of publication: -0.043089\n"
     ]
    }
   ],
   "source": [
    "cor_meter = data['last_price'].corr(data['meter_price'])\n",
    "print(\"The dependence of the price on the price per square meter: {:.6f}\".format(cor_meter))\n",
    "\n",
    "cor_rooms = data['last_price'].corr(data['rooms'])\n",
    "print(\"The dependence of the price on the number of rooms: {:.6f}\".format(cor_rooms))\n",
    "\n",
    "data['floor_kind_category'] = data['floor'].astype('category').cat.codes\n",
    "cor_floor = data['last_price'].corr(data['floor_kind_category'])\n",
    "print(\"Dependence of price on floor: {:.6f}\".format(cor_rooms))\n",
    "\n",
    "cor_city = data['last_price'].corr(data[data['cityCenters_nearest'] != -999.99]['cityCenters_nearest'])\n",
    "print(\"Dependence of price on distance from the center: {:.6f}\".format(cor_city))\n",
    "\n",
    "cor_days = data['last_price'].corr(data['day_week'])\n",
    "print (\"Dependence of the price on the day of publication: {:.6f}\".format(cor_days))\n",
    "cor_month = data['last_price'].corr(data['month'])\n",
    "print (\"Price Dependence on the Month of Publication: {:.6f}\".format(cor_month))\n",
    "cor_year = data['last_price'].corr(data['year']) \n",
    "print (\"Dependence of the price on the year of publication: {:.6f}\".format(cor_year))"
   ]
  },
  {
   "cell_type": "markdown",
   "metadata": {},
   "source": [
    "- The price of an apartment depends on the price per square meter. The dependence on the number of rooms is also traced.\n",
    "- The price does not depend on the other parameters presented above - the correlation coefficient is less than 0.1 and tends to zero."
   ]
  },
  {
   "cell_type": "markdown",
   "metadata": {},
   "source": [
    "<font color=green>We analyze the 10 settlements with the largest number of ads.</font><br>"
   ]
  },
  {
   "cell_type": "code",
   "execution_count": 195,
   "metadata": {},
   "outputs": [
    {
     "data": {
      "text/html": [
       "<div>\n",
       "<style scoped>\n",
       "    .dataframe tbody tr th:only-of-type {\n",
       "        vertical-align: middle;\n",
       "    }\n",
       "\n",
       "    .dataframe tbody tr th {\n",
       "        vertical-align: top;\n",
       "    }\n",
       "\n",
       "    .dataframe thead th {\n",
       "        text-align: right;\n",
       "    }\n",
       "</style>\n",
       "<table border=\"1\" class=\"dataframe\">\n",
       "  <thead>\n",
       "    <tr style=\"text-align: right;\">\n",
       "      <th></th>\n",
       "      <th>locality_name</th>\n",
       "      <th>count</th>\n",
       "    </tr>\n",
       "  </thead>\n",
       "  <tbody>\n",
       "    <tr>\n",
       "      <td>34</td>\n",
       "      <td>Санкт-Петербург</td>\n",
       "      <td>15721</td>\n",
       "    </tr>\n",
       "    <tr>\n",
       "      <td>292</td>\n",
       "      <td>посёлок Мурино</td>\n",
       "      <td>522</td>\n",
       "    </tr>\n",
       "    <tr>\n",
       "      <td>327</td>\n",
       "      <td>посёлок Шушары</td>\n",
       "      <td>440</td>\n",
       "    </tr>\n",
       "    <tr>\n",
       "      <td>4</td>\n",
       "      <td>Всеволожск</td>\n",
       "      <td>398</td>\n",
       "    </tr>\n",
       "    <tr>\n",
       "      <td>33</td>\n",
       "      <td>Пушкин</td>\n",
       "      <td>369</td>\n",
       "    </tr>\n",
       "    <tr>\n",
       "      <td>14</td>\n",
       "      <td>Колпино</td>\n",
       "      <td>338</td>\n",
       "    </tr>\n",
       "    <tr>\n",
       "      <td>297</td>\n",
       "      <td>посёлок Парголово</td>\n",
       "      <td>327</td>\n",
       "    </tr>\n",
       "    <tr>\n",
       "      <td>7</td>\n",
       "      <td>Гатчина</td>\n",
       "      <td>307</td>\n",
       "    </tr>\n",
       "    <tr>\n",
       "      <td>94</td>\n",
       "      <td>деревня Кудрово</td>\n",
       "      <td>299</td>\n",
       "    </tr>\n",
       "    <tr>\n",
       "      <td>5</td>\n",
       "      <td>Выборг</td>\n",
       "      <td>237</td>\n",
       "    </tr>\n",
       "  </tbody>\n",
       "</table>\n",
       "</div>"
      ],
      "text/plain": [
       "         locality_name  count\n",
       "34     Санкт-Петербург  15721\n",
       "292     посёлок Мурино    522\n",
       "327     посёлок Шушары    440\n",
       "4           Всеволожск    398\n",
       "33              Пушкин    369\n",
       "14             Колпино    338\n",
       "297  посёлок Парголово    327\n",
       "7              Гатчина    307\n",
       "94     деревня Кудрово    299\n",
       "5               Выборг    237"
      ]
     },
     "execution_count": 195,
     "metadata": {},
     "output_type": "execute_result"
    }
   ],
   "source": [
    "top_city = data.groupby('locality_name')['last_price'].count().reset_index(name='count').sort_values(['count'], ascending=False).head(10)\n",
    "top_city"
   ]
  },
  {
   "cell_type": "markdown",
   "metadata": {},
   "source": [
    "<font color=green>We calculate the average price per square meter in these settlements.</font>"
   ]
  },
  {
   "cell_type": "code",
   "execution_count": 196,
   "metadata": {},
   "outputs": [
    {
     "data": {
      "text/html": [
       "<div>\n",
       "<style scoped>\n",
       "    .dataframe tbody tr th:only-of-type {\n",
       "        vertical-align: middle;\n",
       "    }\n",
       "\n",
       "    .dataframe tbody tr th {\n",
       "        vertical-align: top;\n",
       "    }\n",
       "\n",
       "    .dataframe thead th {\n",
       "        text-align: right;\n",
       "    }\n",
       "</style>\n",
       "<table border=\"1\" class=\"dataframe\">\n",
       "  <thead>\n",
       "    <tr style=\"text-align: right;\">\n",
       "      <th></th>\n",
       "      <th>locality_name</th>\n",
       "      <th>count</th>\n",
       "      <th>mean_price</th>\n",
       "    </tr>\n",
       "  </thead>\n",
       "  <tbody>\n",
       "    <tr>\n",
       "      <td>34</td>\n",
       "      <td>Санкт-Петербург</td>\n",
       "      <td>15721</td>\n",
       "      <td>104761.0</td>\n",
       "    </tr>\n",
       "    <tr>\n",
       "      <td>292</td>\n",
       "      <td>посёлок Мурино</td>\n",
       "      <td>522</td>\n",
       "      <td>85878.0</td>\n",
       "    </tr>\n",
       "    <tr>\n",
       "      <td>327</td>\n",
       "      <td>посёлок Шушары</td>\n",
       "      <td>440</td>\n",
       "      <td>76876.0</td>\n",
       "    </tr>\n",
       "    <tr>\n",
       "      <td>4</td>\n",
       "      <td>Всеволожск</td>\n",
       "      <td>398</td>\n",
       "      <td>65789.0</td>\n",
       "    </tr>\n",
       "    <tr>\n",
       "      <td>33</td>\n",
       "      <td>Пушкин</td>\n",
       "      <td>369</td>\n",
       "      <td>100000.0</td>\n",
       "    </tr>\n",
       "    <tr>\n",
       "      <td>14</td>\n",
       "      <td>Колпино</td>\n",
       "      <td>338</td>\n",
       "      <td>74723.5</td>\n",
       "    </tr>\n",
       "    <tr>\n",
       "      <td>297</td>\n",
       "      <td>посёлок Парголово</td>\n",
       "      <td>327</td>\n",
       "      <td>91642.0</td>\n",
       "    </tr>\n",
       "    <tr>\n",
       "      <td>7</td>\n",
       "      <td>Гатчина</td>\n",
       "      <td>307</td>\n",
       "      <td>67796.0</td>\n",
       "    </tr>\n",
       "    <tr>\n",
       "      <td>94</td>\n",
       "      <td>деревня Кудрово</td>\n",
       "      <td>299</td>\n",
       "      <td>91860.0</td>\n",
       "    </tr>\n",
       "    <tr>\n",
       "      <td>5</td>\n",
       "      <td>Выборг</td>\n",
       "      <td>237</td>\n",
       "      <td>58158.0</td>\n",
       "    </tr>\n",
       "  </tbody>\n",
       "</table>\n",
       "</div>"
      ],
      "text/plain": [
       "         locality_name  count  mean_price\n",
       "34     Санкт-Петербург  15721    104761.0\n",
       "292     посёлок Мурино    522     85878.0\n",
       "327     посёлок Шушары    440     76876.0\n",
       "4           Всеволожск    398     65789.0\n",
       "33              Пушкин    369    100000.0\n",
       "14             Колпино    338     74723.5\n",
       "297  посёлок Парголово    327     91642.0\n",
       "7              Гатчина    307     67796.0\n",
       "94     деревня Кудрово    299     91860.0\n",
       "5               Выборг    237     58158.0"
      ]
     },
     "execution_count": 196,
     "metadata": {},
     "output_type": "execute_result"
    }
   ],
   "source": [
    "def mean_price(row):\n",
    "    return data[data['locality_name'] == row]['meter_price'].median()\n",
    "\n",
    "top_city['mean_price'] = top_city['locality_name'].apply(mean_price)\n",
    "top_city"
   ]
  },
  {
   "cell_type": "markdown",
   "metadata": {},
   "source": [
    "<font color=green>It will find the settlements with the highest and lowest cost of housing.</font>"
   ]
  },
  {
   "cell_type": "code",
   "execution_count": 197,
   "metadata": {},
   "outputs": [
    {
     "name": "stdout",
     "output_type": "stream",
     "text": [
      "The highest cost of housing in \" Санкт-Петербург\"\n",
      "Lowest cost of housing in \" Выборг\"\n"
     ]
    }
   ],
   "source": [
    "print(f\"The highest cost of housing in \\\"{top_city.sort_values(by='mean_price', ascending=False).head(1)['locality_name'].to_string(index=False)}\\\"\")\n",
    "print(f\"Lowest cost of housing in \\\"{top_city.sort_values(by='mean_price').head(1)['locality_name'].to_string(index=False)}\\\"\")"
   ]
  },
  {
   "cell_type": "markdown",
   "metadata": {},
   "source": [
    "**4.4. Task 4.** <a class=\"anchor\" id=\"fourth4-4-bullet\"></a><br>\n",
    "**Study the offers of apartments in St. Petersburg.**\n",
    "- For each apartment, there is information about the distance to the center. Highlight apartments in St. Petersburg ('locality_name'). Your task is to find out which area is in the center. Create a column with the distance to the center in kilometers: round to integer values.\n",
    "- After that, calculate the average price for each kilometer.\n",
    "- Build a chart: it should show how the price depends on the distance from the center.\n",
    "- Define the border where the graph changes a lot - this will be the central zone."
   ]
  },
  {
   "cell_type": "markdown",
   "metadata": {},
   "source": [
    "<font color=green>We filter the data by location \"St. Petersburg\":</font>"
   ]
  },
  {
   "cell_type": "code",
   "execution_count": 198,
   "metadata": {},
   "outputs": [
    {
     "name": "stdout",
     "output_type": "stream",
     "text": [
      "The number of apartments for sale in St. Petersburg:\"15721\"\n"
     ]
    }
   ],
   "source": [
    "spb_city = pd.DataFrame(data.loc[data['locality_name'] == 'Санкт-Петербург'])\n",
    "spb_city.reset_index()\n",
    "print (f\"The number of apartments for sale in St. Petersburg:\\\"{len(spb_city)}\\\"\")"
   ]
  },
  {
   "cell_type": "markdown",
   "metadata": {},
   "source": [
    "<font color=green>Create a column with the distance to the center in kilometers rounding to integer values.</font>"
   ]
  },
  {
   "cell_type": "code",
   "execution_count": 199,
   "metadata": {},
   "outputs": [
    {
     "data": {
      "text/html": [
       "<div>\n",
       "<style scoped>\n",
       "    .dataframe tbody tr th:only-of-type {\n",
       "        vertical-align: middle;\n",
       "    }\n",
       "\n",
       "    .dataframe tbody tr th {\n",
       "        vertical-align: top;\n",
       "    }\n",
       "\n",
       "    .dataframe thead th {\n",
       "        text-align: right;\n",
       "    }\n",
       "</style>\n",
       "<table border=\"1\" class=\"dataframe\">\n",
       "  <thead>\n",
       "    <tr style=\"text-align: right;\">\n",
       "      <th></th>\n",
       "      <th>cityCenters_nearest_km</th>\n",
       "      <th>cityCenters_nearest</th>\n",
       "    </tr>\n",
       "  </thead>\n",
       "  <tbody>\n",
       "    <tr>\n",
       "      <td>0</td>\n",
       "      <td>16.028</td>\n",
       "      <td>16028.0</td>\n",
       "    </tr>\n",
       "    <tr>\n",
       "      <td>2</td>\n",
       "      <td>13.933</td>\n",
       "      <td>13933.0</td>\n",
       "    </tr>\n",
       "    <tr>\n",
       "      <td>3</td>\n",
       "      <td>6.800</td>\n",
       "      <td>6800.0</td>\n",
       "    </tr>\n",
       "    <tr>\n",
       "      <td>4</td>\n",
       "      <td>8.098</td>\n",
       "      <td>8098.0</td>\n",
       "    </tr>\n",
       "    <tr>\n",
       "      <td>7</td>\n",
       "      <td>11.634</td>\n",
       "      <td>11634.0</td>\n",
       "    </tr>\n",
       "  </tbody>\n",
       "</table>\n",
       "</div>"
      ],
      "text/plain": [
       "   cityCenters_nearest_km  cityCenters_nearest\n",
       "0                  16.028              16028.0\n",
       "2                  13.933              13933.0\n",
       "3                   6.800               6800.0\n",
       "4                   8.098               8098.0\n",
       "7                  11.634              11634.0"
      ]
     },
     "execution_count": 199,
     "metadata": {},
     "output_type": "execute_result"
    }
   ],
   "source": [
    "km = 1_000\n",
    "spb_city['cityCenters_nearest_km'] = (spb_city['cityCenters_nearest'] / km)\n",
    "spb_city[:5][['cityCenters_nearest_km', 'cityCenters_nearest']]"
   ]
  },
  {
   "cell_type": "markdown",
   "metadata": {},
   "source": [
    "<font color=green>We’ll build a graph that shows how the price depends on the distance from the center:</font>"
   ]
  },
  {
   "cell_type": "code",
   "execution_count": 200,
   "metadata": {},
   "outputs": [
    {
     "data": {
      "image/png": "[encoded data removed]",
      "text/plain": [
       "<Figure size 432x288 with 1 Axes>"
      ]
     },
     "metadata": {
      "needs_background": "light"
     },
     "output_type": "display_data"
    }
   ],
   "source": [
    "(\n",
    "    pd.DataFrame(spb_city.pivot_table(index='cityCenters_nearest_km', values='last_price').to_records())\n",
    "    .plot(x='cityCenters_nearest_km', y='last_price', kind='scatter', grid=True)\n",
    ")\n",
    "plt.show()"
   ]
  },
  {
   "cell_type": "markdown",
   "metadata": {},
   "source": [
    "We define the border where the graph changes a lot - this will be the central zone. The graph changes abruptly at x = 7500. This means that the center includes all apartments in which the distance to the center is less than 7500."
   ]
  },
  {
   "cell_type": "markdown",
   "metadata": {},
   "source": [
    "**4.5. Task 5.** <a class=\"anchor\" id=\"fourth4-5-bullet\"></a><br>\n",
    "**Select the segment of apartments in the center.**\n",
    "- Analyze this territory and study the following parameters: area, price, number of rooms, ceiling height.\n",
    "- Also highlight the factors that affect the cost of the apartment (number of rooms, floor, distance from the center, date of the advertisement).\n",
    "- Draw conclusions. Do they differ from general findings throughout the city?"
   ]
  },
  {
   "cell_type": "markdown",
   "metadata": {},
   "source": [
    "<font color=green>Find out which region is in the center of St. Petersburg.</font>"
   ]
  },
  {
   "cell_type": "code",
   "execution_count": 202,
   "metadata": {},
   "outputs": [
    {
     "name": "stdout",
     "output_type": "stream",
     "text": [
      "The number of apartments for sale in the center of St. Petersburg:\"3305\"\n"
     ]
    }
   ],
   "source": [
    "flat_spb_centr = pd.DataFrame(spb_city.query('cityCenters_nearest_km <= 7'))\n",
    "print (f\"The number of apartments for sale in the center of St. Petersburg:\\\"{len(flat_spb_centr)}\\\"\")"
   ]
  },
  {
   "cell_type": "code",
   "execution_count": 210,
   "metadata": {},
   "outputs": [
    {
     "name": "stdout",
     "output_type": "stream",
     "text": [
      "\n",
      "Center of St. Petersburg:\n",
      "Median apartment prices: 9200000.0\n",
      "Median ceiling heights: 2.8\n",
      "Median living space: 43.0\n",
      "Median kitchen area: 11.2\n",
      "Median number of rooms: 3.0\n",
      "\n",
      "The whole city of St. Petersburg: \n",
      "Median apartment prices: 5500000.0\n",
      "Median ceiling heights: 2.65\n",
      "Median living space: 30.1\n",
      "Median kitchen area: 9.1\n",
      "Median number of rooms: 2.0\n"
     ]
    }
   ],
   "source": [
    "flat_spb_centr = spb_city[spb_city['cityCenters_nearest'] < 7500]\n",
    "flat_spb_centr.reset_index(drop=True, inplace=True)\n",
    "\n",
    "def get_median(data, columns, names):\n",
    "    for i in range(0, len(columns)):\n",
    "        print (f\"Median {names[i]}: {data[columns[i]].median()}\")\n",
    "    return \n",
    "\n",
    "print (\"\\nCenter of St. Petersburg:\")\n",
    "get_median(\n",
    "    flat_spb_centr,\n",
    "    [\n",
    "        'last_price',\n",
    "        'ceiling_height',\n",
    "        'living_area',\n",
    "        'kitchen_area',\n",
    "        'rooms',\n",
    "    ],\n",
    "    [\n",
    "        \"apartment prices\",\n",
    "        \"ceiling heights\",\n",
    "        \"living space\",\n",
    "        \"kitchen area\",\n",
    "        \"number of rooms\"\n",
    "    ]\n",
    ")\n",
    "\n",
    "print (\"\\nThe whole city of St. Petersburg: \")\n",
    "get_median(\n",
    "    spb_city,\n",
    "    [\n",
    "        \"last_price\",\n",
    "        \"ceiling_height\",\n",
    "        \"living_area\",\n",
    "        \"kitchen_area\",\n",
    "        \"rooms\"\n",
    "    ],\n",
    "    [\n",
    "        \"apartment prices\",\n",
    "        \"ceiling heights\",\n",
    "        \"living space\",\n",
    "        \"kitchen area\",\n",
    "        \"number of rooms\"\n",
    "    ]\n",
    ")"
   ]
  },
  {
   "cell_type": "markdown",
   "metadata": {},
   "source": [
    "<font color=green>We highlight the factors affecting the value of the apartment.</font><br>\n",
    "<font color=green>Earlier, we already made a cut for apartments in the center of St. Petersburg, taking into account the normal range of prices. We add the remaining criteria that affect the purity of the data and make a final cut based on them.</font><br>"
   ]
  },
  {
   "cell_type": "code",
   "execution_count": 212,
   "metadata": {},
   "outputs": [
    {
     "data": {
      "text/html": [
       "<div>\n",
       "<style scoped>\n",
       "    .dataframe tbody tr th:only-of-type {\n",
       "        vertical-align: middle;\n",
       "    }\n",
       "\n",
       "    .dataframe tbody tr th {\n",
       "        vertical-align: top;\n",
       "    }\n",
       "\n",
       "    .dataframe thead th {\n",
       "        text-align: right;\n",
       "    }\n",
       "</style>\n",
       "<table border=\"1\" class=\"dataframe\">\n",
       "  <thead>\n",
       "    <tr style=\"text-align: right;\">\n",
       "      <th></th>\n",
       "      <th>spb_city</th>\n",
       "      <th>flat_spb_centr</th>\n",
       "      <th>difference</th>\n",
       "    </tr>\n",
       "  </thead>\n",
       "  <tbody>\n",
       "    <tr>\n",
       "      <td>Price dependence per square meter</td>\n",
       "      <td>0.76</td>\n",
       "      <td>0.79</td>\n",
       "      <td>-0.03</td>\n",
       "    </tr>\n",
       "    <tr>\n",
       "      <td>Dependence of price on floor</td>\n",
       "      <td>-0.03</td>\n",
       "      <td>-0.06</td>\n",
       "      <td>0.03</td>\n",
       "    </tr>\n",
       "    <tr>\n",
       "      <td>Price dependence on the number of rooms</td>\n",
       "      <td>0.37</td>\n",
       "      <td>0.31</td>\n",
       "      <td>0.06</td>\n",
       "    </tr>\n",
       "    <tr>\n",
       "      <td>Dependence of price on distance from cent</td>\n",
       "      <td>-0.25</td>\n",
       "      <td>-0.04</td>\n",
       "      <td>-0.21</td>\n",
       "    </tr>\n",
       "    <tr>\n",
       "      <td>Price Dependence on Ceiling Height</td>\n",
       "      <td>0.06</td>\n",
       "      <td>0.07</td>\n",
       "      <td>-0.01</td>\n",
       "    </tr>\n",
       "    <tr>\n",
       "      <td>Dependence of price on the day of publication</td>\n",
       "      <td>0.00</td>\n",
       "      <td>0.02</td>\n",
       "      <td>-0.02</td>\n",
       "    </tr>\n",
       "    <tr>\n",
       "      <td>Dependence of the price on the month of publication</td>\n",
       "      <td>0.00</td>\n",
       "      <td>-0.01</td>\n",
       "      <td>0.01</td>\n",
       "    </tr>\n",
       "    <tr>\n",
       "      <td>Dependence of the price on the year of publication</td>\n",
       "      <td>-0.04</td>\n",
       "      <td>-0.04</td>\n",
       "      <td>0.00</td>\n",
       "    </tr>\n",
       "    <tr>\n",
       "      <td>Median apartment prices</td>\n",
       "      <td>5500000.00</td>\n",
       "      <td>9200000.00</td>\n",
       "      <td>-3700000.00</td>\n",
       "    </tr>\n",
       "    <tr>\n",
       "      <td>Median ceiling height</td>\n",
       "      <td>2.65</td>\n",
       "      <td>2.80</td>\n",
       "      <td>-0.15</td>\n",
       "    </tr>\n",
       "    <tr>\n",
       "      <td>Median of living space</td>\n",
       "      <td>31.20</td>\n",
       "      <td>46.00</td>\n",
       "      <td>-14.80</td>\n",
       "    </tr>\n",
       "    <tr>\n",
       "      <td>Median of kitchen area</td>\n",
       "      <td>9.70</td>\n",
       "      <td>11.90</td>\n",
       "      <td>-2.20</td>\n",
       "    </tr>\n",
       "    <tr>\n",
       "      <td>Median of the number of rooms</td>\n",
       "      <td>2.00</td>\n",
       "      <td>3.00</td>\n",
       "      <td>-1.00</td>\n",
       "    </tr>\n",
       "  </tbody>\n",
       "</table>\n",
       "</div>"
      ],
      "text/plain": [
       "                                                      spb_city  \\\n",
       "Price dependence per square meter                         0.76   \n",
       "Dependence of price on floor                             -0.03   \n",
       "Price dependence on the number of rooms                   0.37   \n",
       "Dependence of price on distance from cent                -0.25   \n",
       "Price Dependence on Ceiling Height                        0.06   \n",
       "Dependence of price on the day of publication             0.00   \n",
       "Dependence of the price on the month of publica...        0.00   \n",
       "Dependence of the price on the year of publication       -0.04   \n",
       "Median apartment prices                             5500000.00   \n",
       "Median ceiling height                                     2.65   \n",
       "Median of living space                                   31.20   \n",
       "Median of kitchen area                                    9.70   \n",
       "Median of the number of rooms                             2.00   \n",
       "\n",
       "                                                    flat_spb_centr  difference  \n",
       "Price dependence per square meter                             0.79       -0.03  \n",
       "Dependence of price on floor                                 -0.06        0.03  \n",
       "Price dependence on the number of rooms                       0.31        0.06  \n",
       "Dependence of price on distance from cent                    -0.04       -0.21  \n",
       "Price Dependence on Ceiling Height                            0.07       -0.01  \n",
       "Dependence of price on the day of publication                 0.02       -0.02  \n",
       "Dependence of the price on the month of publica...           -0.01        0.01  \n",
       "Dependence of the price on the year of publication           -0.04        0.00  \n",
       "Median apartment prices                                 9200000.00 -3700000.00  \n",
       "Median ceiling height                                         2.80       -0.15  \n",
       "Median of living space                                       46.00      -14.80  \n",
       "Median of kitchen area                                       11.90       -2.20  \n",
       "Median of the number of rooms                                 3.00       -1.00  "
      ]
     },
     "execution_count": 212,
     "metadata": {},
     "output_type": "execute_result"
    }
   ],
   "source": [
    "parameter = [\n",
    "    \"Price dependence per square meter\",\n",
    "    \"Dependence of price on floor\",\n",
    "    \"Price dependence on the number of rooms\",\n",
    "    \"Dependence of price on distance from cent\",\n",
    "    \"Price Dependence on Ceiling Height\",\n",
    "    \"Dependence of price on the day of publication\",\n",
    "    \"Dependence of the price on the month of publication\",\n",
    "    \"Dependence of the price on the year of publication\",\n",
    "    \"Median apartment prices\",\n",
    "    \"Median ceiling height\",\n",
    "    \"Median of living space\",\n",
    "    \"Median of kitchen area\",\n",
    "    \"Median of the number of rooms\"\n",
    "]\n",
    "\n",
    "city_total_spb = { \n",
    "    'spb_city': [0.76, -0.03, 0.37, -0.25, 0.06, 0.00, 0.00, -0.04, 5500000.0, 2.65, 31.2, 9.7, 2.0],\n",
    "    'flat_spb_centr': [0.79, -0.06, 0.31, -0.04, 0.07, 0.02, -0.01, -0.04, 9200000.0, 2.8, 46.0, 11.9, 3.0]\n",
    "}\n",
    "\n",
    "compare_data = pd.DataFrame(city_total_spb, index=parameter)\n",
    "compare_data['difference'] = (compare_data['spb_city'] - compare_data['flat_spb_centr']).round(2)\n",
    "compare_data"
   ]
  },
  {
   "cell_type": "markdown",
   "metadata": {},
   "source": [
    "**Conclusion:**<br> \n",
    "**4.5. Task 5.**\n",
    "- The number of apartments for sale in the center of St. Petersburg: 3305\n",
    "- The average apartment price in St. Petersburg: 5 500 000 rub.\n",
    "- Average apartment prices in the center of St. Petersburg: 9,200,000 rubles.\n",
    "- The average area of an apartment in St. Petersburg: 31.20 sq.m\n",
    "- The average area of an apartment in the center of St. Petersburg: 46.00 sq.m\n",
    "- The cost of an apartment in St. Petersburg is strongly influenced by: 1) the price of a square meter, 2) the location of the apartment, 3) the number of rooms\n",
    "- In the center of St. Petersburg, apartments are expensive despite the average area of ​​apartments in the center of 46.00 sq.m. An interesting observation, apartments in such houses usually have high ceilings, a large living area, a large kitchen and at least 3 rooms. Also, according to the latest schedules, apartments in the center are sold pretty quickly."
   ]
  },
  {
   "cell_type": "markdown",
   "metadata": {},
   "source": [
    "## Step 5. General conclusion <a class=\"anchor\" id=\"fifth-bullet\"></a>"
   ]
  },
  {
   "cell_type": "markdown",
   "metadata": {},
   "source": [
    "So I examined the sample provided by the Yandex.Real Estate service:\n",
    "- Studied the data on sales of apartments;\n",
    "- categorized and restored data;\n",
    "- Found patterns in the data and filled all the gaps;\n",
    "- Built graphs of the dependence of the price of the apartment on its parameters;\n",
    "- In the sample, the city with the largest number of advertisements for the sale of apartments was found;\n",
    "- Highlighted a segment of ads that are sold in the center of St. Petersburg;\n",
    "- The dependence of the price of the apartment on its parameters for the city center has been determined.\n",
    "\n",
    "The parameters that directly affect the cost of the apartment are defined:\n",
    "- Location of the apartment (city / suburb, center / non-center);\n",
    "- Number of rooms\n",
    "- Living area of the apartment;\n",
    "- number of rooms;\n",
    "- Minor data such as “ceiling height, publication date” have little impact on pricing.\n",
    "\n",
    "***"
   ]
  }
 ],
 "metadata": {
  "kernelspec": {
   "display_name": "Python 3",
   "language": "python",
   "name": "python3"
  },
  "language_info": {
   "codemirror_mode": {
    "name": "ipython",
    "version": 3
   },
   "file_extension": ".py",
   "mimetype": "text/x-python",
   "name": "python",
   "nbconvert_exporter": "python",
   "pygments_lexer": "ipython3",
   "version": "3.7.4"
  }
 },
 "nbformat": 4,
 "nbformat_minor": 2
}
